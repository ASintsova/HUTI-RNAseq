{
 "cells": [
  {
   "cell_type": "code",
   "execution_count": 11,
   "metadata": {
    "collapsed": false
   },
   "outputs": [],
   "source": [
    "import pandas as pd\n",
    "import matplotlib.pyplot as plt \n",
    "from matplotlib_venn import venn2\n",
    "\n",
    "all_strains = pd.read_csv(\"/Users/annasintsova/git_repos/HUTI-RNAseq/analysis/DE/2018-03-06-DEseq2-analysis/data/all_strains_DEseq.csv\", index_col=0)\n",
    "best_strains = pd.read_csv(\"/Users/annasintsova/git_repos/HUTI-RNAseq/analysis/DE/2018-03-06-DEseq2-analysis/data/best_strains_DEseq.csv\", index_col=0)"
   ]
  },
  {
   "cell_type": "code",
   "execution_count": 29,
   "metadata": {
    "collapsed": false
   },
   "outputs": [
    {
     "data": {
      "text/plain": [
       "(1245, 6)"
      ]
     },
     "execution_count": 29,
     "metadata": {},
     "output_type": "execute_result"
    }
   ],
   "source": [
    "all_strains = all_strains.dropna()\n",
    "all_strains_sign = all_strains[(all_strains.log2FoldChange > 1) | (all_strains.log2FoldChange < -1)]\n",
    "all_strains_sign.shape"
   ]
  },
  {
   "cell_type": "code",
   "execution_count": 28,
   "metadata": {
    "collapsed": false
   },
   "outputs": [
    {
     "data": {
      "text/plain": [
       "(1209, 6)"
      ]
     },
     "execution_count": 28,
     "metadata": {},
     "output_type": "execute_result"
    }
   ],
   "source": [
    "best_strains = best_strains.dropna()\n",
    "best_strains_sign = best_strains[(best_strains.log2FoldChange > 1) | (best_strains.log2FoldChange < -1)]\n",
    "best_strains_sign.shape"
   ]
  },
  {
   "cell_type": "code",
   "execution_count": 41,
   "metadata": {
    "collapsed": false
   },
   "outputs": [],
   "source": [
    "venn2([set(all_strains_sign.index), set(best_strains_sign.index)], set_labels = (\"all strains\", \"best strains\"), alpha=0.5,\n",
    "     set_colors= (\"b\", \"y\"))\n",
    "\n",
    "plt.savefig(\"../figures/venn_DE_genes_all_vs_best.png\", dpi=500)"
   ]
  },
  {
   "cell_type": "code",
   "execution_count": 46,
   "metadata": {
    "collapsed": false
   },
   "outputs": [
    {
     "data": {
      "image/png": "[encoded data removed]",
      "text/plain": [
       "<matplotlib.figure.Figure at 0x119676908>"
      ]
     },
     "metadata": {},
     "output_type": "display_data"
    }
   ],
   "source": [
    "all_up = all_strains[all_strains.log2FoldChange > 1]\n",
    "best_up = best_strains[best_strains.log2FoldChange > 1] \n",
    "venn2([set(all_up.index), set(best_up.index)], set_labels = (\"all strains (up)\", \"best strains (up)\"), alpha=0.5,\n",
    "     set_colors= (\"r\", \"g\"))\n",
    "plt.savefig(\"../figures/venn_DE_genes_all_vs_best_up.png\", dpi=500)\n",
    "plt.show()"
   ]
  },
  {
   "cell_type": "code",
   "execution_count": 47,
   "metadata": {
    "collapsed": false
   },
   "outputs": [
    {
     "data": {
      "image/png": "[encoded data removed]",
      "text/plain": [
       "<matplotlib.figure.Figure at 0x119848c18>"
      ]
     },
     "metadata": {},
     "output_type": "display_data"
    }
   ],
   "source": [
    "all_down = all_strains[all_strains.log2FoldChange < -1]\n",
    "best_down = best_strains[best_strains.log2FoldChange < -1] \n",
    "venn2([set(all_down.index), set(best_down.index)], set_labels = (\"all strains (down)\", \"best strains (down)\"), alpha=0.5,\n",
    "     set_colors= (\"r\", \"g\"))\n",
    "plt.savefig(\"../figures/venn_DE_genes_all_vs_best_down.png\", dpi=500)\n",
    "plt.show()"
   ]
  },
  {
   "cell_type": "code",
   "execution_count": 67,
   "metadata": {
    "collapsed": true
   },
   "outputs": [],
   "source": [
    "mapped = pd.read_csv(\"/Users/annasintsova/git_repos/HUTI-RNAseq/analysis/DE/2018-03-06-DEseq2-analysis/data/test.csv\",\n",
    "                    index_col=1)"
   ]
  },
  {
   "cell_type": "code",
   "execution_count": 68,
   "metadata": {
    "collapsed": false
   },
   "outputs": [
    {
     "data": {
      "text/html": [
       "<div>\n",
       "<table border=\"1\" class=\"dataframe\">\n",
       "  <thead>\n",
       "    <tr style=\"text-align: right;\">\n",
       "      <th></th>\n",
       "      <th>gene_id</th>\n",
       "    </tr>\n",
       "  </thead>\n",
       "  <tbody>\n",
       "    <tr>\n",
       "      <th>b0001</th>\n",
       "      <td>944742</td>\n",
       "    </tr>\n",
       "    <tr>\n",
       "      <th>b0002</th>\n",
       "      <td>945803</td>\n",
       "    </tr>\n",
       "    <tr>\n",
       "      <th>b0003</th>\n",
       "      <td>947498</td>\n",
       "    </tr>\n",
       "    <tr>\n",
       "      <th>b0004</th>\n",
       "      <td>945198</td>\n",
       "    </tr>\n",
       "    <tr>\n",
       "      <th>b0005</th>\n",
       "      <td>944747</td>\n",
       "    </tr>\n",
       "  </tbody>\n",
       "</table>\n",
       "</div>"
      ],
      "text/plain": [
       "      gene_id\n",
       "b0001  944742\n",
       "b0002  945803\n",
       "b0003  947498\n",
       "b0004  945198\n",
       "b0005  944747"
      ]
     },
     "execution_count": 68,
     "metadata": {},
     "output_type": "execute_result"
    }
   ],
   "source": [
    "mapped.index = [i.split(\":\")[1] for i in mapped.index]\n",
    "#mapped.columns = [\"gene_id\"]\n",
    "mapped[\"gene_id\"] = [c.split(\":\")[1] for c in list(mapped[\"Unnamed: 0\"])]\n",
    "mapped.drop([\"Unnamed: 0\"], axis =1,inplace=True)\n",
    "mapped.head()"
   ]
  },
  {
   "cell_type": "code",
   "execution_count": 87,
   "metadata": {
    "collapsed": true
   },
   "outputs": [],
   "source": [
    "best_strains_sign = best_strains[(best_strains.log2FoldChange > 2) | (best_strains.log2FoldChange < -2)]\n",
    "best_strains_sign.shape\n",
    "genes_of_interest = best_strains_sign.merge(mapped, left_index=True, right_index=True)\n",
    "genes_of_interest.set_index(genes_of_interest.gene_id,inplace=True)"
   ]
  },
  {
   "cell_type": "code",
   "execution_count": 89,
   "metadata": {
    "collapsed": false
   },
   "outputs": [
    {
     "data": {
      "text/plain": [
       "(453, 7)"
      ]
     },
     "execution_count": 89,
     "metadata": {},
     "output_type": "execute_result"
    }
   ],
   "source": [
    "genes_of_interest.head()\n",
    "genes_of_interest.to_csv(\"../data/best_gene_of_interst_eg.csv\")\n",
    "genes_of_interest.shape"
   ]
  },
  {
   "cell_type": "code",
   "execution_count": 86,
   "metadata": {
    "collapsed": false
   },
   "outputs": [],
   "source": [
    "refGene = best_strains.merge(mapped, left_index=True, right_index=True)\n",
    "refGene.set_index(refGene.gene_id,inplace=True)\n",
    "refGene.shape\n",
    "genes_of_interest.to_csv(\"../data/best_refGene_eg.csv\")"
   ]
  },
  {
   "cell_type": "code",
   "execution_count": 84,
   "metadata": {
    "collapsed": false
   },
   "outputs": [
    {
     "data": {
      "text/plain": [
       "Index(['947498', '945198', '944749', '944745', '944748', '944760', '944792',\n",
       "       '944771', '944751', '944750', '944753', '944758', '944757', '944759',\n",
       "       '949129', '944761', '944800', '944807', '944777', '944796', '944762',\n",
       "       '949025', '944775', '944795', '948999', '948995', '948997', '949064',\n",
       "       '944765', '947316', '948939', '944766', '944767', '944773', '944790',\n",
       "       '944770', '944772', '944939', '944919', '944812', '945011', '948992',\n",
       "       '946262', '948523', '944779', '945294', '947511', '946017', '944783',\n",
       "       '944785', '944784', '946306', '944788', '945642', '945076', '944798',\n",
       "       '947465', '949034', '948793', '947267', '944804', '944810', '944806',\n",
       "       '944803', '944799', '944791', '944813', '944818', '946322', '946321',\n",
       "       '946153', '946324', '944823', '944778', '944786', '944816', '944831',\n",
       "       '944821', '944824', '945630', '944873', '949060', '948986', '947481',\n",
       "       '945817', '948869', '948877', '946678', '944827', '944834', '944794',\n",
       "       '944854', '944864', '944809', '947719', '947726', '948472', '947736',\n",
       "       '944830'],\n",
       "      dtype='object', name='gene_id')"
      ]
     },
     "execution_count": 84,
     "metadata": {},
     "output_type": "execute_result"
    }
   ],
   "source": []
  },
  {
   "cell_type": "code",
   "execution_count": null,
   "metadata": {
    "collapsed": true
   },
   "outputs": [],
   "source": []
  }
 ],
 "metadata": {
  "kernelspec": {
   "display_name": "Python 3",
   "language": "python",
   "name": "python3"
  },
  "language_info": {
   "codemirror_mode": {
    "name": "ipython",
    "version": 3
   },
   "file_extension": ".py",
   "mimetype": "text/x-python",
   "name": "python",
   "nbconvert_exporter": "python",
   "pygments_lexer": "ipython3",
   "version": "3.6.0"
  }
 },
 "nbformat": 4,
 "nbformat_minor": 2
}
