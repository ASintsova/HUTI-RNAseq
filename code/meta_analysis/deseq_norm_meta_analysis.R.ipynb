{
 "cells": [
  {
   "cell_type": "code",
   "execution_count": 1,
   "metadata": {},
   "outputs": [
    {
     "name": "stderr",
     "output_type": "stream",
     "text": [
      "Loading required package: S4Vectors\n",
      "Loading required package: stats4\n",
      "Loading required package: BiocGenerics\n",
      "Loading required package: parallel\n",
      "\n",
      "Attaching package: ‘BiocGenerics’\n",
      "\n",
      "The following objects are masked from ‘package:parallel’:\n",
      "\n",
      "    clusterApply, clusterApplyLB, clusterCall, clusterEvalQ,\n",
      "    clusterExport, clusterMap, parApply, parCapply, parLapply,\n",
      "    parLapplyLB, parRapply, parSapply, parSapplyLB\n",
      "\n",
      "The following objects are masked from ‘package:stats’:\n",
      "\n",
      "    IQR, mad, xtabs\n",
      "\n",
      "The following objects are masked from ‘package:base’:\n",
      "\n",
      "    Filter, Find, Map, Position, Reduce, anyDuplicated, append,\n",
      "    as.data.frame, cbind, colnames, do.call, duplicated, eval, evalq,\n",
      "    get, grep, grepl, intersect, is.unsorted, lapply, lengths, mapply,\n",
      "    match, mget, order, paste, pmax, pmax.int, pmin, pmin.int, rank,\n",
      "    rbind, rownames, sapply, setdiff, sort, table, tapply, union,\n",
      "    unique, unsplit, which, which.max, which.min\n",
      "\n",
      "\n",
      "Attaching package: ‘S4Vectors’\n",
      "\n",
      "The following objects are masked from ‘package:base’:\n",
      "\n",
      "    colMeans, colSums, expand.grid, rowMeans, rowSums\n",
      "\n",
      "Loading required package: IRanges\n",
      "Loading required package: GenomicRanges\n",
      "Loading required package: GenomeInfoDb\n",
      "Loading required package: SummarizedExperiment\n",
      "Loading required package: Biobase\n",
      "Welcome to Bioconductor\n",
      "\n",
      "    Vignettes contain introductory material; view with\n",
      "    'browseVignettes()'. To cite Bioconductor, see\n",
      "    'citation(\"Biobase\")', and for packages 'citation(\"pkgname\")'.\n",
      "\n"
     ]
    }
   ],
   "source": [
    "library(DESeq2)"
   ]
  },
  {
   "cell_type": "code",
   "execution_count": 8,
   "metadata": {},
   "outputs": [],
   "source": [
    "out_dir <- \"/Users/annasintsova/git_repos/HUTI-RNAseq/results/meta_analysis/\"\n",
    "cts_file <- paste0(out_dir,\"2018-07-19-combined-counts.csv\" )\n",
    "coldata_file <- paste0(out_dir, \"2018-07-17-info-table.csv\")"
   ]
  },
  {
   "cell_type": "code",
   "execution_count": 12,
   "metadata": {},
   "outputs": [
    {
     "data": {
      "text/html": [
       "TRUE"
      ],
      "text/latex": [
       "TRUE"
      ],
      "text/markdown": [
       "TRUE"
      ],
      "text/plain": [
       "[1] TRUE"
      ]
     },
     "metadata": {},
     "output_type": "display_data"
    },
    {
     "data": {
      "text/html": [
       "<table>\n",
       "<thead><tr><th></th><th scope=col>Sample_Name</th><th scope=col>sample_type</th><th scope=col>isolate</th></tr></thead>\n",
       "<tbody>\n",
       "\t<tr><th scope=row>SRR1051491</th><td>UTI1                             </td><td>treatment                        </td><td>single sample from UTI patient 1 </td></tr>\n",
       "\t<tr><th scope=row>SRR1051500</th><td>UTI2                             </td><td>treatment                        </td><td>single sample from UTI patient 2 </td></tr>\n",
       "\t<tr><th scope=row>SRR1051501</th><td>UTI3                             </td><td>treatment                        </td><td>single sample from UTI patient 3 </td></tr>\n",
       "\t<tr><th scope=row>SRR1051511</th><td>UTIU3                            </td><td>treatment                        </td><td>UTIU3 sample 1 from patient U3   </td></tr>\n",
       "\t<tr><th scope=row>SRR1051502</th><td>UTI4                             </td><td>treatment                        </td><td>single sample from UTI patient 4 </td></tr>\n",
       "\t<tr><th scope=row>SRR1051503</th><td>UTI5                             </td><td>treatment                        </td><td>single sample from UTI patient 5 </td></tr>\n",
       "\t<tr><th scope=row>SRR1051515</th><td>UTIU5                            </td><td>treatment                        </td><td>UTIU5 sample 1 from patient U5   </td></tr>\n",
       "\t<tr><th scope=row>SRR1051504</th><td>UTI8                             </td><td>treatment                        </td><td>single sample from UTI patient 8 </td></tr>\n",
       "\t<tr><th scope=row>SRR1051507</th><td>UTI9                             </td><td>treatment                        </td><td>single sample from UTI patient 9 </td></tr>\n",
       "\t<tr><th scope=row>SRR1051490</th><td>UTI19                            </td><td>treatment                        </td><td>single sample from UTI patient 19</td></tr>\n",
       "\t<tr><th scope=row>SRR1051492</th><td>UTI21                            </td><td>treatment                        </td><td>single sample from UTI patient 21</td></tr>\n",
       "\t<tr><th scope=row>SRR1051493</th><td>UTI23                            </td><td>treatment                        </td><td>single sample from UTI patient 23</td></tr>\n",
       "\t<tr><th scope=row>SRR1051496</th><td>UTI24                            </td><td>treatment                        </td><td>single sample from UTI patient 24</td></tr>\n",
       "\t<tr><th scope=row>SRR1051497</th><td>UTI25                            </td><td>treatment                        </td><td>single sample from UTI patient 25</td></tr>\n",
       "\t<tr><th scope=row>SRR1051498</th><td>UTI26                            </td><td>treatment                        </td><td>single sample from UTI patient 26</td></tr>\n",
       "\t<tr><th scope=row>SRR1051499</th><td>UTI27                            </td><td>treatment                        </td><td>single sample from UTI patient 27</td></tr>\n",
       "\t<tr><th scope=row>SRR1051485</th><td>UTI10                            </td><td>treatment                        </td><td>single sample from UTI patient 10</td></tr>\n",
       "\t<tr><th scope=row>SRR1051486</th><td>UTI11                            </td><td>treatment                        </td><td>single sample from UTI patient 11</td></tr>\n",
       "\t<tr><th scope=row>SRR1051487</th><td>UTI14                            </td><td>treatment                        </td><td>single sample from UTI patient 14</td></tr>\n",
       "\t<tr><th scope=row>SRR1051488</th><td>UTI15                            </td><td>treatment                        </td><td>single sample from UTI patient 15</td></tr>\n",
       "\t<tr><th scope=row>SRR1051489</th><td>UTI17                            </td><td>treatment                        </td><td>single sample from UTI patient 17</td></tr>\n",
       "</tbody>\n",
       "</table>\n"
      ],
      "text/latex": [
       "\\begin{tabular}{r|lll}\n",
       "  & Sample\\_Name & sample\\_type & isolate\\\\\n",
       "\\hline\n",
       "\tSRR1051491 & UTI1                              & treatment                         & single sample from UTI patient 1 \\\\\n",
       "\tSRR1051500 & UTI2                              & treatment                         & single sample from UTI patient 2 \\\\\n",
       "\tSRR1051501 & UTI3                              & treatment                         & single sample from UTI patient 3 \\\\\n",
       "\tSRR1051511 & UTIU3                             & treatment                         & UTIU3 sample 1 from patient U3   \\\\\n",
       "\tSRR1051502 & UTI4                              & treatment                         & single sample from UTI patient 4 \\\\\n",
       "\tSRR1051503 & UTI5                              & treatment                         & single sample from UTI patient 5 \\\\\n",
       "\tSRR1051515 & UTIU5                             & treatment                         & UTIU5 sample 1 from patient U5   \\\\\n",
       "\tSRR1051504 & UTI8                              & treatment                         & single sample from UTI patient 8 \\\\\n",
       "\tSRR1051507 & UTI9                              & treatment                         & single sample from UTI patient 9 \\\\\n",
       "\tSRR1051490 & UTI19                             & treatment                         & single sample from UTI patient 19\\\\\n",
       "\tSRR1051492 & UTI21                             & treatment                         & single sample from UTI patient 21\\\\\n",
       "\tSRR1051493 & UTI23                             & treatment                         & single sample from UTI patient 23\\\\\n",
       "\tSRR1051496 & UTI24                             & treatment                         & single sample from UTI patient 24\\\\\n",
       "\tSRR1051497 & UTI25                             & treatment                         & single sample from UTI patient 25\\\\\n",
       "\tSRR1051498 & UTI26                             & treatment                         & single sample from UTI patient 26\\\\\n",
       "\tSRR1051499 & UTI27                             & treatment                         & single sample from UTI patient 27\\\\\n",
       "\tSRR1051485 & UTI10                             & treatment                         & single sample from UTI patient 10\\\\\n",
       "\tSRR1051486 & UTI11                             & treatment                         & single sample from UTI patient 11\\\\\n",
       "\tSRR1051487 & UTI14                             & treatment                         & single sample from UTI patient 14\\\\\n",
       "\tSRR1051488 & UTI15                             & treatment                         & single sample from UTI patient 15\\\\\n",
       "\tSRR1051489 & UTI17                             & treatment                         & single sample from UTI patient 17\\\\\n",
       "\\end{tabular}\n"
      ],
      "text/markdown": [
       "\n",
       "| <!--/--> | Sample_Name | sample_type | isolate | \n",
       "|---|---|---|---|---|---|---|---|---|---|---|---|---|---|---|---|---|---|---|---|---|\n",
       "| SRR1051491 | UTI1                              | treatment                         | single sample from UTI patient 1  | \n",
       "| SRR1051500 | UTI2                              | treatment                         | single sample from UTI patient 2  | \n",
       "| SRR1051501 | UTI3                              | treatment                         | single sample from UTI patient 3  | \n",
       "| SRR1051511 | UTIU3                             | treatment                         | UTIU3 sample 1 from patient U3    | \n",
       "| SRR1051502 | UTI4                              | treatment                         | single sample from UTI patient 4  | \n",
       "| SRR1051503 | UTI5                              | treatment                         | single sample from UTI patient 5  | \n",
       "| SRR1051515 | UTIU5                             | treatment                         | UTIU5 sample 1 from patient U5    | \n",
       "| SRR1051504 | UTI8                              | treatment                         | single sample from UTI patient 8  | \n",
       "| SRR1051507 | UTI9                              | treatment                         | single sample from UTI patient 9  | \n",
       "| SRR1051490 | UTI19                             | treatment                         | single sample from UTI patient 19 | \n",
       "| SRR1051492 | UTI21                             | treatment                         | single sample from UTI patient 21 | \n",
       "| SRR1051493 | UTI23                             | treatment                         | single sample from UTI patient 23 | \n",
       "| SRR1051496 | UTI24                             | treatment                         | single sample from UTI patient 24 | \n",
       "| SRR1051497 | UTI25                             | treatment                         | single sample from UTI patient 25 | \n",
       "| SRR1051498 | UTI26                             | treatment                         | single sample from UTI patient 26 | \n",
       "| SRR1051499 | UTI27                             | treatment                         | single sample from UTI patient 27 | \n",
       "| SRR1051485 | UTI10                             | treatment                         | single sample from UTI patient 10 | \n",
       "| SRR1051486 | UTI11                             | treatment                         | single sample from UTI patient 11 | \n",
       "| SRR1051487 | UTI14                             | treatment                         | single sample from UTI patient 14 | \n",
       "| SRR1051488 | UTI15                             | treatment                         | single sample from UTI patient 15 | \n",
       "| SRR1051489 | UTI17                             | treatment                         | single sample from UTI patient 17 | \n",
       "\n",
       "\n"
      ],
      "text/plain": [
       "           Sample_Name sample_type isolate                          \n",
       "SRR1051491 UTI1        treatment   single sample from UTI patient 1 \n",
       "SRR1051500 UTI2        treatment   single sample from UTI patient 2 \n",
       "SRR1051501 UTI3        treatment   single sample from UTI patient 3 \n",
       "SRR1051511 UTIU3       treatment   UTIU3 sample 1 from patient U3   \n",
       "SRR1051502 UTI4        treatment   single sample from UTI patient 4 \n",
       "SRR1051503 UTI5        treatment   single sample from UTI patient 5 \n",
       "SRR1051515 UTIU5       treatment   UTIU5 sample 1 from patient U5   \n",
       "SRR1051504 UTI8        treatment   single sample from UTI patient 8 \n",
       "SRR1051507 UTI9        treatment   single sample from UTI patient 9 \n",
       "SRR1051490 UTI19       treatment   single sample from UTI patient 19\n",
       "SRR1051492 UTI21       treatment   single sample from UTI patient 21\n",
       "SRR1051493 UTI23       treatment   single sample from UTI patient 23\n",
       "SRR1051496 UTI24       treatment   single sample from UTI patient 24\n",
       "SRR1051497 UTI25       treatment   single sample from UTI patient 25\n",
       "SRR1051498 UTI26       treatment   single sample from UTI patient 26\n",
       "SRR1051499 UTI27       treatment   single sample from UTI patient 27\n",
       "SRR1051485 UTI10       treatment   single sample from UTI patient 10\n",
       "SRR1051486 UTI11       treatment   single sample from UTI patient 11\n",
       "SRR1051487 UTI14       treatment   single sample from UTI patient 14\n",
       "SRR1051488 UTI15       treatment   single sample from UTI patient 15\n",
       "SRR1051489 UTI17       treatment   single sample from UTI patient 17"
      ]
     },
     "metadata": {},
     "output_type": "display_data"
    }
   ],
   "source": [
    "cts <- read.csv(cts_file, header = TRUE, row.names =1 )\n",
    "coldata <- read.csv(coldata_file, header = TRUE, row.names = 1)\n",
    "all(rownames(coldata) == colnames(cts)) # Needs to be True\n",
    "coldata"
   ]
  },
  {
   "cell_type": "code",
   "execution_count": 17,
   "metadata": {},
   "outputs": [
    {
     "data": {
      "text/plain": [
       "class: DESeqDataSet \n",
       "dim: 4476 21 \n",
       "metadata(1): version\n",
       "assays(1): counts\n",
       "rownames(4476): b0001 b0002 ... b4713 b4714\n",
       "rowData names(0):\n",
       "colnames(21): SRR1051491 SRR1051500 ... SRR1051488 SRR1051489\n",
       "colData names(3): Sample_Name sample_type isolate"
      ]
     },
     "metadata": {},
     "output_type": "display_data"
    },
    {
     "name": "stderr",
     "output_type": "stream",
     "text": [
      "estimating size factors\n",
      "estimating dispersions\n",
      "gene-wise dispersion estimates\n",
      "mean-dispersion relationship\n",
      "final dispersion estimates\n",
      "fitting model and testing\n",
      "-- replacing outliers and refitting for 744 genes\n",
      "-- DESeq argument 'minReplicatesForReplace' = 7 \n",
      "-- original counts are preserved in counts(dds)\n",
      "estimating dispersions\n",
      "fitting model and testing\n"
     ]
    }
   ],
   "source": [
    "dds <- DESeqDataSetFromMatrix(countData = cts,\n",
    "                              colData = coldata,\n",
    "                              design = ~ 1)\n",
    "dds\n",
    "analysis <- DESeq(dds)\n",
    "x <- counts(analysis, normalized=TRUE)\n",
    "write.csv(x, paste0(out_dir, \"2018-07-19-deseq_norm_counts.csv\"), row.names=TRUE)"
   ]
  },
  {
   "cell_type": "code",
   "execution_count": null,
   "metadata": {},
   "outputs": [],
   "source": []
  }
 ],
 "metadata": {
  "kernelspec": {
   "display_name": "R",
   "language": "R",
   "name": "ir"
  },
  "language_info": {
   "codemirror_mode": "r",
   "file_extension": ".r",
   "mimetype": "text/x-r-source",
   "name": "R",
   "pygments_lexer": "r",
   "version": "3.3.3"
  }
 },
 "nbformat": 4,
 "nbformat_minor": 2
}
