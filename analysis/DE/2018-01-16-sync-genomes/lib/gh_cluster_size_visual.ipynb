{
 "cells": [
  {
   "cell_type": "code",
   "execution_count": 1,
   "metadata": {
    "collapsed": true
   },
   "outputs": [],
   "source": [
    "import pandas as pd\n",
    "import matplotlib.pyplot as plt\n",
    "import numpy as np\n",
    "%matplotlib inline"
   ]
  },
  {
   "cell_type": "code",
   "execution_count": 2,
   "metadata": {
    "collapsed": true
   },
   "outputs": [],
   "source": [
    "data = \"/Users/annasintsova/git_repos/HUTI-RNAseq/analysis/DE/2018-01-16-sync-genomes/data/get_homologues_cluster_size_analysis.csv\""
   ]
  },
  {
   "cell_type": "code",
   "execution_count": 45,
   "metadata": {
    "collapsed": false
   },
   "outputs": [
    {
     "data": {
      "text/html": [
       "<div>\n",
       "<table border=\"1\" class=\"dataframe\">\n",
       "  <thead>\n",
       "    <tr style=\"text-align: right;\">\n",
       "      <th></th>\n",
       "      <th>COG</th>\n",
       "      <th>OCML</th>\n",
       "      <th>pan</th>\n",
       "    </tr>\n",
       "    <tr>\n",
       "      <th>Unnamed: 1</th>\n",
       "      <th></th>\n",
       "      <th></th>\n",
       "      <th></th>\n",
       "    </tr>\n",
       "  </thead>\n",
       "  <tbody>\n",
       "    <tr>\n",
       "      <th>1.0</th>\n",
       "      <td>6497.0</td>\n",
       "      <td>0.0</td>\n",
       "      <td>0.0</td>\n",
       "    </tr>\n",
       "    <tr>\n",
       "      <th>2.0</th>\n",
       "      <td>1242.0</td>\n",
       "      <td>1243.0</td>\n",
       "      <td>1095.0</td>\n",
       "    </tr>\n",
       "    <tr>\n",
       "      <th>3.0</th>\n",
       "      <td>576.0</td>\n",
       "      <td>575.0</td>\n",
       "      <td>483.0</td>\n",
       "    </tr>\n",
       "    <tr>\n",
       "      <th>4.0</th>\n",
       "      <td>373.0</td>\n",
       "      <td>368.0</td>\n",
       "      <td>311.0</td>\n",
       "    </tr>\n",
       "    <tr>\n",
       "      <th>5.0</th>\n",
       "      <td>263.0</td>\n",
       "      <td>252.0</td>\n",
       "      <td>203.0</td>\n",
       "    </tr>\n",
       "    <tr>\n",
       "      <th>6.0</th>\n",
       "      <td>180.0</td>\n",
       "      <td>184.0</td>\n",
       "      <td>143.0</td>\n",
       "    </tr>\n",
       "    <tr>\n",
       "      <th>7.0</th>\n",
       "      <td>135.0</td>\n",
       "      <td>148.0</td>\n",
       "      <td>114.0</td>\n",
       "    </tr>\n",
       "    <tr>\n",
       "      <th>8.0</th>\n",
       "      <td>88.0</td>\n",
       "      <td>92.0</td>\n",
       "      <td>73.0</td>\n",
       "    </tr>\n",
       "    <tr>\n",
       "      <th>9.0</th>\n",
       "      <td>74.0</td>\n",
       "      <td>72.0</td>\n",
       "      <td>55.0</td>\n",
       "    </tr>\n",
       "    <tr>\n",
       "      <th>10.0</th>\n",
       "      <td>83.0</td>\n",
       "      <td>86.0</td>\n",
       "      <td>69.0</td>\n",
       "    </tr>\n",
       "    <tr>\n",
       "      <th>11.0</th>\n",
       "      <td>104.0</td>\n",
       "      <td>122.0</td>\n",
       "      <td>93.0</td>\n",
       "    </tr>\n",
       "    <tr>\n",
       "      <th>12.0</th>\n",
       "      <td>106.0</td>\n",
       "      <td>100.0</td>\n",
       "      <td>85.0</td>\n",
       "    </tr>\n",
       "    <tr>\n",
       "      <th>13.0</th>\n",
       "      <td>110.0</td>\n",
       "      <td>97.0</td>\n",
       "      <td>79.0</td>\n",
       "    </tr>\n",
       "    <tr>\n",
       "      <th>14.0</th>\n",
       "      <td>226.0</td>\n",
       "      <td>255.0</td>\n",
       "      <td>202.0</td>\n",
       "    </tr>\n",
       "    <tr>\n",
       "      <th>15.0</th>\n",
       "      <td>724.0</td>\n",
       "      <td>724.0</td>\n",
       "      <td>665.0</td>\n",
       "    </tr>\n",
       "    <tr>\n",
       "      <th>16.0</th>\n",
       "      <td>2077.0</td>\n",
       "      <td>2094.0</td>\n",
       "      <td>2026.0</td>\n",
       "    </tr>\n",
       "  </tbody>\n",
       "</table>\n",
       "</div>"
      ],
      "text/plain": [
       "               COG    OCML     pan\n",
       "Unnamed: 1                        \n",
       "1.0         6497.0     0.0     0.0\n",
       "2.0         1242.0  1243.0  1095.0\n",
       "3.0          576.0   575.0   483.0\n",
       "4.0          373.0   368.0   311.0\n",
       "5.0          263.0   252.0   203.0\n",
       "6.0          180.0   184.0   143.0\n",
       "7.0          135.0   148.0   114.0\n",
       "8.0           88.0    92.0    73.0\n",
       "9.0           74.0    72.0    55.0\n",
       "10.0          83.0    86.0    69.0\n",
       "11.0         104.0   122.0    93.0\n",
       "12.0         106.0   100.0    85.0\n",
       "13.0         110.0    97.0    79.0\n",
       "14.0         226.0   255.0   202.0\n",
       "15.0         724.0   724.0   665.0\n",
       "16.0        2077.0  2094.0  2026.0"
      ]
     },
     "execution_count": 45,
     "metadata": {},
     "output_type": "execute_result"
    }
   ],
   "source": [
    "# This was run with -e flag to exclude all paralogs\n",
    "\n",
    "gh_df = pd.read_csv(data, index_col=[0, 1])\n",
    "gh_df.fillna(0, inplace=True)\n",
    "test = gh_df.loc[\"id_C75_S1\"]\n",
    "test.drop(0.0, axis='index', inplace=True)\n",
    "test"
   ]
  },
  {
   "cell_type": "code",
   "execution_count": 46,
   "metadata": {
    "collapsed": false
   },
   "outputs": [
    {
     "data": {
      "text/plain": [
       "Unnamed: 1\n",
       "1.0        0.0\n",
       "2.0     1095.0\n",
       "3.0      483.0\n",
       "4.0      311.0\n",
       "5.0      203.0\n",
       "6.0      143.0\n",
       "7.0      114.0\n",
       "8.0       73.0\n",
       "9.0       55.0\n",
       "10.0      69.0\n",
       "11.0      93.0\n",
       "12.0      85.0\n",
       "13.0      79.0\n",
       "14.0     202.0\n",
       "15.0     665.0\n",
       "16.0    2026.0\n",
       "Name: pan, dtype: float64"
      ]
     },
     "execution_count": 46,
     "metadata": {},
     "output_type": "execute_result"
    }
   ],
   "source": [
    "x = list(test.index)\n",
    "pan = test.pan\n",
    "pan"
   ]
  },
  {
   "cell_type": "code",
   "execution_count": 53,
   "metadata": {
    "collapsed": false
   },
   "outputs": [
    {
     "data": {
      "text/plain": [
       "<matplotlib.legend.Legend at 0x11424cc18>"
      ]
     },
     "execution_count": 53,
     "metadata": {},
     "output_type": "execute_result"
    },
    {
     "data": {
      "image/png": "[encoded data removed]",
      "text/plain": [
       "<matplotlib.figure.Figure at 0x11454a828>"
      ]
     },
     "metadata": {},
     "output_type": "display_data"
    }
   ],
   "source": [
    "ax = plt.subplot(111)\n",
    "\n",
    "x1 = [x-0.2 for x in list(test.index)]\n",
    "x2 = list(test.index)\n",
    "x3 = [x+0.2 for x in list(test.index)]\n",
    "\n",
    "ax.bar(x1, test.COG, width=0.2, color='b', align='center')\n",
    "ax.bar(x2, test.OCML, width=0.2, color='g', align='center')\n",
    "ax.bar(x3, test.pan, width=0.2, color='r', align='center')\n",
    "ax.set_xticks(list(test.index));\n",
    "ax.set_title(\"C75_S1 (default)\")\n",
    "ax.set_xlabel(\"# homologs in cluster\")\n",
    "ax.set_ylabel(\"# of clusters\")\n",
    "f = plt.gcf()\n",
    "f.set_size_inches(9,6)\n",
    "ax.legend([\"COG\", \"OMCL\", \"pan\"])"
   ]
  },
  {
   "cell_type": "code",
   "execution_count": 54,
   "metadata": {
    "collapsed": false
   },
   "outputs": [
    {
     "data": {
      "text/plain": [
       "['id_C50_S1',\n",
       " 'id_C50_S70',\n",
       " 'id_C50_S90',\n",
       " 'id_C60_S1',\n",
       " 'id_C60_S70',\n",
       " 'id_C60_S90',\n",
       " 'id_C70_S1',\n",
       " 'id_C70_S70',\n",
       " 'id_C70_S90',\n",
       " 'id_C75_S1',\n",
       " 'id_C75_S70',\n",
       " 'id_C75_S90']"
      ]
     },
     "execution_count": 54,
     "metadata": {},
     "output_type": "execute_result"
    }
   ],
   "source": [
    "conditions = list(gh_df.index.levels[0])\n",
    "conditions"
   ]
  },
  {
   "cell_type": "code",
   "execution_count": 127,
   "metadata": {
    "collapsed": true
   },
   "outputs": [],
   "source": [
    "\n",
    "def plotClusterSizes(C, S): #both could be lists\n",
    "    \n",
    "    fig, axs = plt.subplots(len(C),len(S), sharex=True, sharey=True)\n",
    "    \n",
    "    fig.set_size_inches(20.5, 14.5)\n",
    "    conds = [(c,s) for c in C for s in S]\n",
    "    coords = [(x, y) for x in range(len(C))for y in range(len(S))]\n",
    "    for co, cd in zip(coords, conds):\n",
    "        df = gh_df.loc[\"id_C{}_S{}\".format(cd[0], cd[1])]  \n",
    "        df.drop(0.0, axis='index', inplace=True)\n",
    "        x = list(df.index)\n",
    "        pan = df.pan\n",
    "        a = axs[co[0], co[1]]\n",
    "        a.bar(x, pan)\n",
    "        a.set_title(\"C{}_S{}\".format(cd[0], cd[1]))\n",
    "        a.set_xlabel(\"# homologs in cluster\")\n",
    "        a.set_ylabel(\"# of clusters\")\n",
    "        a.set_xticks(list(x))\n",
    "    "
   ]
  },
  {
   "cell_type": "code",
   "execution_count": 128,
   "metadata": {
    "collapsed": false
   },
   "outputs": [
    {
     "name": "stdout",
     "output_type": "stream",
     "text": [
      "[(50, 1), (50, 70), (50, 90), (60, 1), (60, 70), (60, 90), (70, 1), (70, 70), (70, 90), (75, 1), (75, 70), (75, 90)]\n",
      "[(0, 0), (0, 1), (0, 2), (1, 0), (1, 1), (1, 2), (2, 0), (2, 1), (2, 2), (3, 0), (3, 1), (3, 2)]\n"
     ]
    },
    {
     "data": {
      "image/png": "[encoded data removed]",
      "text/plain": [
       "<matplotlib.figure.Figure at 0x119665908>"
      ]
     },
     "metadata": {},
     "output_type": "display_data"
    }
   ],
   "source": [
    "\n",
    "C = [50, 60, 70, 75]\n",
    "S = [1,70,90]\n",
    "plotClusterSizes(C, S)"
   ]
  },
  {
   "cell_type": "code",
   "execution_count": 140,
   "metadata": {
    "collapsed": false
   },
   "outputs": [
    {
     "data": {
      "text/html": [
       "<div>\n",
       "<table border=\"1\" class=\"dataframe\">\n",
       "  <thead>\n",
       "    <tr style=\"text-align: right;\">\n",
       "      <th></th>\n",
       "      <th>0</th>\n",
       "      <th>1</th>\n",
       "      <th>2</th>\n",
       "      <th>3</th>\n",
       "      <th>4</th>\n",
       "      <th>5</th>\n",
       "      <th>6</th>\n",
       "      <th>7</th>\n",
       "      <th>8</th>\n",
       "      <th>9</th>\n",
       "    </tr>\n",
       "  </thead>\n",
       "  <tbody>\n",
       "    <tr>\n",
       "      <th>1</th>\n",
       "      <td>5159</td>\n",
       "      <td>5832</td>\n",
       "      <td>4671</td>\n",
       "      <td>4671</td>\n",
       "      <td>4614</td>\n",
       "      <td>4908</td>\n",
       "      <td>4749</td>\n",
       "      <td>4862</td>\n",
       "      <td>4614</td>\n",
       "      <td>4862</td>\n",
       "    </tr>\n",
       "    <tr>\n",
       "      <th>2</th>\n",
       "      <td>5774</td>\n",
       "      <td>6353</td>\n",
       "      <td>5091</td>\n",
       "      <td>5320</td>\n",
       "      <td>5198</td>\n",
       "      <td>5329</td>\n",
       "      <td>5160</td>\n",
       "      <td>5516</td>\n",
       "      <td>5160</td>\n",
       "      <td>5470</td>\n",
       "    </tr>\n",
       "    <tr>\n",
       "      <th>3</th>\n",
       "      <td>6007</td>\n",
       "      <td>6641</td>\n",
       "      <td>5540</td>\n",
       "      <td>5637</td>\n",
       "      <td>5509</td>\n",
       "      <td>5566</td>\n",
       "      <td>5554</td>\n",
       "      <td>5797</td>\n",
       "      <td>5431</td>\n",
       "      <td>6252</td>\n",
       "    </tr>\n",
       "    <tr>\n",
       "      <th>4</th>\n",
       "      <td>6365</td>\n",
       "      <td>6777</td>\n",
       "      <td>5738</td>\n",
       "      <td>5933</td>\n",
       "      <td>5763</td>\n",
       "      <td>5873</td>\n",
       "      <td>5789</td>\n",
       "      <td>6005</td>\n",
       "      <td>5634</td>\n",
       "      <td>6646</td>\n",
       "    </tr>\n",
       "    <tr>\n",
       "      <th>5</th>\n",
       "      <td>6657</td>\n",
       "      <td>6946</td>\n",
       "      <td>6498</td>\n",
       "      <td>6114</td>\n",
       "      <td>6058</td>\n",
       "      <td>6161</td>\n",
       "      <td>6158</td>\n",
       "      <td>6289</td>\n",
       "      <td>5935</td>\n",
       "      <td>7409</td>\n",
       "    </tr>\n",
       "    <tr>\n",
       "      <th>6</th>\n",
       "      <td>6840</td>\n",
       "      <td>7081</td>\n",
       "      <td>6601</td>\n",
       "      <td>6809</td>\n",
       "      <td>6338</td>\n",
       "      <td>6494</td>\n",
       "      <td>6434</td>\n",
       "      <td>6466</td>\n",
       "      <td>6133</td>\n",
       "      <td>7591</td>\n",
       "    </tr>\n",
       "    <tr>\n",
       "      <th>7</th>\n",
       "      <td>6963</td>\n",
       "      <td>7761</td>\n",
       "      <td>7148</td>\n",
       "      <td>6898</td>\n",
       "      <td>6835</td>\n",
       "      <td>7015</td>\n",
       "      <td>6555</td>\n",
       "      <td>6675</td>\n",
       "      <td>6816</td>\n",
       "      <td>7682</td>\n",
       "    </tr>\n",
       "    <tr>\n",
       "      <th>8</th>\n",
       "      <td>7151</td>\n",
       "      <td>7951</td>\n",
       "      <td>7320</td>\n",
       "      <td>7013</td>\n",
       "      <td>6935</td>\n",
       "      <td>7193</td>\n",
       "      <td>6669</td>\n",
       "      <td>6802</td>\n",
       "      <td>7075</td>\n",
       "      <td>7839</td>\n",
       "    </tr>\n",
       "    <tr>\n",
       "      <th>9</th>\n",
       "      <td>7385</td>\n",
       "      <td>8089</td>\n",
       "      <td>7494</td>\n",
       "      <td>7088</td>\n",
       "      <td>7130</td>\n",
       "      <td>7363</td>\n",
       "      <td>6749</td>\n",
       "      <td>7056</td>\n",
       "      <td>7269</td>\n",
       "      <td>7930</td>\n",
       "    </tr>\n",
       "    <tr>\n",
       "      <th>10</th>\n",
       "      <td>7604</td>\n",
       "      <td>8180</td>\n",
       "      <td>7550</td>\n",
       "      <td>7305</td>\n",
       "      <td>7257</td>\n",
       "      <td>7484</td>\n",
       "      <td>6962</td>\n",
       "      <td>7155</td>\n",
       "      <td>7334</td>\n",
       "      <td>8076</td>\n",
       "    </tr>\n",
       "    <tr>\n",
       "      <th>11</th>\n",
       "      <td>7671</td>\n",
       "      <td>8381</td>\n",
       "      <td>7742</td>\n",
       "      <td>7462</td>\n",
       "      <td>7902</td>\n",
       "      <td>7625</td>\n",
       "      <td>7077</td>\n",
       "      <td>7555</td>\n",
       "      <td>7461</td>\n",
       "      <td>8149</td>\n",
       "    </tr>\n",
       "    <tr>\n",
       "      <th>12</th>\n",
       "      <td>8033</td>\n",
       "      <td>8566</td>\n",
       "      <td>7899</td>\n",
       "      <td>7554</td>\n",
       "      <td>7963</td>\n",
       "      <td>8279</td>\n",
       "      <td>7709</td>\n",
       "      <td>7628</td>\n",
       "      <td>7564</td>\n",
       "      <td>8214</td>\n",
       "    </tr>\n",
       "    <tr>\n",
       "      <th>13</th>\n",
       "      <td>8155</td>\n",
       "      <td>8716</td>\n",
       "      <td>7977</td>\n",
       "      <td>7624</td>\n",
       "      <td>8026</td>\n",
       "      <td>8355</td>\n",
       "      <td>7877</td>\n",
       "      <td>7671</td>\n",
       "      <td>7659</td>\n",
       "      <td>8271</td>\n",
       "    </tr>\n",
       "    <tr>\n",
       "      <th>14</th>\n",
       "      <td>8208</td>\n",
       "      <td>8765</td>\n",
       "      <td>8091</td>\n",
       "      <td>8028</td>\n",
       "      <td>8079</td>\n",
       "      <td>8409</td>\n",
       "      <td>8247</td>\n",
       "      <td>7825</td>\n",
       "      <td>7864</td>\n",
       "      <td>8366</td>\n",
       "    </tr>\n",
       "    <tr>\n",
       "      <th>15</th>\n",
       "      <td>8285</td>\n",
       "      <td>8836</td>\n",
       "      <td>8139</td>\n",
       "      <td>8137</td>\n",
       "      <td>8120</td>\n",
       "      <td>8447</td>\n",
       "      <td>8392</td>\n",
       "      <td>7887</td>\n",
       "      <td>8205</td>\n",
       "      <td>8509</td>\n",
       "    </tr>\n",
       "    <tr>\n",
       "      <th>16</th>\n",
       "      <td>8360</td>\n",
       "      <td>8971</td>\n",
       "      <td>8274</td>\n",
       "      <td>8272</td>\n",
       "      <td>8255</td>\n",
       "      <td>8517</td>\n",
       "      <td>8462</td>\n",
       "      <td>8501</td>\n",
       "      <td>8254</td>\n",
       "      <td>8547</td>\n",
       "    </tr>\n",
       "  </tbody>\n",
       "</table>\n",
       "</div>"
      ],
      "text/plain": [
       "       0     1     2     3     4     5     6     7     8     9\n",
       "1   5159  5832  4671  4671  4614  4908  4749  4862  4614  4862\n",
       "2   5774  6353  5091  5320  5198  5329  5160  5516  5160  5470\n",
       "3   6007  6641  5540  5637  5509  5566  5554  5797  5431  6252\n",
       "4   6365  6777  5738  5933  5763  5873  5789  6005  5634  6646\n",
       "5   6657  6946  6498  6114  6058  6161  6158  6289  5935  7409\n",
       "6   6840  7081  6601  6809  6338  6494  6434  6466  6133  7591\n",
       "7   6963  7761  7148  6898  6835  7015  6555  6675  6816  7682\n",
       "8   7151  7951  7320  7013  6935  7193  6669  6802  7075  7839\n",
       "9   7385  8089  7494  7088  7130  7363  6749  7056  7269  7930\n",
       "10  7604  8180  7550  7305  7257  7484  6962  7155  7334  8076\n",
       "11  7671  8381  7742  7462  7902  7625  7077  7555  7461  8149\n",
       "12  8033  8566  7899  7554  7963  8279  7709  7628  7564  8214\n",
       "13  8155  8716  7977  7624  8026  8355  7877  7671  7659  8271\n",
       "14  8208  8765  8091  8028  8079  8409  8247  7825  7864  8366\n",
       "15  8285  8836  8139  8137  8120  8447  8392  7887  8205  8509\n",
       "16  8360  8971  8274  8272  8255  8517  8462  8501  8254  8547"
      ]
     },
     "execution_count": 140,
     "metadata": {},
     "output_type": "execute_result"
    }
   ],
   "source": [
    "# Genome composition analysis \n",
    "\n",
    "# This data are from original get_homologue ran under default parameters\n",
    "\n",
    "pangenome = \"/Users/annasintsova/git_repos/HUTI-RNAseq/analysis/DE/2018-01-16-sync-genomes/data/genomes_homologues/pan_genome_algOMCL.tab\"\n",
    "pangenome_df = pd.read_csv(pangenome, sep = \"\\t\")\n",
    "pangenome_df.drop([\"Unnamed: 16\"], axis = 1, inplace = True)\n",
    "df = pangenome_df.T\n",
    "df.index = [i.split('g')[1] for i in list(df.index)]\n",
    "df"
   ]
  },
  {
   "cell_type": "code",
   "execution_count": 182,
   "metadata": {
    "collapsed": false
   },
   "outputs": [
    {
     "name": "stdout",
     "output_type": "stream",
     "text": [
      "[1, 2, 3, 4, 5, 6, 7, 8, 9, 10, 11, 12, 13, 14, 15, 16]\n"
     ]
    },
    {
     "data": {
      "image/png": "[encoded data removed]",
      "text/plain": [
       "<matplotlib.figure.Figure at 0x117037518>"
      ]
     },
     "metadata": {},
     "output_type": "display_data"
    }
   ],
   "source": [
    "for i in range(0, 16):\n",
    "    x = [i+1]*10\n",
    "    y = df.iloc[i]\n",
    "    plt.scatter(x,y, color = \"k\")\n",
    "\n",
    "plt.title(\"Pangenome analysis\")\n",
    "f = plt.gcf()\n",
    "ti = list(map(int, list(df.index)))\n",
    "print(ti)\n",
    "f.set_xticks = ti\n",
    "f.ylabel = \"# of genes\"\n",
    "     \n",
    "\n"
   ]
  },
  {
   "cell_type": "code",
   "execution_count": 183,
   "metadata": {
    "collapsed": false
   },
   "outputs": [
    {
     "data": {
      "text/html": [
       "<div>\n",
       "<table border=\"1\" class=\"dataframe\">\n",
       "  <thead>\n",
       "    <tr style=\"text-align: right;\">\n",
       "      <th></th>\n",
       "      <th>COG</th>\n",
       "      <th>OCML</th>\n",
       "      <th>pan</th>\n",
       "    </tr>\n",
       "    <tr>\n",
       "      <th>Unnamed: 1</th>\n",
       "      <th></th>\n",
       "      <th></th>\n",
       "      <th></th>\n",
       "    </tr>\n",
       "  </thead>\n",
       "  <tbody>\n",
       "    <tr>\n",
       "      <th>1.0</th>\n",
       "      <td>6497.0</td>\n",
       "      <td>0.0</td>\n",
       "      <td>0.0</td>\n",
       "    </tr>\n",
       "    <tr>\n",
       "      <th>2.0</th>\n",
       "      <td>1242.0</td>\n",
       "      <td>1243.0</td>\n",
       "      <td>1095.0</td>\n",
       "    </tr>\n",
       "    <tr>\n",
       "      <th>3.0</th>\n",
       "      <td>576.0</td>\n",
       "      <td>575.0</td>\n",
       "      <td>483.0</td>\n",
       "    </tr>\n",
       "    <tr>\n",
       "      <th>4.0</th>\n",
       "      <td>373.0</td>\n",
       "      <td>368.0</td>\n",
       "      <td>311.0</td>\n",
       "    </tr>\n",
       "    <tr>\n",
       "      <th>5.0</th>\n",
       "      <td>263.0</td>\n",
       "      <td>252.0</td>\n",
       "      <td>203.0</td>\n",
       "    </tr>\n",
       "    <tr>\n",
       "      <th>6.0</th>\n",
       "      <td>180.0</td>\n",
       "      <td>184.0</td>\n",
       "      <td>143.0</td>\n",
       "    </tr>\n",
       "    <tr>\n",
       "      <th>7.0</th>\n",
       "      <td>135.0</td>\n",
       "      <td>148.0</td>\n",
       "      <td>114.0</td>\n",
       "    </tr>\n",
       "    <tr>\n",
       "      <th>8.0</th>\n",
       "      <td>88.0</td>\n",
       "      <td>92.0</td>\n",
       "      <td>73.0</td>\n",
       "    </tr>\n",
       "    <tr>\n",
       "      <th>9.0</th>\n",
       "      <td>74.0</td>\n",
       "      <td>72.0</td>\n",
       "      <td>55.0</td>\n",
       "    </tr>\n",
       "    <tr>\n",
       "      <th>10.0</th>\n",
       "      <td>83.0</td>\n",
       "      <td>86.0</td>\n",
       "      <td>69.0</td>\n",
       "    </tr>\n",
       "    <tr>\n",
       "      <th>11.0</th>\n",
       "      <td>104.0</td>\n",
       "      <td>122.0</td>\n",
       "      <td>93.0</td>\n",
       "    </tr>\n",
       "    <tr>\n",
       "      <th>12.0</th>\n",
       "      <td>106.0</td>\n",
       "      <td>100.0</td>\n",
       "      <td>85.0</td>\n",
       "    </tr>\n",
       "    <tr>\n",
       "      <th>13.0</th>\n",
       "      <td>110.0</td>\n",
       "      <td>97.0</td>\n",
       "      <td>79.0</td>\n",
       "    </tr>\n",
       "    <tr>\n",
       "      <th>14.0</th>\n",
       "      <td>226.0</td>\n",
       "      <td>255.0</td>\n",
       "      <td>202.0</td>\n",
       "    </tr>\n",
       "    <tr>\n",
       "      <th>15.0</th>\n",
       "      <td>724.0</td>\n",
       "      <td>724.0</td>\n",
       "      <td>665.0</td>\n",
       "    </tr>\n",
       "    <tr>\n",
       "      <th>16.0</th>\n",
       "      <td>2077.0</td>\n",
       "      <td>2094.0</td>\n",
       "      <td>2026.0</td>\n",
       "    </tr>\n",
       "  </tbody>\n",
       "</table>\n",
       "</div>"
      ],
      "text/plain": [
       "               COG    OCML     pan\n",
       "Unnamed: 1                        \n",
       "1.0         6497.0     0.0     0.0\n",
       "2.0         1242.0  1243.0  1095.0\n",
       "3.0          576.0   575.0   483.0\n",
       "4.0          373.0   368.0   311.0\n",
       "5.0          263.0   252.0   203.0\n",
       "6.0          180.0   184.0   143.0\n",
       "7.0          135.0   148.0   114.0\n",
       "8.0           88.0    92.0    73.0\n",
       "9.0           74.0    72.0    55.0\n",
       "10.0          83.0    86.0    69.0\n",
       "11.0         104.0   122.0    93.0\n",
       "12.0         106.0   100.0    85.0\n",
       "13.0         110.0    97.0    79.0\n",
       "14.0         226.0   255.0   202.0\n",
       "15.0         724.0   724.0   665.0\n",
       "16.0        2077.0  2094.0  2026.0"
      ]
     },
     "execution_count": 183,
     "metadata": {},
     "output_type": "execute_result"
    }
   ],
   "source": [
    "test"
   ]
  },
  {
   "cell_type": "code",
   "execution_count": 186,
   "metadata": {
    "collapsed": false
   },
   "outputs": [
    {
     "data": {
      "text/plain": [
       "['id_C50_S1',\n",
       " 'id_C50_S70',\n",
       " 'id_C50_S90',\n",
       " 'id_C60_S1',\n",
       " 'id_C60_S70',\n",
       " 'id_C60_S90',\n",
       " 'id_C70_S1',\n",
       " 'id_C70_S70',\n",
       " 'id_C70_S90',\n",
       " 'id_C75_S1',\n",
       " 'id_C75_S70',\n",
       " 'id_C75_S90']"
      ]
     },
     "execution_count": 186,
     "metadata": {},
     "output_type": "execute_result"
    }
   ],
   "source": [
    "conditions = list(gh_df.index.levels[0])\n",
    "conditions"
   ]
  },
  {
   "cell_type": "code",
   "execution_count": 197,
   "metadata": {
    "collapsed": false
   },
   "outputs": [
    {
     "name": "stdout",
     "output_type": "stream",
     "text": [
      "COG     11001.0\n",
      "OCML     5944.0\n",
      "pan      5446.0\n",
      "dtype: float64\n",
      "COG     11001.0\n",
      "OCML     6277.0\n",
      "pan      5187.0\n",
      "dtype: float64\n",
      "COG     11001.0\n",
      "OCML     6445.0\n",
      "pan      4940.0\n",
      "dtype: float64\n",
      "COG     11712.0\n",
      "OCML     6164.0\n",
      "pan      5539.0\n",
      "dtype: float64\n",
      "COG     11712.0\n",
      "OCML     6496.0\n",
      "pan      5291.0\n",
      "dtype: float64\n",
      "COG     11712.0\n",
      "OCML     6645.0\n",
      "pan      5051.0\n",
      "dtype: float64\n",
      "COG     12436.0\n",
      "OCML     6337.0\n",
      "pan      5638.0\n",
      "dtype: float64\n",
      "COG     12436.0\n",
      "OCML     6663.0\n",
      "pan      5408.0\n",
      "dtype: float64\n",
      "COG     12436.0\n",
      "OCML     6787.0\n",
      "pan      5174.0\n",
      "dtype: float64\n",
      "COG     12858.0\n",
      "OCML     6412.0\n",
      "pan      5697.0\n",
      "dtype: float64\n",
      "COG     12858.0\n",
      "OCML     6735.0\n",
      "pan      5485.0\n",
      "dtype: float64\n",
      "COG     12858.0\n",
      "OCML     6857.0\n",
      "pan      5255.0\n",
      "dtype: float64\n"
     ]
    },
    {
     "data": {
      "text/plain": [
       "{'id_C50_S1': 5944.0,\n",
       " 'id_C50_S70': 6277.0,\n",
       " 'id_C50_S90': 6445.0,\n",
       " 'id_C60_S1': 6164.0,\n",
       " 'id_C60_S70': 6496.0,\n",
       " 'id_C60_S90': 6645.0,\n",
       " 'id_C70_S1': 6337.0,\n",
       " 'id_C70_S70': 6663.0,\n",
       " 'id_C70_S90': 6787.0,\n",
       " 'id_C75_S1': 6412.0,\n",
       " 'id_C75_S70': 6735.0,\n",
       " 'id_C75_S90': 6857.0}"
      ]
     },
     "execution_count": 197,
     "metadata": {},
     "output_type": "execute_result"
    }
   ],
   "source": [
    "tot_genes_pan = {}\n",
    "tot_genes_omcl = {}\n",
    "for c in conditions:\n",
    "    tot_genes_pan[c] = gh_df.loc[c].sum(axis=0).pan\n",
    "    tot_genes_omcl[c] = gh_df.loc[c].sum(axis=0).OCML\n",
    "    print(gh_df.loc[c].sum(axis=0))\n",
    "tot_genes_omcl"
   ]
  },
  {
   "cell_type": "code",
   "execution_count": 198,
   "metadata": {
    "collapsed": false
   },
   "outputs": [
    {
     "data": {
      "text/plain": [
       "{'id_C50_S1': 5446.0,\n",
       " 'id_C50_S70': 5187.0,\n",
       " 'id_C50_S90': 4940.0,\n",
       " 'id_C60_S1': 5539.0,\n",
       " 'id_C60_S70': 5291.0,\n",
       " 'id_C60_S90': 5051.0,\n",
       " 'id_C70_S1': 5638.0,\n",
       " 'id_C70_S70': 5408.0,\n",
       " 'id_C70_S90': 5174.0,\n",
       " 'id_C75_S1': 5697.0,\n",
       " 'id_C75_S70': 5485.0,\n",
       " 'id_C75_S90': 5255.0}"
      ]
     },
     "execution_count": 198,
     "metadata": {},
     "output_type": "execute_result"
    }
   ],
   "source": [
    "tot_genes_pan"
   ]
  },
  {
   "cell_type": "code",
   "execution_count": null,
   "metadata": {
    "collapsed": true
   },
   "outputs": [],
   "source": []
  }
 ],
 "metadata": {
  "kernelspec": {
   "display_name": "Python 3",
   "language": "python",
   "name": "python3"
  },
  "language_info": {
   "codemirror_mode": {
    "name": "ipython",
    "version": 3
   },
   "file_extension": ".py",
   "mimetype": "text/x-python",
   "name": "python",
   "nbconvert_exporter": "python",
   "pygments_lexer": "ipython3",
   "version": "3.6.0"
  }
 },
 "nbformat": 4,
 "nbformat_minor": 2
}
