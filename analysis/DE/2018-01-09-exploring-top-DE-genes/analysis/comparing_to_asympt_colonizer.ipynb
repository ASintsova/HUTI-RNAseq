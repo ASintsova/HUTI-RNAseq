{
 "cells": [
  {
   "cell_type": "code",
   "execution_count": 157,
   "metadata": {
    "collapsed": true
   },
   "outputs": [],
   "source": [
    "import pandas as pd\n",
    "import numpy as np"
   ]
  },
  {
   "cell_type": "code",
   "execution_count": 150,
   "metadata": {},
   "outputs": [
    {
     "data": {
      "text/plain": [
       "Index(['Unnamed: 0', 'baseMean', 'log2FoldChange', 'lfcSE', 'stat', 'pvalue',\n       'padj', 'KO', 'bnum'],\n      dtype='object')"
      ]
     },
     "execution_count": 150,
     "metadata": {},
     "output_type": "execute_result"
    }
   ],
   "source": [
    "path = \"/Users/annasintsova/git_repos/\" \\\n",
    "       \"HUTI-RNAseq/analysis/DE/2018-01-09-exploring-top-DE-genes/\" \\\n",
    "       \"data/DE-seq-results-all-core-edited.csv\"\n",
    "de = pd.read_csv(path, index_col=\"sym\")\n",
    "de.columns"
   ]
  },
  {
   "cell_type": "code",
   "execution_count": 149,
   "metadata": {},
   "outputs": [
    {
     "data": {
      "text/plain": [
       "['narH',\n 'fdnI',\n 'narJ',\n 'yoaG',\n 'ytfE',\n 'narK',\n 'fdnG',\n 'yeaR',\n 'narG',\n 'ydfZ',\n 'Z0893',\n 'narI',\n 'narH',\n 'metA',\n 'yqgD',\n 'hmpA',\n 'nirB',\n 'fdnH',\n 'hcp',\n 'yhcP',\n 'cspA',\n 'ygbA',\n 'gntK',\n 'yhcR',\n 'hcr',\n 'ryfA',\n 'gltB',\n 'ndh',\n 'ydcX',\n 'citB',\n 'dsdA',\n 'yhcQ',\n 'ogt',\n 'Z1954',\n 'tehB',\n 'yhcN',\n 'grxA',\n 'fhuC',\n 'fepE',\n 'ydhC',\n 'evgA',\n 'nlpI',\n 'Z4919']"
      ]
     },
     "execution_count": 149,
     "metadata": {},
     "output_type": "execute_result"
    }
   ],
   "source": [
    "ref_path = \"/Users/annasintsova/git_repos/\" \\\n",
    "       \"HUTI-RNAseq/analysis/DE/2018-01-09-exploring-top-DE-genes/\" \\\n",
    "       \"data/asym_strain_top_UP.csv\"\n",
    "aSt = pd.read_csv(ref_path, index_col=\"sym\")\n",
    "genes = list(aSt.index)\n",
    "genes"
   ]
  },
  {
   "cell_type": "code",
   "execution_count": 169,
   "metadata": {},
   "outputs": [],
   "source": [
    "de2 = de.loc[genes]\n",
    "de3 = pd.merge(aSt, de2, left_index=True, right_index=True)\n",
    "de3.columns\n",
    "de4 = de3[[\"bnum_x\",\"bnum_y\", \"fold\", \"log2FoldChange\"]]\n",
    "de4 = de4.dropna()\n",
    "de4[\"log2_asym\"] = np.log2(de4.fold)\n",
    "de4.head\n",
    "final = de4[[\"bnum_y\", \"log2FoldChange\", \"log2_asym\"]]\n",
    "final = final.rename(index = str, columns={\"bnum_y\": \"bnum\", \"log2FoldChange\":\"HM_UTI_log2FC\",\n",
    "                                           \"log2_asym\":\"EColi_83972_log2FC\"})\n",
    "final\n",
    "final.to_csv(\"/Users/annasintsova/git_repos/\" \\\n",
    "       \"HUTI-RNAseq/analysis/DE/2018-01-09-exploring-top-DE-genes/\" \\\n",
    "       \"data/clinical_strains_vs_83972.csv\")"
   ]
  },
  {
   "cell_type": "code",
   "execution_count": 13,
   "metadata": {},
   "outputs": [
    {
     "data": {
      "text/plain": [
       "16946_metE                             87076.822756\n18506_ompA                             52870.066462\n15346_ompC                             46887.043792\n18760_hns_2                            39854.180435\n18168_ahpC                             34253.517718\n16894_ilvC                             29024.141477\n17669_aceE                             28550.382434\n16252_tdcE                             23632.185035\n18682_icd                              22867.439231\n16356_nanA                             21556.615246\n15738_raiA                             21116.220192\n14841_infC                             20708.865832\n16449_fusA                             20095.863773\n17061_metF                             18190.168165\n16419_rpsD                             18054.204251\n17448_uxuA                             17790.010056\n15297_psuG                             17617.952195\n17098_rplL                             16660.597688\n17753_metQ                             15949.117710\n18639_acpP                             14662.308866\n16448_tuf1                             14532.762370\n16367_mdh_2                            14413.563277\n17629_leuC                             13772.058169\n17565_tal_2                            13285.698132\n17097_rplJ                             12856.803798\n17722_rpsB                             12817.372611\n18460_rpsA                             12493.914265\n19183_lpp_2                            12228.755572\n15305_por_1                            11778.124632\n15725_grcA                             11565.798345\n                                           ...     \n18559_rutB                                 5.304201\n15596_Cobalamin_adenosyltransferase        5.290674\n15932_hypothetical_protein                 5.277286\n17210_phnI                                 5.174965\n16482_hypothetical_protein                 5.072793\n15592_adhE_1                               5.005674\n17207_phnL                                 4.996353\n16620_hypothetical_protein                 4.923464\n17662_pilE1                                4.716067\n18604_hypothetical_protein                 4.429867\n18558_rutC                                 4.404099\n15591_ftsA_1                               4.138598\n17198_mdtN                                 4.069551\n16649_ldrD_1                               3.805621\n18555_rutF                                 3.714732\n17199_hypothetical_protein                 3.629206\n17602_hypothetical_protein                 3.139400\n16393_envR                                 3.112465\n16973_hypothetical_protein                 2.540831\n15541_fryB_1                               2.487007\n14824_hypothetical_protein                 2.444355\n17216_phnC                                 2.438121\n15599_eutS                                 2.203550\n17211_phnH                                 1.987762\n17213_phnF                                 1.983011\n18315_galD                                 1.951750\n16018_hypothetical_protein                 1.743104\n15593_eutN                                 1.566046\n17212_phnG                                 1.065599\n15649_hypothetical_protein                 0.705695\nName: average, dtype: float64"
      ]
     },
     "execution_count": 13,
     "metadata": {},
     "output_type": "execute_result"
    }
   ],
   "source": [
    "ur_c[\"average\"]"
   ]
  },
  {
   "cell_type": "code",
   "execution_count": 117,
   "metadata": {},
   "outputs": [
    {
     "data": {
      "text/plain": [
       "['b0205',\n 'b4414',\n 'b3985',\n 'b4408',\n 'b1823',\n 'b3297',\n 'b0605',\n 'b2591',\n 'b3306',\n 'b3339',\n 'b3296',\n 'b3309',\n 'b3295',\n 'b1094',\n 'c2758',\n 'b3310',\n 'b3298',\n 'b3231',\n 'b2621',\n 'Z2747',\n 'b3320',\n 'b3123',\n 'b3341',\n 'b3299',\n 'b2779',\n 'b3782',\n 'b3983',\n 'b2579',\n 'b1677',\n 'b2153',\n 'b0114',\n 'b3986',\n 'b0169',\n 'c4310',\n 'b4457',\n 'b3301',\n 'b2415',\n 'b3305',\n 'b3637',\n 'b1779',\n 'b3342',\n 'b3186',\n 'b3307',\n 'b4000',\n 'b0755',\n 'b3340',\n 'b3321',\n 'b1824',\n 'b3316']"
      ]
     },
     "execution_count": 117,
     "metadata": {},
     "output_type": "execute_result"
    }
   ],
   "source": [
    "ref = path = \"/Users/annasintsova/git_repos/\" \\\n",
    "       \"HUTI-RNAseq/analysis/DE/2018-01-09-exploring-top-DE-genes/\" \\\n",
    "       \"data/asymptomatic_strain_top50.csv\"\n",
    "aSt= pd.read_csv(ref)\n",
    "aSt = aSt.set_index(aSt['bnum'])\n",
    "aSt = aSt[['Name', 'signal']]\n",
    "aSt.shape\n",
    "aSt['asym_rank'] = [i for i in range(1, 50)]\n",
    "asym_top50 = list(aSt.index)\n",
    "asym_top50"
   ]
  },
  {
   "cell_type": "code",
   "execution_count": 118,
   "metadata": {},
   "outputs": [],
   "source": [
    "p2 = \"/Users/annasintsova/git_repos/\" \\\n",
    "       \"HUTI-RNAseq/analysis/DE/2018-01-09-exploring-top-DE-genes/\" \\\n",
    "       \"data/DE-seq-results-all-core-edited.csv\"\n",
    "df = pd.read_csv(p2, index_col=0)\n",
    "df2 = df.loc[uti_top50]\n",
    "df2[\"sym\"]\n",
    "df3 = pd.merge(uti_c, df2, left_index=True, right_index=True)\n",
    "df3.columns\n",
    "df4 = df3[['average','sym','bnum']]\n",
    "df4 = df4.set_index(df4['bnum'])\n",
    "df5 = df4[['sym', 'average']]\n",
    "df5[\"clin_rank\"] = [i for i in range(1, 51)]\n",
    "df5\n",
    "uti_top50_bnum = list(df5.index)"
   ]
  },
  {
   "cell_type": "code",
   "execution_count": 122,
   "metadata": {},
   "outputs": [
    {
     "data": {
      "text/plain": [
       "21"
      ]
     },
     "execution_count": 122,
     "metadata": {},
     "output_type": "execute_result"
    }
   ],
   "source": [
    "uti_asym = [x for x in uti_top50_bnum if x in asym_top50]\n",
    "len(uti_asym)"
   ]
  },
  {
   "cell_type": "code",
   "execution_count": 106,
   "metadata": {},
   "outputs": [],
   "source": [
    "final = pd. merge(aSt, df5,left_index=True, right_index=True, how='inner' )\n"
   ]
  },
  {
   "cell_type": "code",
   "execution_count": 108,
   "metadata": {},
   "outputs": [
    {
     "data": {
      "text/plain": [
       "<matplotlib.axes._subplots.AxesSubplot at 0x11a053470>"
      ]
     },
     "execution_count": 108,
     "metadata": {},
     "output_type": "execute_result"
    },
    {
     "data": {
      "image/png": "[encoded data removed]",
      "text/plain": [
       "<matplotlib.figure.Figure at 0x11a6a2278>"
      ]
     },
     "metadata": {},
     "output_type": "display_data"
    }
   ],
   "source": [
    "%matplotlib inline\n",
    "final.plot(x='asym_rank', y='clin_rank', style = 'o')"
   ]
  },
  {
   "cell_type": "code",
   "execution_count": 111,
   "metadata": {},
   "outputs": [
    {
     "data": {
      "text/plain": [
       "(78, 6)"
      ]
     },
     "execution_count": 111,
     "metadata": {},
     "output_type": "execute_result"
    }
   ],
   "source": [
    "final2 = pd. merge(aSt, df5,left_index=True, right_index=True, how='outer' )\n",
    "final2['asym_rank'].fillna(0, inplace=True)\n",
    "final2['clin_rank'].fillna(0, inplace=True)\n",
    "final2.shape"
   ]
  },
  {
   "cell_type": "code",
   "execution_count": 114,
   "metadata": {},
   "outputs": [
    {
     "data": {
      "text/plain": [
       "<matplotlib.axes._subplots.AxesSubplot at 0x119fe5278>"
      ]
     },
     "execution_count": 114,
     "metadata": {},
     "output_type": "execute_result"
    },
    {
     "data": {
      "image/png": "[encoded data removed]",
      "text/plain": [
       "<matplotlib.figure.Figure at 0x119f826a0>"
      ]
     },
     "metadata": {},
     "output_type": "display_data"
    }
   ],
   "source": [
    "%matplotlib inline\n",
    "final2.plot(x='asym_rank', y='clin_rank')"
   ]
  },
  {
   "cell_type": "code",
   "execution_count": 113,
   "metadata": {},
   "outputs": [
    {
     "data": {
      "text/plain": [
       "<matplotlib.axes._subplots.AxesSubplot at 0x11a63f358>"
      ]
     },
     "execution_count": 113,
     "metadata": {},
     "output_type": "execute_result"
    },
    {
     "data": {
      "image/png": "[encoded data removed]",
      "text/plain": [
       "<matplotlib.figure.Figure at 0x11a68d4a8>"
      ]
     },
     "metadata": {},
     "output_type": "display_data"
    }
   ],
   "source": [
    "%matplotlib inline\n",
    "final2.plot(x='asym_rank', y='clin_rank', style = 'o')"
   ]
  },
  {
   "cell_type": "code",
   "execution_count": 124,
   "metadata": {},
   "outputs": [
    {
     "data": {
      "text/plain": [
       "['b3829',\n 'b0957',\n 'b2215',\n 'b1237',\n 'b0605',\n 'b3774',\n 'b0114',\n 'b3951',\n 'b1136',\n 'b3225',\n 'b2597',\n 'b1718',\n 'b3340',\n 'b3941',\n 'b3296',\n 'b4322',\n 'b2165',\n 'b3986',\n 'b3661',\n 'b1094',\n 'b3980',\n 'b3236',\n 'b0072',\n 'b2464',\n 'b3985',\n 'b0169',\n 'b0911',\n 'b1677',\n 'b4323',\n 'b2579',\n 'b3172',\n 'b3295',\n 'b1426',\n 'b0893',\n 'b4143',\n 'b0755',\n 'b4013',\n 'b2942',\n 'b1617',\n 'b0014',\n 'b3783',\n 'b1451',\n 'b0073',\n 'b2551',\n 'b3939',\n 'b1452',\n 'b0432',\n 'b0118',\n 'b4000',\n 'b2697']"
      ]
     },
     "execution_count": 124,
     "metadata": {},
     "output_type": "execute_result"
    }
   ],
   "source": [
    "df6 = df.loc[ur_top50]\n",
    "df7 = pd.merge(ur_c, df6, left_index=True, right_index=True)\n",
    "\n",
    "df8 = df7.set_index(df7['bnum'])\n",
    "\n",
    "ur_top50_bnum = list(df8.index)\n",
    "ur_top50_bnum"
   ]
  },
  {
   "cell_type": "code",
   "execution_count": 125,
   "metadata": {},
   "outputs": [
    {
     "data": {
      "text/plain": [
       "13"
      ]
     },
     "execution_count": 125,
     "metadata": {},
     "output_type": "execute_result"
    }
   ],
   "source": [
    "ur_asym = [x for x in ur_top50_bnum if x in asym_top50]\n",
    "len(ur_asym)"
   ]
  },
  {
   "cell_type": "code",
   "execution_count": 126,
   "metadata": {},
   "outputs": [
    {
     "data": {
      "text/plain": [
       "['b0605',\n 'b0114',\n 'b3340',\n 'b3296',\n 'b3986',\n 'b1094',\n 'b3985',\n 'b0169',\n 'b1677',\n 'b2579',\n 'b3295',\n 'b0755',\n 'b4000']"
      ]
     },
     "execution_count": 126,
     "metadata": {},
     "output_type": "execute_result"
    }
   ],
   "source": [
    "ur_asym"
   ]
  },
  {
   "cell_type": "code",
   "execution_count": null,
   "metadata": {},
   "outputs": [],
   "source": []
  }
 ],
 "metadata": {
  "kernelspec": {
   "display_name": "Python 2",
   "language": "python",
   "name": "python2"
  },
  "language_info": {
   "codemirror_mode": {
    "name": "ipython",
    "version": 2
   },
   "file_extension": ".py",
   "mimetype": "text/x-python",
   "name": "python",
   "nbconvert_exporter": "python",
   "pygments_lexer": "ipython2",
   "version": "2.7.6"
  }
 },
 "nbformat": 4,
 "nbformat_minor": 0
}
