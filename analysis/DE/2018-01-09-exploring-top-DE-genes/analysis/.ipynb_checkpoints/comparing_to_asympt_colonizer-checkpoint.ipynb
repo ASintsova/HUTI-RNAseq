{
 "cells": [
  {
   "cell_type": "code",
   "execution_count": 2,
   "metadata": {
    "collapsed": true
   },
   "outputs": [],
   "source": [
    "import pandas as pd\n",
    "import os"
   ]
  },
  {
   "cell_type": "code",
   "execution_count": 3,
   "metadata": {
    "collapsed": false
   },
   "outputs": [],
   "source": [
    "path = \"/Users/annasintsova/git_repos/\" \\\n",
    "       \"HUTI-RNAseq/analysis/DE/2018-01-09-exploring-top-DE-genes/\" \\\n",
    "       \"data/normalized_counts_core.csv\"\n",
    "counts = pd.read_csv(path, index_col= 0)\n",
    "uti = [u for u in list(counts.columns) if 'UTI' in u]\n",
    "uti_counts = counts[uti]\n",
    "uti_c = uti_counts.copy()# why do I need to do that?\n",
    "uti_c['average'] = uti_c.mean(numeric_only=True, axis=1)\n",
    "uti_c['average']\n",
    "uti_c = uti_c.sort_values(by=['average'], ascending = False)"
   ]
  },
  {
   "cell_type": "code",
   "execution_count": 6,
   "metadata": {
    "collapsed": false
   },
   "outputs": [
    {
     "data": {
      "text/plain": [
       "Index(['16419_rpsD', '17098_rplL', '17097_rplJ', '16449_fusA', '18168_ahpC',\n",
       "       '15747_trmD', '17669_aceE', '18460_rpsA', '14841_infC', '16418_rpoA',\n",
       "       '17722_rpsB', '16436_rplP', '18506_ompA', '16432_rplX', '16437_rpsC',\n",
       "       '16443_rplC', '17723_tsf', '16448_tuf1', '16420_rpsK', '16433_rplN',\n",
       "       '15346_ompC', '16428_rplF', '16421_rpsM', '16429_rpsH', '16442_rplD',\n",
       "       '16426_rpsE', '16431_rplE', '17100_rpoC', '16389_dusC_2', '18760_hns_2',\n",
       "       '16450_rpsG', '16438_rplV', '15881_eno', '18639_acpP', '16674_cspA',\n",
       "       '17096_rplA', '15749_rpsP', '16252_tdcE', '16305_infB', '16424_rplO',\n",
       "       '16362_rplM', '16322_rplU', '15748_rimM', '18022_tig', '18169_ahpF',\n",
       "       '16861_atpA', '16901_hypothetical_protein', '17670_aceF', '17671_lpdA',\n",
       "       '15412_ackA'],\n",
       "      dtype='object')"
      ]
     },
     "execution_count": 6,
     "metadata": {},
     "output_type": "execute_result"
    }
   ],
   "source": [
    "\n",
    "uti_c.head(50).index"
   ]
  },
  {
   "cell_type": "code",
   "execution_count": null,
   "metadata": {
    "collapsed": true
   },
   "outputs": [],
   "source": [
    "ur = [u for u in list(counts.columns)]"
   ]
  }
 ],
 "metadata": {
  "kernelspec": {
   "display_name": "Python 3",
   "language": "python",
   "name": "python3"
  },
  "language_info": {
   "codemirror_mode": {
    "name": "ipython",
    "version": 3
   },
   "file_extension": ".py",
   "mimetype": "text/x-python",
   "name": "python",
   "nbconvert_exporter": "python",
   "pygments_lexer": "ipython3",
   "version": "3.6.0"
  }
 },
 "nbformat": 4,
 "nbformat_minor": 0
}
