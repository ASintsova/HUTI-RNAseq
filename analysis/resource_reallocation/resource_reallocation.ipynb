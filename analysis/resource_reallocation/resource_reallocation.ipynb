{
 "cells": [
  {
   "cell_type": "code",
   "execution_count": 1,
   "metadata": {},
   "outputs": [
    {
     "name": "stdout",
     "output_type": "stream",
     "text": [
      "/Users/annasintsova/git_repos/HUTI-RNAseq/analysis/methods/helpers.py\n"
     ]
    }
   ],
   "source": [
    "import itertools\n",
    "import matplotlib\n",
    "from operator import itemgetter\n",
    "import sys\n",
    "sys.path.append('../methods')\n",
    "from settings import *\n",
    "import helpers\n",
    "import interacting_with_regulondb as ir\n",
    "\n",
    "%matplotlib inline\n",
    "config_dict = helpers.process_config(\"config\")\n",
    "\n",
    "# Output\n",
    "figures_dir = config_dict[\"out_dir\"][\"figures\"]\n",
    "results_dir = config_dict[\"out_dir\"][\"results\"]\n",
    "\n",
    "# Data\n",
    "rdb = config_dict[\"db\"][\"path\"]\n",
    "cnts_file = config_dict['out_dir']['counts']"
   ]
  },
  {
   "cell_type": "code",
   "execution_count": 2,
   "metadata": {},
   "outputs": [
    {
     "data": {
      "text/plain": [
       "(571, 5)"
      ]
     },
     "execution_count": 2,
     "metadata": {},
     "output_type": "execute_result"
    }
   ],
   "source": [
    "crp = pd.DataFrame.from_records(ir.get_regulon(rdb, 'crp'), columns=[\"regulator\", \"name\", \"locus_tag\", 'function', 'mod'])\n",
    "crp.shape #571, 5"
   ]
  },
  {
   "cell_type": "code",
   "execution_count": 3,
   "metadata": {},
   "outputs": [
    {
     "data": {
      "text/html": [
       "<div>\n",
       "<style scoped>\n",
       "    .dataframe tbody tr th:only-of-type {\n",
       "        vertical-align: middle;\n",
       "    }\n",
       "\n",
       "    .dataframe tbody tr th {\n",
       "        vertical-align: top;\n",
       "    }\n",
       "\n",
       "    .dataframe thead th {\n",
       "        text-align: right;\n",
       "    }\n",
       "</style>\n",
       "<table border=\"1\" class=\"dataframe\">\n",
       "  <thead>\n",
       "    <tr style=\"text-align: right;\">\n",
       "      <th></th>\n",
       "      <th>regulator</th>\n",
       "      <th>name</th>\n",
       "      <th>locus_tag</th>\n",
       "      <th>function</th>\n",
       "      <th>mod</th>\n",
       "    </tr>\n",
       "  </thead>\n",
       "  <tbody>\n",
       "    <tr>\n",
       "      <th>0</th>\n",
       "      <td>crp</td>\n",
       "      <td>lsrF</td>\n",
       "      <td>b1517</td>\n",
       "      <td>activator</td>\n",
       "      <td>CRP-cAMP</td>\n",
       "    </tr>\n",
       "    <tr>\n",
       "      <th>1</th>\n",
       "      <td>crp</td>\n",
       "      <td>lsrA</td>\n",
       "      <td>b1513</td>\n",
       "      <td>activator</td>\n",
       "      <td>CRP-cAMP</td>\n",
       "    </tr>\n",
       "    <tr>\n",
       "      <th>2</th>\n",
       "      <td>crp</td>\n",
       "      <td>mcaS</td>\n",
       "      <td>ECK120002610</td>\n",
       "      <td>activator</td>\n",
       "      <td>CRP-cAMP</td>\n",
       "    </tr>\n",
       "    <tr>\n",
       "      <th>3</th>\n",
       "      <td>crp</td>\n",
       "      <td>idnO</td>\n",
       "      <td>b4266</td>\n",
       "      <td>activator</td>\n",
       "      <td>CRP-cAMP</td>\n",
       "    </tr>\n",
       "    <tr>\n",
       "      <th>4</th>\n",
       "      <td>crp</td>\n",
       "      <td>lacY</td>\n",
       "      <td>b0343</td>\n",
       "      <td>repressor</td>\n",
       "      <td>CRP-cAMP</td>\n",
       "    </tr>\n",
       "  </tbody>\n",
       "</table>\n",
       "</div>"
      ],
      "text/plain": [
       "  regulator  name     locus_tag   function       mod\n",
       "0       crp  lsrF         b1517  activator  CRP-cAMP\n",
       "1       crp  lsrA         b1513  activator  CRP-cAMP\n",
       "2       crp  mcaS  ECK120002610  activator  CRP-cAMP\n",
       "3       crp  idnO         b4266  activator  CRP-cAMP\n",
       "4       crp  lacY         b0343  repressor  CRP-cAMP"
      ]
     },
     "execution_count": 3,
     "metadata": {},
     "output_type": "execute_result"
    }
   ],
   "source": [
    "crp.head()"
   ]
  },
  {
   "cell_type": "code",
   "execution_count": 4,
   "metadata": {},
   "outputs": [],
   "source": [
    "crp = crp[crp.function == 'activator'].set_index('name')"
   ]
  },
  {
   "cell_type": "code",
   "execution_count": 5,
   "metadata": {},
   "outputs": [
    {
     "data": {
      "text/plain": [
       "425"
      ]
     },
     "execution_count": 5,
     "metadata": {},
     "output_type": "execute_result"
    }
   ],
   "source": [
    "crp_bnums = crp.locus_tag.values\n",
    "len(crp_bnums) #425"
   ]
  },
  {
   "cell_type": "code",
   "execution_count": 6,
   "metadata": {},
   "outputs": [
    {
     "data": {
      "text/plain": [
       "48"
      ]
     },
     "execution_count": 6,
     "metadata": {},
     "output_type": "execute_result"
    }
   ],
   "source": [
    "def get_subset_genes(df, key, col_return,column_name=\"Function\"):\n",
    "    keep = []\n",
    "    if not type(key) == str:\n",
    "        return df[df[column_name].isin(key)][col_return]\n",
    "    for i, x in zip(df.index, df[column_name]):\n",
    "        if not type(x) == str:\n",
    "            continue\n",
    "        if key in x:\n",
    "            keep.append(i)\n",
    "    return df.loc[keep][col_return]\n",
    "\n",
    "df = pd.read_csv(config_dict['out_dir']['de_edited_file'], index_col=0)\n",
    "rprotein = get_subset_genes(df, \"ribosomal subunit protein\", df.columns).index\n",
    "len(rprotein) # 48"
   ]
  },
  {
   "cell_type": "code",
   "execution_count": 7,
   "metadata": {},
   "outputs": [],
   "source": [
    "cnts = pd.read_csv(cnts_file, index_col=0)\n",
    "to_keep = [c for c in cnts.columns if 'count' in c]\n",
    "cnts = cnts[to_keep]\n",
    "core_cnts = cnts.sum() # counts dedicated to core genome expression\n",
    "ribosome_counts = cnts.loc[rprotein]\n",
    "ribosome_sum = ribosome_counts.sum()\n",
    "crp_in_core = set(crp_bnums).intersection(set(cnts.index))\n",
    "crp_counts = cnts.loc[crp_in_core]\n",
    "crp_sum = crp_counts.sum()"
   ]
  },
  {
   "cell_type": "code",
   "execution_count": 8,
   "metadata": {},
   "outputs": [
    {
     "data": {
      "text/html": [
       "<div>\n",
       "<style scoped>\n",
       "    .dataframe tbody tr th:only-of-type {\n",
       "        vertical-align: middle;\n",
       "    }\n",
       "\n",
       "    .dataframe tbody tr th {\n",
       "        vertical-align: top;\n",
       "    }\n",
       "\n",
       "    .dataframe thead th {\n",
       "        text-align: right;\n",
       "    }\n",
       "</style>\n",
       "<table border=\"1\" class=\"dataframe\">\n",
       "  <thead>\n",
       "    <tr style=\"text-align: right;\">\n",
       "      <th></th>\n",
       "      <th>Core</th>\n",
       "      <th>R-protein</th>\n",
       "      <th>Catabolic genes</th>\n",
       "      <th>C%</th>\n",
       "      <th>R%</th>\n",
       "      <th>Sample</th>\n",
       "    </tr>\n",
       "  </thead>\n",
       "  <tbody>\n",
       "    <tr>\n",
       "      <th>HM01_UR_count</th>\n",
       "      <td>8339516.0</td>\n",
       "      <td>364511.0</td>\n",
       "      <td>2229966.0</td>\n",
       "      <td>26.74</td>\n",
       "      <td>4.37</td>\n",
       "      <td>URINE</td>\n",
       "    </tr>\n",
       "    <tr>\n",
       "      <th>HM01_UTI_count</th>\n",
       "      <td>2270040.0</td>\n",
       "      <td>605552.0</td>\n",
       "      <td>260645.0</td>\n",
       "      <td>11.48</td>\n",
       "      <td>26.68</td>\n",
       "      <td>PATIENT</td>\n",
       "    </tr>\n",
       "    <tr>\n",
       "      <th>HM03_UR_count</th>\n",
       "      <td>11344027.0</td>\n",
       "      <td>523235.0</td>\n",
       "      <td>2561484.0</td>\n",
       "      <td>22.58</td>\n",
       "      <td>4.61</td>\n",
       "      <td>URINE</td>\n",
       "    </tr>\n",
       "    <tr>\n",
       "      <th>HM03_UTI_count</th>\n",
       "      <td>4913506.0</td>\n",
       "      <td>1397637.0</td>\n",
       "      <td>643289.0</td>\n",
       "      <td>13.09</td>\n",
       "      <td>28.44</td>\n",
       "      <td>PATIENT</td>\n",
       "    </tr>\n",
       "    <tr>\n",
       "      <th>HM06_UR_count</th>\n",
       "      <td>11789016.0</td>\n",
       "      <td>883421.0</td>\n",
       "      <td>2478077.0</td>\n",
       "      <td>21.02</td>\n",
       "      <td>7.49</td>\n",
       "      <td>URINE</td>\n",
       "    </tr>\n",
       "    <tr>\n",
       "      <th>HM06_UTI_count</th>\n",
       "      <td>2606614.0</td>\n",
       "      <td>506208.0</td>\n",
       "      <td>303138.0</td>\n",
       "      <td>11.63</td>\n",
       "      <td>19.42</td>\n",
       "      <td>PATIENT</td>\n",
       "    </tr>\n",
       "    <tr>\n",
       "      <th>HM07_UR_count</th>\n",
       "      <td>10917809.0</td>\n",
       "      <td>480849.0</td>\n",
       "      <td>2156924.0</td>\n",
       "      <td>19.76</td>\n",
       "      <td>4.40</td>\n",
       "      <td>URINE</td>\n",
       "    </tr>\n",
       "    <tr>\n",
       "      <th>HM07_UTI_count</th>\n",
       "      <td>1136237.0</td>\n",
       "      <td>253247.0</td>\n",
       "      <td>132565.0</td>\n",
       "      <td>11.67</td>\n",
       "      <td>22.29</td>\n",
       "      <td>PATIENT</td>\n",
       "    </tr>\n",
       "    <tr>\n",
       "      <th>HM14_UR_count</th>\n",
       "      <td>11278572.0</td>\n",
       "      <td>512872.0</td>\n",
       "      <td>2786211.0</td>\n",
       "      <td>24.70</td>\n",
       "      <td>4.55</td>\n",
       "      <td>URINE</td>\n",
       "    </tr>\n",
       "    <tr>\n",
       "      <th>HM14_UTI_count</th>\n",
       "      <td>7774529.0</td>\n",
       "      <td>2139952.0</td>\n",
       "      <td>1071556.0</td>\n",
       "      <td>13.78</td>\n",
       "      <td>27.53</td>\n",
       "      <td>PATIENT</td>\n",
       "    </tr>\n",
       "    <tr>\n",
       "      <th>HM17_UR_count</th>\n",
       "      <td>10121010.0</td>\n",
       "      <td>760950.0</td>\n",
       "      <td>1694135.0</td>\n",
       "      <td>16.74</td>\n",
       "      <td>7.52</td>\n",
       "      <td>URINE</td>\n",
       "    </tr>\n",
       "    <tr>\n",
       "      <th>HM17_UTI_count</th>\n",
       "      <td>932047.0</td>\n",
       "      <td>263903.0</td>\n",
       "      <td>96428.0</td>\n",
       "      <td>10.35</td>\n",
       "      <td>28.31</td>\n",
       "      <td>PATIENT</td>\n",
       "    </tr>\n",
       "    <tr>\n",
       "      <th>HM43_UR_count</th>\n",
       "      <td>10121583.0</td>\n",
       "      <td>789818.0</td>\n",
       "      <td>1698987.0</td>\n",
       "      <td>16.79</td>\n",
       "      <td>7.80</td>\n",
       "      <td>URINE</td>\n",
       "    </tr>\n",
       "    <tr>\n",
       "      <th>HM43_UTI_count</th>\n",
       "      <td>4557691.0</td>\n",
       "      <td>1091252.0</td>\n",
       "      <td>562077.0</td>\n",
       "      <td>12.33</td>\n",
       "      <td>23.94</td>\n",
       "      <td>PATIENT</td>\n",
       "    </tr>\n",
       "    <tr>\n",
       "      <th>HM54_UR_count</th>\n",
       "      <td>9981479.0</td>\n",
       "      <td>666120.0</td>\n",
       "      <td>2365612.0</td>\n",
       "      <td>23.70</td>\n",
       "      <td>6.67</td>\n",
       "      <td>URINE</td>\n",
       "    </tr>\n",
       "    <tr>\n",
       "      <th>HM54_UTI_count</th>\n",
       "      <td>3651431.0</td>\n",
       "      <td>857188.0</td>\n",
       "      <td>383198.0</td>\n",
       "      <td>10.49</td>\n",
       "      <td>23.48</td>\n",
       "      <td>PATIENT</td>\n",
       "    </tr>\n",
       "    <tr>\n",
       "      <th>HM56_UR_count</th>\n",
       "      <td>9347192.0</td>\n",
       "      <td>706760.0</td>\n",
       "      <td>1804940.0</td>\n",
       "      <td>19.31</td>\n",
       "      <td>7.56</td>\n",
       "      <td>URINE</td>\n",
       "    </tr>\n",
       "    <tr>\n",
       "      <th>HM56_UTI_count</th>\n",
       "      <td>8893895.0</td>\n",
       "      <td>2586788.0</td>\n",
       "      <td>1056772.0</td>\n",
       "      <td>11.88</td>\n",
       "      <td>29.08</td>\n",
       "      <td>PATIENT</td>\n",
       "    </tr>\n",
       "    <tr>\n",
       "      <th>HM57_UR_count</th>\n",
       "      <td>9584537.0</td>\n",
       "      <td>479176.0</td>\n",
       "      <td>1953908.0</td>\n",
       "      <td>20.39</td>\n",
       "      <td>5.00</td>\n",
       "      <td>URINE</td>\n",
       "    </tr>\n",
       "    <tr>\n",
       "      <th>HM57_UTI_count</th>\n",
       "      <td>485722.0</td>\n",
       "      <td>125054.0</td>\n",
       "      <td>52279.0</td>\n",
       "      <td>10.76</td>\n",
       "      <td>25.75</td>\n",
       "      <td>PATIENT</td>\n",
       "    </tr>\n",
       "    <tr>\n",
       "      <th>HM60_UR_count</th>\n",
       "      <td>6710845.0</td>\n",
       "      <td>406514.0</td>\n",
       "      <td>1603225.0</td>\n",
       "      <td>23.89</td>\n",
       "      <td>6.06</td>\n",
       "      <td>URINE</td>\n",
       "    </tr>\n",
       "    <tr>\n",
       "      <th>HM60_UTI_count</th>\n",
       "      <td>380701.0</td>\n",
       "      <td>92693.0</td>\n",
       "      <td>42839.0</td>\n",
       "      <td>11.25</td>\n",
       "      <td>24.35</td>\n",
       "      <td>PATIENT</td>\n",
       "    </tr>\n",
       "    <tr>\n",
       "      <th>HM66_UR_count</th>\n",
       "      <td>7572318.0</td>\n",
       "      <td>556139.0</td>\n",
       "      <td>1609418.0</td>\n",
       "      <td>21.25</td>\n",
       "      <td>7.34</td>\n",
       "      <td>URINE</td>\n",
       "    </tr>\n",
       "    <tr>\n",
       "      <th>HM66_UTI_count</th>\n",
       "      <td>35041.0</td>\n",
       "      <td>7263.0</td>\n",
       "      <td>4062.0</td>\n",
       "      <td>11.59</td>\n",
       "      <td>20.73</td>\n",
       "      <td>PATIENT</td>\n",
       "    </tr>\n",
       "    <tr>\n",
       "      <th>HM68_UR_count</th>\n",
       "      <td>8995367.0</td>\n",
       "      <td>547146.0</td>\n",
       "      <td>1282201.0</td>\n",
       "      <td>14.25</td>\n",
       "      <td>6.08</td>\n",
       "      <td>URINE</td>\n",
       "    </tr>\n",
       "    <tr>\n",
       "      <th>HM68_UTI_count</th>\n",
       "      <td>1295309.0</td>\n",
       "      <td>299863.0</td>\n",
       "      <td>151523.0</td>\n",
       "      <td>11.70</td>\n",
       "      <td>23.15</td>\n",
       "      <td>PATIENT</td>\n",
       "    </tr>\n",
       "    <tr>\n",
       "      <th>HM86_UR_count</th>\n",
       "      <td>7217475.0</td>\n",
       "      <td>630724.0</td>\n",
       "      <td>1442531.0</td>\n",
       "      <td>19.99</td>\n",
       "      <td>8.74</td>\n",
       "      <td>URINE</td>\n",
       "    </tr>\n",
       "    <tr>\n",
       "      <th>HM86_UTI_count</th>\n",
       "      <td>3512605.0</td>\n",
       "      <td>907300.0</td>\n",
       "      <td>395800.0</td>\n",
       "      <td>11.27</td>\n",
       "      <td>25.83</td>\n",
       "      <td>PATIENT</td>\n",
       "    </tr>\n",
       "  </tbody>\n",
       "</table>\n",
       "</div>"
      ],
      "text/plain": [
       "                      Core  R-protein  Catabolic genes     C%     R%   Sample\n",
       "HM01_UR_count    8339516.0   364511.0        2229966.0  26.74   4.37    URINE\n",
       "HM01_UTI_count   2270040.0   605552.0         260645.0  11.48  26.68  PATIENT\n",
       "HM03_UR_count   11344027.0   523235.0        2561484.0  22.58   4.61    URINE\n",
       "HM03_UTI_count   4913506.0  1397637.0         643289.0  13.09  28.44  PATIENT\n",
       "HM06_UR_count   11789016.0   883421.0        2478077.0  21.02   7.49    URINE\n",
       "HM06_UTI_count   2606614.0   506208.0         303138.0  11.63  19.42  PATIENT\n",
       "HM07_UR_count   10917809.0   480849.0        2156924.0  19.76   4.40    URINE\n",
       "HM07_UTI_count   1136237.0   253247.0         132565.0  11.67  22.29  PATIENT\n",
       "HM14_UR_count   11278572.0   512872.0        2786211.0  24.70   4.55    URINE\n",
       "HM14_UTI_count   7774529.0  2139952.0        1071556.0  13.78  27.53  PATIENT\n",
       "HM17_UR_count   10121010.0   760950.0        1694135.0  16.74   7.52    URINE\n",
       "HM17_UTI_count    932047.0   263903.0          96428.0  10.35  28.31  PATIENT\n",
       "HM43_UR_count   10121583.0   789818.0        1698987.0  16.79   7.80    URINE\n",
       "HM43_UTI_count   4557691.0  1091252.0         562077.0  12.33  23.94  PATIENT\n",
       "HM54_UR_count    9981479.0   666120.0        2365612.0  23.70   6.67    URINE\n",
       "HM54_UTI_count   3651431.0   857188.0         383198.0  10.49  23.48  PATIENT\n",
       "HM56_UR_count    9347192.0   706760.0        1804940.0  19.31   7.56    URINE\n",
       "HM56_UTI_count   8893895.0  2586788.0        1056772.0  11.88  29.08  PATIENT\n",
       "HM57_UR_count    9584537.0   479176.0        1953908.0  20.39   5.00    URINE\n",
       "HM57_UTI_count    485722.0   125054.0          52279.0  10.76  25.75  PATIENT\n",
       "HM60_UR_count    6710845.0   406514.0        1603225.0  23.89   6.06    URINE\n",
       "HM60_UTI_count    380701.0    92693.0          42839.0  11.25  24.35  PATIENT\n",
       "HM66_UR_count    7572318.0   556139.0        1609418.0  21.25   7.34    URINE\n",
       "HM66_UTI_count     35041.0     7263.0           4062.0  11.59  20.73  PATIENT\n",
       "HM68_UR_count    8995367.0   547146.0        1282201.0  14.25   6.08    URINE\n",
       "HM68_UTI_count   1295309.0   299863.0         151523.0  11.70  23.15  PATIENT\n",
       "HM86_UR_count    7217475.0   630724.0        1442531.0  19.99   8.74    URINE\n",
       "HM86_UTI_count   3512605.0   907300.0         395800.0  11.27  25.83  PATIENT"
      ]
     },
     "execution_count": 8,
     "metadata": {},
     "output_type": "execute_result"
    }
   ],
   "source": [
    "totals =  pd.DataFrame({'Core': core_cnts,'R-protein':ribosome_sum, 'Catabolic genes': crp_sum})\n",
    "totals[\"C%\"] = round(totals[\"Catabolic genes\"]/totals[\"Core\"]*100,2)\n",
    "totals[\"R%\"] = round(totals[\"R-protein\"]/totals[\"Core\"]*100,2)\n",
    "totals['Sample'] = [ur  if 'UR' in c else uti for c in totals.index]\n",
    "totals\n"
   ]
  },
  {
   "cell_type": "code",
   "execution_count": 9,
   "metadata": {},
   "outputs": [],
   "source": [
    "flag = pd.read_csv(config_dict['flagstat']['summary'], index_col=0)\n",
    "flag\n",
    "flag.index = [f.split(\"_trimmed\")[0]+\"_count\" for f in flag.index]\n",
    "mapped = flag.loc[totals.index]['mapped']\n",
    "totals['mapped'] = mapped\n",
    "totals['% core'] = round(totals[\"Core\"]/totals['mapped']*100, 2)\n",
    "#totals.to_csv(os.path.join(results_dir, \"percent_allocated.csv\"))"
   ]
  },
  {
   "cell_type": "code",
   "execution_count": 29,
   "metadata": {},
   "outputs": [
    {
     "data": {
      "image/png": "[encoded data removed]",
      "text/plain": [
       "<Figure size 648x360 with 4 Axes>"
      ]
     },
     "metadata": {},
     "output_type": "display_data"
    }
   ],
   "source": [
    "fig = plt.figure(figsize=(9,5))\n",
    "\n",
    "sns.set(font_scale = 2.2)\n",
    "sns.set_style(\"white\")\n",
    "# Core Gene Expression\n",
    "ax1 = fig.add_axes([0.1, 0.5, 0.5, 1.2],\n",
    "                    xticklabels=[], ylim=(0, 100))\n",
    "#sns.violinplot(x = \"Sample\", y = \"% core\", palette=[col5, col1],data = totals,width=0.4)\n",
    "sns.boxplot(x = \"Sample\", y = \"% core\", palette=[col5, col1],data = totals,width=0.4)\n",
    "sns.swarmplot(x = \"Sample\", y = \"% core\", data = totals, color = 'black', alpha = 0.4)\n",
    "ax1.set_title(\"Core Gene Expression\\n\")\n",
    "ax1.set_xticklabels([ur, uti])\n",
    "ax1.set_xlabel(\"n = {}\".format(cnts.shape[0]))\n",
    "ax1.set_ylabel(\"% Total Reads\")\n",
    "\n",
    "# Ribosome Subunits Gene Expression\n",
    "\n",
    "ax2 = fig.add_axes([0.8, 0.5, 0.5, 1.2],\n",
    "                    xticklabels=[], ylim=(0, 35))\n",
    "#sns.violinplot(x = \"Sample\", y = \"R%\",palette=[col5, col1], data = totals, width=0.4)\n",
    "sns.boxplot(x = \"Sample\", y = \"R%\",palette=[col5, col1], data = totals, width=0.4)\n",
    "sns.swarmplot(x = \"Sample\", y = \"R%\", data =totals, color = 'black', alpha = 0.4)\n",
    "ax2.set_title(\"Ribosomal Subunit Gene Expression\\n\")\n",
    "ax2.set_xticklabels([ur, uti])\n",
    "ax2.set_xlabel(\"n = {}\".format(len(rprotein)))\n",
    "ax2.set_ylabel(\"% Core Genome Reads\")\n",
    "\n",
    "# Catabolic Gene Expression\n",
    "\n",
    "ax3 = fig.add_axes([1.5, 0.5, 0.5, 1.2],\n",
    "                    xticklabels=[], ylim=(0, 35))\n",
    "#sns.violinplot(x = \"Sample\", y = \"C%\", palette=[col5, col1], data = totals, width=0.4)\n",
    "sns.boxplot(x = \"Sample\", y = \"C%\", palette=[col5, col1], data = totals, width=0.4)\n",
    "sns.swarmplot(x = \"Sample\", y = \"C%\", data =totals, color = 'black', alpha = 0.4)\n",
    "ax3.set_title(\"Catabolic Gene Expression\\n\")\n",
    "ax3.set_xticklabels([ur, uti])\n",
    "ax3.set_xlabel(\"n = {}\".format(len(crp_in_core)))\n",
    "ax3.set_ylabel(\"% Core Genome Reads\")\n",
    "\n",
    "ax4 = fig.add_axes([2.2, 0.5, 0.5, 1.2],\n",
    "                    xticklabels=[], ylim=(0, 15))\n",
    "sns.boxplot(x = \"Sample\", y = \"A%\", palette=[col5, col1], data = totals, width=0.4)\n",
    "#sns.boxplot(x = \"Sample\", y = \"C%\", palette=[col5, col1], data = totals, width=0.4)\n",
    "sns.swarmplot(x = \"Sample\", y = \"A%\", data =totals, color = 'black', alpha = 0.4)\n",
    "ax4.set_title(\"Anabolic Gene Expression\\n\")\n",
    "ax4.set_xticklabels([ur, uti])\n",
    "ax4.set_xlabel(\"n = {}\".format(aa_A_genes_counts.shape[0]))\n",
    "ax4.set_ylabel(\"% Core Genome Reads\")\n",
    "fig.savefig(os.path.join(figures_dir, \"Figure_4.png\"),bbox_inches='tight',dpi=150 )"
   ]
  },
  {
   "cell_type": "code",
   "execution_count": 11,
   "metadata": {},
   "outputs": [],
   "source": [
    "from Bio.KEGG import REST\n",
    "\n",
    "\n",
    "\n",
    "paths = [\"path:eco00010\", \"path:eco00020\"]\n",
    "\n",
    "\n",
    "def get_genes_for_pathway(pathway):\n",
    "    genes = []\n",
    "    pathway_file = REST.kegg_get(pathway).read()\n",
    "    current_section = None\n",
    "    for line in pathway_file.rstrip().split(\"\\n\"):\n",
    "        section = line[:12].strip()  # section names are within 12 columns\n",
    "        if not section == \"\":\n",
    "            current_section = section\n",
    "\n",
    "        if current_section == \"GENE\":\n",
    "            gene_identifiers = line[12:].split(\"; \")[0]\n",
    "            gene_id, gene_symbol = gene_identifiers.split()\n",
    "\n",
    "            if not gene_symbol in genes:\n",
    "                genes.append(gene_id)\n",
    "    return genes\n"
   ]
  },
  {
   "cell_type": "code",
   "execution_count": 12,
   "metadata": {},
   "outputs": [],
   "source": [
    "glu = get_genes_for_pathway(\"path:eco00010\")\n",
    "tca = get_genes_for_pathway(\"path:eco00020\")"
   ]
  },
  {
   "cell_type": "code",
   "execution_count": 13,
   "metadata": {},
   "outputs": [],
   "source": [
    "glu_counts = cnts.loc[[g for g in glu if g in cnts.index]]\n",
    "glu_sum = glu_counts.sum()\n",
    "tca_counts = cnts.loc[[g for g in tca if g in cnts.index]]\n",
    "tca_sum = tca_counts.sum()"
   ]
  },
  {
   "cell_type": "code",
   "execution_count": 14,
   "metadata": {},
   "outputs": [
    {
     "data": {
      "text/plain": [
       "HM01_UR_count     4.687370\n",
       "HM01_UTI_count    4.475736\n",
       "HM03_UR_count     2.846793\n",
       "HM03_UTI_count    4.434145\n",
       "HM06_UR_count     2.817054\n",
       "HM06_UTI_count    3.058911\n",
       "HM07_UR_count     2.389472\n",
       "HM07_UTI_count    2.985997\n",
       "HM14_UR_count     3.392832\n",
       "HM14_UTI_count    5.360801\n",
       "HM17_UR_count     3.743441\n",
       "HM17_UTI_count    1.686396\n",
       "HM43_UR_count     4.542817\n",
       "HM43_UTI_count    2.268934\n",
       "HM54_UR_count     5.093313\n",
       "HM54_UTI_count    2.453942\n",
       "HM56_UR_count     4.283372\n",
       "HM56_UTI_count    3.437324\n",
       "HM57_UR_count     5.727371\n",
       "HM57_UTI_count    2.382433\n",
       "HM60_UR_count     5.576690\n",
       "HM60_UTI_count    2.795895\n",
       "HM66_UR_count     3.496433\n",
       "HM66_UTI_count    1.526783\n",
       "HM68_UR_count     4.525730\n",
       "HM68_UTI_count    2.335196\n",
       "HM86_UR_count     3.733951\n",
       "HM86_UTI_count    1.415132\n",
       "dtype: float64"
      ]
     },
     "execution_count": 14,
     "metadata": {},
     "output_type": "execute_result"
    }
   ],
   "source": [
    "tca_p = tca_sum/core_cnts*100\n",
    "tca_p"
   ]
  },
  {
   "cell_type": "code",
   "execution_count": 15,
   "metadata": {},
   "outputs": [
    {
     "ename": "KeyError",
     "evalue": "'TCA'",
     "output_type": "error",
     "traceback": [
      "\u001b[0;31m---------------------------------------------------------------------------\u001b[0m",
      "\u001b[0;31mKeyError\u001b[0m                                  Traceback (most recent call last)",
      "\u001b[0;32m<ipython-input-15-cae4808ff406>\u001b[0m in \u001b[0;36m<module>\u001b[0;34m()\u001b[0m\n\u001b[1;32m      1\u001b[0m \u001b[0mtotals\u001b[0m\u001b[0;34m[\u001b[0m\u001b[0;34m\"Glycolysis\"\u001b[0m\u001b[0;34m]\u001b[0m \u001b[0;34m=\u001b[0m \u001b[0mglu_sum\u001b[0m\u001b[0;34m/\u001b[0m\u001b[0mcore_cnts\u001b[0m\u001b[0;34m*\u001b[0m\u001b[0;36m100\u001b[0m\u001b[0;34m\u001b[0m\u001b[0m\n\u001b[1;32m      2\u001b[0m \u001b[0;34m\u001b[0m\u001b[0m\n\u001b[0;32m----> 3\u001b[0;31m \u001b[0mmet_summary\u001b[0m \u001b[0;34m=\u001b[0m \u001b[0mtotals\u001b[0m\u001b[0;34m.\u001b[0m\u001b[0mpivot_table\u001b[0m\u001b[0;34m(\u001b[0m\u001b[0;34m[\u001b[0m\u001b[0;34m\"TCA\"\u001b[0m\u001b[0;34m,\u001b[0m \u001b[0;34m\"Glycolysis\"\u001b[0m\u001b[0;34m]\u001b[0m\u001b[0;34m,\u001b[0m \u001b[0mindex\u001b[0m\u001b[0;34m=\u001b[0m\u001b[0;34m\"Sample\"\u001b[0m\u001b[0;34m)\u001b[0m\u001b[0;34m.\u001b[0m\u001b[0msort_index\u001b[0m\u001b[0;34m(\u001b[0m\u001b[0mascending\u001b[0m\u001b[0;34m=\u001b[0m\u001b[0;32mFalse\u001b[0m\u001b[0;34m)\u001b[0m\u001b[0;31m#.plot(kind='bar', stacked=True, figsize=(6,10))\u001b[0m\u001b[0;34m\u001b[0m\u001b[0m\n\u001b[0m\u001b[1;32m      4\u001b[0m \u001b[0mmet_summary\u001b[0m \u001b[0;34m=\u001b[0m \u001b[0mmet_summary\u001b[0m\u001b[0;34m[\u001b[0m\u001b[0;34m[\u001b[0m\u001b[0;34m'TCA'\u001b[0m\u001b[0;34m,\u001b[0m \u001b[0;34m'Glycolysis'\u001b[0m\u001b[0;34m]\u001b[0m\u001b[0;34m]\u001b[0m\u001b[0;34m\u001b[0m\u001b[0m\n\u001b[1;32m      5\u001b[0m \u001b[0mmet_summary\u001b[0m\u001b[0;34m.\u001b[0m\u001b[0mplot\u001b[0m\u001b[0;34m(\u001b[0m\u001b[0mkind\u001b[0m\u001b[0;34m=\u001b[0m\u001b[0;34m'bar'\u001b[0m\u001b[0;34m,\u001b[0m \u001b[0mstacked\u001b[0m\u001b[0;34m=\u001b[0m\u001b[0;32mTrue\u001b[0m\u001b[0;34m,\u001b[0m \u001b[0mfigsize\u001b[0m\u001b[0;34m=\u001b[0m\u001b[0;34m(\u001b[0m\u001b[0;36m6\u001b[0m\u001b[0;34m,\u001b[0m\u001b[0;36m10\u001b[0m\u001b[0;34m)\u001b[0m\u001b[0;34m,\u001b[0m \u001b[0mcolor\u001b[0m\u001b[0;34m=\u001b[0m\u001b[0;34m[\u001b[0m\u001b[0mcol1\u001b[0m\u001b[0;34m,\u001b[0m \u001b[0mcol5\u001b[0m\u001b[0;34m]\u001b[0m\u001b[0;34m)\u001b[0m\u001b[0;34m\u001b[0m\u001b[0m\n",
      "\u001b[0;32m/anaconda/envs/biology/lib/python3.6/site-packages/pandas/core/frame.py\u001b[0m in \u001b[0;36mpivot_table\u001b[0;34m(self, values, index, columns, aggfunc, fill_value, margins, dropna, margins_name)\u001b[0m\n\u001b[1;32m   5301\u001b[0m                            \u001b[0maggfunc\u001b[0m\u001b[0;34m=\u001b[0m\u001b[0maggfunc\u001b[0m\u001b[0;34m,\u001b[0m \u001b[0mfill_value\u001b[0m\u001b[0;34m=\u001b[0m\u001b[0mfill_value\u001b[0m\u001b[0;34m,\u001b[0m\u001b[0;34m\u001b[0m\u001b[0m\n\u001b[1;32m   5302\u001b[0m                            \u001b[0mmargins\u001b[0m\u001b[0;34m=\u001b[0m\u001b[0mmargins\u001b[0m\u001b[0;34m,\u001b[0m \u001b[0mdropna\u001b[0m\u001b[0;34m=\u001b[0m\u001b[0mdropna\u001b[0m\u001b[0;34m,\u001b[0m\u001b[0;34m\u001b[0m\u001b[0m\n\u001b[0;32m-> 5303\u001b[0;31m                            margins_name=margins_name)\n\u001b[0m\u001b[1;32m   5304\u001b[0m \u001b[0;34m\u001b[0m\u001b[0m\n\u001b[1;32m   5305\u001b[0m     \u001b[0;32mdef\u001b[0m \u001b[0mstack\u001b[0m\u001b[0;34m(\u001b[0m\u001b[0mself\u001b[0m\u001b[0;34m,\u001b[0m \u001b[0mlevel\u001b[0m\u001b[0;34m=\u001b[0m\u001b[0;34m-\u001b[0m\u001b[0;36m1\u001b[0m\u001b[0;34m,\u001b[0m \u001b[0mdropna\u001b[0m\u001b[0;34m=\u001b[0m\u001b[0;32mTrue\u001b[0m\u001b[0;34m)\u001b[0m\u001b[0;34m:\u001b[0m\u001b[0;34m\u001b[0m\u001b[0m\n",
      "\u001b[0;32m/anaconda/envs/biology/lib/python3.6/site-packages/pandas/core/reshape/pivot.py\u001b[0m in \u001b[0;36mpivot_table\u001b[0;34m(data, values, index, columns, aggfunc, fill_value, margins, dropna, margins_name)\u001b[0m\n\u001b[1;32m     59\u001b[0m         \u001b[0;32mfor\u001b[0m \u001b[0mi\u001b[0m \u001b[0;32min\u001b[0m \u001b[0mvalues\u001b[0m\u001b[0;34m:\u001b[0m\u001b[0;34m\u001b[0m\u001b[0m\n\u001b[1;32m     60\u001b[0m             \u001b[0;32mif\u001b[0m \u001b[0mi\u001b[0m \u001b[0;32mnot\u001b[0m \u001b[0;32min\u001b[0m \u001b[0mdata\u001b[0m\u001b[0;34m:\u001b[0m\u001b[0;34m\u001b[0m\u001b[0m\n\u001b[0;32m---> 61\u001b[0;31m                 \u001b[0;32mraise\u001b[0m \u001b[0mKeyError\u001b[0m\u001b[0;34m(\u001b[0m\u001b[0mi\u001b[0m\u001b[0;34m)\u001b[0m\u001b[0;34m\u001b[0m\u001b[0m\n\u001b[0m\u001b[1;32m     62\u001b[0m \u001b[0;34m\u001b[0m\u001b[0m\n\u001b[1;32m     63\u001b[0m         \u001b[0mto_filter\u001b[0m \u001b[0;34m=\u001b[0m \u001b[0;34m[\u001b[0m\u001b[0;34m]\u001b[0m\u001b[0;34m\u001b[0m\u001b[0m\n",
      "\u001b[0;31mKeyError\u001b[0m: 'TCA'"
     ]
    }
   ],
   "source": [
    "totals[\"Glycolysis\"] = glu_sum/core_cnts*100\n",
    "\n",
    "met_summary = totals.pivot_table([\"TCA\", \"Glycolysis\"], index=\"Sample\").sort_index(ascending=False)#.plot(kind='bar', stacked=True, figsize=(6,10))\n",
    "met_summary = met_summary[['TCA', 'Glycolysis']]\n",
    "met_summary.plot(kind='bar', stacked=True, figsize=(6,10), color=[col1, col5])\n",
    "plt.ylabel(\"% Core Genome Reads\")\n",
    "plt.ylim(0,10)\n"
   ]
  },
  {
   "cell_type": "code",
   "execution_count": 16,
   "metadata": {},
   "outputs": [],
   "source": [
    "aa_biosynthesis = \"eco00290,eco00300,eco00220,eco00400\".split(\",\")\n",
    "glycan_biosynthesis = \"eco00550 eco00540\".split()\n",
    "lipid_biosynthesis = \"eco00061 eco00121 eco01040\".split()\n",
    "\n",
    "aa_A_genes = []\n",
    "glycan_genes = []\n",
    "lipid_genes = []\n",
    "\n",
    "for p in aa_biosynthesis:\n",
    "    aa_A_genes+= get_genes_for_pathway(p)\n",
    "\n",
    "for p in glycan_biosynthesis:\n",
    "    glycan_genes += get_genes_for_pathway(p)\n",
    "    \n",
    "for p in lipid_biosynthesis:\n",
    "    lipid_genes+= get_genes_for_pathway(p)"
   ]
  },
  {
   "cell_type": "code",
   "execution_count": 17,
   "metadata": {},
   "outputs": [],
   "source": [
    "def get_percentage(gene_list, cnts_df):\n",
    "    counts = cnts_df.loc[[g for g in gene_list if g in cnts_df.index]]\n",
    "    return counts.sum()/cnts_df.sum()*100"
   ]
  },
  {
   "cell_type": "code",
   "execution_count": 18,
   "metadata": {},
   "outputs": [],
   "source": [
    "aa_A_sum = get_percentage(aa_A_genes, cnts)\n",
    "glycan_sum = get_percentage(glycan_genes, cnts)\n",
    "lipid_sum = get_percentage(lipid_genes, cnts)"
   ]
  },
  {
   "cell_type": "code",
   "execution_count": 28,
   "metadata": {},
   "outputs": [],
   "source": [
    "aa_A_genes_counts = cnts.loc[[g for g in aa_A_genes if g in cnts.index]]"
   ]
  },
  {
   "cell_type": "code",
   "execution_count": 19,
   "metadata": {},
   "outputs": [
    {
     "data": {
      "text/plain": [
       "HM01_UR_count     0.865986\n",
       "HM01_UTI_count    1.773185\n",
       "HM03_UR_count     0.861934\n",
       "HM03_UTI_count    1.834291\n",
       "HM06_UR_count     0.956908\n",
       "HM06_UTI_count    1.687822\n",
       "HM07_UR_count     0.942195\n",
       "HM07_UTI_count    2.027570\n",
       "HM14_UR_count     0.808116\n",
       "HM14_UTI_count    1.460204\n",
       "HM17_UR_count     0.907755\n",
       "HM17_UTI_count    2.027795\n",
       "HM43_UR_count     1.136779\n",
       "HM43_UTI_count    1.496306\n",
       "HM54_UR_count     0.979775\n",
       "HM54_UTI_count    1.898406\n",
       "HM56_UR_count     0.857980\n",
       "HM56_UTI_count    2.008153\n",
       "HM57_UR_count     0.971304\n",
       "HM57_UTI_count    2.033468\n",
       "HM60_UR_count     0.971070\n",
       "HM60_UTI_count    2.221428\n",
       "HM66_UR_count     0.860516\n",
       "HM66_UTI_count    1.481122\n",
       "HM68_UR_count     1.395318\n",
       "HM68_UTI_count    1.942780\n",
       "HM86_UR_count     0.975743\n",
       "HM86_UTI_count    2.086315\n",
       "dtype: float64"
      ]
     },
     "execution_count": 19,
     "metadata": {},
     "output_type": "execute_result"
    }
   ],
   "source": [
    "lipid_sum"
   ]
  },
  {
   "cell_type": "code",
   "execution_count": 20,
   "metadata": {},
   "outputs": [],
   "source": [
    "A_genes = aa_A_genes + glycan_genes + lipid_genes"
   ]
  },
  {
   "cell_type": "code",
   "execution_count": 21,
   "metadata": {},
   "outputs": [],
   "source": [
    "A_sum = get_percentage(A_genes, cnts)"
   ]
  },
  {
   "cell_type": "code",
   "execution_count": 22,
   "metadata": {},
   "outputs": [
    {
     "data": {
      "text/plain": [
       "HM01_UR_count      5.517526\n",
       "HM01_UTI_count     4.108430\n",
       "HM03_UR_count      7.079699\n",
       "HM03_UTI_count     3.785423\n",
       "HM06_UR_count      8.208022\n",
       "HM06_UTI_count     4.314678\n",
       "HM07_UR_count      6.324804\n",
       "HM07_UTI_count     4.154591\n",
       "HM14_UR_count      5.592800\n",
       "HM14_UTI_count     3.430690\n",
       "HM17_UR_count     11.203032\n",
       "HM17_UTI_count     4.478637\n",
       "HM43_UR_count      6.361564\n",
       "HM43_UTI_count     3.897061\n",
       "HM54_UR_count      6.572052\n",
       "HM54_UTI_count     4.532470\n",
       "HM56_UR_count      9.910538\n",
       "HM56_UTI_count     3.974749\n",
       "HM57_UR_count      5.278826\n",
       "HM57_UTI_count     4.237403\n",
       "HM60_UR_count      8.287198\n",
       "HM60_UTI_count     4.564474\n",
       "HM66_UR_count      8.965234\n",
       "HM66_UTI_count     4.506150\n",
       "HM68_UR_count      8.154987\n",
       "HM68_UTI_count     4.423809\n",
       "HM86_UR_count     12.130073\n",
       "HM86_UTI_count     4.781494\n",
       "dtype: float64"
      ]
     },
     "execution_count": 22,
     "metadata": {},
     "output_type": "execute_result"
    }
   ],
   "source": [
    "A_sum"
   ]
  },
  {
   "cell_type": "code",
   "execution_count": 23,
   "metadata": {},
   "outputs": [
    {
     "data": {
      "text/plain": [
       "HM01_UR_count      3.769991\n",
       "HM01_UTI_count     1.198966\n",
       "HM03_UR_count      5.218226\n",
       "HM03_UTI_count     0.952945\n",
       "HM06_UR_count      6.192357\n",
       "HM06_UTI_count     1.429134\n",
       "HM07_UR_count      4.354564\n",
       "HM07_UTI_count     1.144392\n",
       "HM14_UR_count      3.890626\n",
       "HM14_UTI_count     1.111746\n",
       "HM17_UR_count      9.350519\n",
       "HM17_UTI_count     1.420851\n",
       "HM43_UR_count      4.242706\n",
       "HM43_UTI_count     1.467607\n",
       "HM54_UR_count      4.715684\n",
       "HM54_UTI_count     1.416321\n",
       "HM56_UR_count      8.184415\n",
       "HM56_UTI_count     0.994176\n",
       "HM57_UR_count      3.410692\n",
       "HM57_UTI_count     1.109894\n",
       "HM60_UR_count      6.470377\n",
       "HM60_UTI_count     1.204357\n",
       "HM66_UR_count      7.126536\n",
       "HM66_UTI_count     1.832139\n",
       "HM68_UR_count      5.421713\n",
       "HM68_UTI_count     1.423213\n",
       "HM86_UR_count     10.234743\n",
       "HM86_UTI_count     1.661730\n",
       "dtype: float64"
      ]
     },
     "execution_count": 23,
     "metadata": {},
     "output_type": "execute_result"
    }
   ],
   "source": [
    "aa_A_sum"
   ]
  },
  {
   "cell_type": "code",
   "execution_count": 126,
   "metadata": {},
   "outputs": [
    {
     "data": {
      "text/plain": [
       "HM01_UR_count     0.881550\n",
       "HM01_UTI_count    1.136280\n",
       "HM03_UR_count     0.999539\n",
       "HM03_UTI_count    0.998187\n",
       "HM06_UR_count     1.058757\n",
       "HM06_UTI_count    1.197722\n",
       "HM07_UR_count     1.028045\n",
       "HM07_UTI_count    0.982630\n",
       "HM14_UR_count     0.894058\n",
       "HM14_UTI_count    0.858740\n",
       "HM17_UR_count     0.944757\n",
       "HM17_UTI_count    1.029991\n",
       "HM43_UR_count     0.982080\n",
       "HM43_UTI_count    0.933148\n",
       "HM54_UR_count     0.876594\n",
       "HM54_UTI_count    1.217742\n",
       "HM56_UR_count     0.868143\n",
       "HM56_UTI_count    0.972420\n",
       "HM57_UR_count     0.896830\n",
       "HM57_UTI_count    1.094041\n",
       "HM60_UR_count     0.845750\n",
       "HM60_UTI_count    1.138689\n",
       "HM66_UR_count     0.978181\n",
       "HM66_UTI_count    1.192888\n",
       "HM68_UR_count     1.337955\n",
       "HM68_UTI_count    1.057817\n",
       "HM86_UR_count     0.919588\n",
       "HM86_UTI_count    1.033450\n",
       "dtype: float64"
      ]
     },
     "execution_count": 126,
     "metadata": {},
     "output_type": "execute_result"
    }
   ],
   "source": [
    "glycan_sum"
   ]
  },
  {
   "cell_type": "code",
   "execution_count": 127,
   "metadata": {},
   "outputs": [
    {
     "data": {
      "text/plain": [
       "68"
      ]
     },
     "execution_count": 127,
     "metadata": {},
     "output_type": "execute_result"
    }
   ],
   "source": [
    "len(aa_A_genes)"
   ]
  },
  {
   "cell_type": "code",
   "execution_count": 128,
   "metadata": {},
   "outputs": [
    {
     "data": {
      "text/plain": [
       "20"
      ]
     },
     "execution_count": 128,
     "metadata": {},
     "output_type": "execute_result"
    }
   ],
   "source": [
    "len(lipid_genes)"
   ]
  },
  {
   "cell_type": "code",
   "execution_count": 129,
   "metadata": {},
   "outputs": [
    {
     "data": {
      "text/plain": [
       "HM01_UR_count     0.865986\n",
       "HM01_UTI_count    1.773185\n",
       "HM03_UR_count     0.861934\n",
       "HM03_UTI_count    1.834291\n",
       "HM06_UR_count     0.956908\n",
       "HM06_UTI_count    1.687822\n",
       "HM07_UR_count     0.942195\n",
       "HM07_UTI_count    2.027570\n",
       "HM14_UR_count     0.808116\n",
       "HM14_UTI_count    1.460204\n",
       "HM17_UR_count     0.907755\n",
       "HM17_UTI_count    2.027795\n",
       "HM43_UR_count     1.136779\n",
       "HM43_UTI_count    1.496306\n",
       "HM54_UR_count     0.979775\n",
       "HM54_UTI_count    1.898406\n",
       "HM56_UR_count     0.857980\n",
       "HM56_UTI_count    2.008153\n",
       "HM57_UR_count     0.971304\n",
       "HM57_UTI_count    2.033468\n",
       "HM60_UR_count     0.971070\n",
       "HM60_UTI_count    2.221428\n",
       "HM66_UR_count     0.860516\n",
       "HM66_UTI_count    1.481122\n",
       "HM68_UR_count     1.395318\n",
       "HM68_UTI_count    1.942780\n",
       "HM86_UR_count     0.975743\n",
       "HM86_UTI_count    2.086315\n",
       "dtype: float64"
      ]
     },
     "execution_count": 129,
     "metadata": {},
     "output_type": "execute_result"
    }
   ],
   "source": [
    "lipid_sum"
   ]
  },
  {
   "cell_type": "code",
   "execution_count": 24,
   "metadata": {},
   "outputs": [],
   "source": [
    "totals[\"A%\"] = aa_A_sum"
   ]
  },
  {
   "cell_type": "code",
   "execution_count": 26,
   "metadata": {},
   "outputs": [
    {
     "data": {
      "text/plain": [
       "['b3117',\n",
       " 'b3772',\n",
       " 'b0072',\n",
       " 'b0071',\n",
       " 'b0073',\n",
       " 'b0077',\n",
       " 'b3671',\n",
       " 'b0078',\n",
       " 'b3670',\n",
       " 'b3769',\n",
       " 'b3774',\n",
       " 'b3771',\n",
       " 'b3770',\n",
       " 'b3572',\n",
       " 'b2290',\n",
       " 'b0074',\n",
       " 'b4024',\n",
       " 'b0002',\n",
       " 'b3940',\n",
       " 'b3433',\n",
       " 'b2478',\n",
       " 'b0031',\n",
       " 'b0166',\n",
       " 'b3359',\n",
       " 'b2472',\n",
       " 'b3809',\n",
       " 'b2838',\n",
       " 'b0085',\n",
       " 'b0086',\n",
       " 'b0273',\n",
       " 'b4254',\n",
       " 'b3172',\n",
       " 'b3960',\n",
       " 'b1524',\n",
       " 'b0485',\n",
       " 'b3870',\n",
       " 'b1761',\n",
       " 'b2874',\n",
       " 'b0323',\n",
       " 'b0521',\n",
       " 'b0928',\n",
       " 'b2290',\n",
       " 'b2818',\n",
       " 'b3959',\n",
       " 'b3958',\n",
       " 'b3359',\n",
       " 'b3957',\n",
       " 'b0754',\n",
       " 'b1704',\n",
       " 'b2601',\n",
       " 'b3389',\n",
       " 'b1693',\n",
       " 'b3281',\n",
       " 'b1692',\n",
       " 'b0388',\n",
       " 'b3390',\n",
       " 'b0908',\n",
       " 'b2329',\n",
       " 'b1264',\n",
       " 'b1263',\n",
       " 'b1262',\n",
       " 'b1260',\n",
       " 'b1261',\n",
       " 'b2600',\n",
       " 'b2599',\n",
       " 'b0928',\n",
       " 'b2021',\n",
       " 'b4054']"
      ]
     },
     "execution_count": 26,
     "metadata": {},
     "output_type": "execute_result"
    }
   ],
   "source": [
    "aa_A_genes"
   ]
  },
  {
   "cell_type": "code",
   "execution_count": 144,
   "metadata": {},
   "outputs": [],
   "source": [
    "lrp_genes = {'b0077',\n",
    " 'b0078',\n",
    " 'b0889',\n",
    " 'b0907',\n",
    " 'b1190',\n",
    " 'b1243',\n",
    " 'b1244',\n",
    " 'b1245',\n",
    " 'b1246',\n",
    " 'b1247',\n",
    " 'b1482',\n",
    " 'b1798',\n",
    " 'b2156',\n",
    " 'b2163',\n",
    " 'b2211',\n",
    " 'b2290',\n",
    " 'b2662',\n",
    " 'b2663',\n",
    " 'b2669',\n",
    " 'b2903',\n",
    " 'b2904',\n",
    " 'b2905',\n",
    " 'b2912',\n",
    " 'b2913',\n",
    " 'b2923',\n",
    " 'b3212',\n",
    " 'b3418',\n",
    " 'b3454',\n",
    " 'b3455',\n",
    " 'b3456',\n",
    " 'b3457',\n",
    " 'b3508',\n",
    " 'b3509',\n",
    " 'b3510',\n",
    " 'b3572',\n",
    " 'b3617',\n",
    " 'b3769',\n",
    " 'b3770',\n",
    " 'b3771',\n",
    " 'b3772',\n",
    " 'b4132',\n",
    " 'b4187'}"
   ]
  },
  {
   "cell_type": "code",
   "execution_count": 145,
   "metadata": {},
   "outputs": [],
   "source": [
    "aagenes=set(aa_A_genes)"
   ]
  },
  {
   "cell_type": "code",
   "execution_count": 146,
   "metadata": {},
   "outputs": [
    {
     "data": {
      "text/plain": [
       "{'b0077', 'b0078', 'b2290', 'b3572', 'b3769', 'b3770', 'b3771', 'b3772'}"
      ]
     },
     "execution_count": 146,
     "metadata": {},
     "output_type": "execute_result"
    }
   ],
   "source": [
    "aagenes.intersection(lrp_genes)"
   ]
  },
  {
   "cell_type": "code",
   "execution_count": 147,
   "metadata": {},
   "outputs": [],
   "source": [
    "lrp_l = set(['b4009', 'b2588', 'b2589', 'b3272', 'b3275', 'ECK120048853',\n",
    "       'b3769', 'ECK120002505', 'b3853', 'b3971', 'b3969', 'b0201',\n",
    "       'b3273', 'b3460', 'b3508', 'ECK120004461', 'b3766', 'b4010',\n",
    "       'b4007', 'b3274', 'b3277', 'b2215', 'b1798', 'b3572', 'b3970',\n",
    "       'b3759', 'b3758', 'b3756', 'b3510', 'b2290', 'b2913', 'b2591',\n",
    "       'b3772', 'ECK120000491', 'b3855', 'b3854', 'b4008', 'b0205',\n",
    "       'b3276', 'b3278', 'b3852', 'b0202', 'b3968', 'b3757', 'b0889',\n",
    "       'b3771', 'b3851', 'b2590', 'b0204', 'b0203', 'b3509', 'b3770'])"
   ]
  },
  {
   "cell_type": "code",
   "execution_count": 148,
   "metadata": {},
   "outputs": [
    {
     "data": {
      "text/plain": [
       "{'b2290', 'b3572', 'b3769', 'b3770', 'b3771', 'b3772'}"
      ]
     },
     "execution_count": 148,
     "metadata": {},
     "output_type": "execute_result"
    }
   ],
   "source": [
    "aagenes.intersection(lrp_l)"
   ]
  },
  {
   "cell_type": "code",
   "execution_count": 150,
   "metadata": {},
   "outputs": [
    {
     "data": {
      "text/plain": [
       "42"
      ]
     },
     "execution_count": 150,
     "metadata": {},
     "output_type": "execute_result"
    }
   ],
   "source": []
  },
  {
   "cell_type": "code",
   "execution_count": 151,
   "metadata": {},
   "outputs": [
    {
     "data": {
      "text/plain": [
       "52"
      ]
     },
     "execution_count": 151,
     "metadata": {},
     "output_type": "execute_result"
    }
   ],
   "source": []
  },
  {
   "cell_type": "code",
   "execution_count": null,
   "metadata": {},
   "outputs": [],
   "source": []
  }
 ],
 "metadata": {
  "kernelspec": {
   "display_name": "Python 3",
   "language": "python",
   "name": "python3"
  },
  "language_info": {
   "codemirror_mode": {
    "name": "ipython",
    "version": 3
   },
   "file_extension": ".py",
   "mimetype": "text/x-python",
   "name": "python",
   "nbconvert_exporter": "python",
   "pygments_lexer": "ipython3",
   "version": "3.6.2"
  }
 },
 "nbformat": 4,
 "nbformat_minor": 2
}
