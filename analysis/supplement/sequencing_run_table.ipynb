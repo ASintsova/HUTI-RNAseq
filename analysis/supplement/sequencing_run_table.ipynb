{
 "cells": [
  {
   "cell_type": "code",
   "execution_count": 1,
   "metadata": {},
   "outputs": [
    {
     "name": "stdout",
     "output_type": "stream",
     "text": [
      "/Users/annasintsova/git_repos/HUTI-RNAseq/analysis/methods/helpers.py\n"
     ]
    }
   ],
   "source": [
    "import sys\n",
    "sys.path.append('/Users/annasintsova/git_repos/HUTI-RNAseq/analysis/methods')\n",
    "from settings import *\n",
    "import helpers\n",
    "%matplotlib inline\n",
    "config_file = \"/Users/annasintsova/git_repos/HUTI-RNAseq/analysis/supplement/config\"\n",
    "config_dict = helpers.process_config(config_file)\n",
    "\n",
    "# Output\n",
    "figures_dir = config_dict[\"output_directory\"][\"figures\"]\n",
    "results_dir = config_dict[\"output_directory\"][\"results\"]\n",
    "\n",
    "\n",
    "# Flagstat summary \n",
    "flag_file = config_dict[\"flagstat\"][\"summary\"]\n",
    "\n",
    "\n",
    "# Strain Info\n",
    "strain_info = pd.read_csv(strain_info_file, index_col=0)"
   ]
  },
  {
   "cell_type": "code",
   "execution_count": 30,
   "metadata": {},
   "outputs": [],
   "source": [
    "# Drop rows with 'seq' in them, only look at combined reads\n",
    "flag = pd.read_csv(flag_file, index_col=0)\n",
    "flag = flag.loc[flag.attr.isna()]\n",
    "flag['new_id'] = [sample_label(strain, treat) for strain, treat in zip(flag['genome'], flag[\"sample\"])]\n",
    "flag = flag.set_index(\"new_id\")\n",
    "flag.index.name = \"\"\n",
    "flag.percent_mapped = round(flag.percent_mapped*100, 1)\n",
    "flag = flag[[\"total_reads\", \"mapped\", \"percent_mapped\"]]\n",
    "# Edit Column names\n",
    "flag.columns = [\"Total Reads\", \"Mapped Reads\", \"% Mapped\"]\n",
    "filename = os.path.join(results_dir, \"Supplementary_Table_1.csv\")\n",
    "flag.to_csv(filename)"
   ]
  },
  {
   "cell_type": "code",
   "execution_count": null,
   "metadata": {},
   "outputs": [],
   "source": []
  }
 ],
 "metadata": {
  "kernelspec": {
   "display_name": "Python 3",
   "language": "python",
   "name": "python3"
  },
  "language_info": {
   "codemirror_mode": {
    "name": "ipython",
    "version": 3
   },
   "file_extension": ".py",
   "mimetype": "text/x-python",
   "name": "python",
   "nbconvert_exporter": "python",
   "pygments_lexer": "ipython3",
   "version": "3.6.2"
  }
 },
 "nbformat": 4,
 "nbformat_minor": 2
}
