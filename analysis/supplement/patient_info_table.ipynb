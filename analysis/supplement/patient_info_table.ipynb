{
 "cells": [
  {
   "cell_type": "code",
   "execution_count": 29,
   "metadata": {},
   "outputs": [
    {
     "name": "stdout",
     "output_type": "stream",
     "text": [
      "/Users/annasintsova/git_repos/HUTI-RNAseq/analysis/methods/helpers.py\n"
     ]
    }
   ],
   "source": [
    "\n",
    "import matplotlib\n",
    "import sys\n",
    "sys.path.append('/Users/annasintsova/git_repos/HUTI-RNAseq/analysis/methods')\n",
    "from settings import *\n",
    "import helpers\n",
    "%matplotlib inline\n",
    "config_file = \"/Users/annasintsova/git_repos/HUTI-RNAseq/analysis/supplement/config\"\n",
    "config_dict = helpers.process_config(config_file)\n",
    "\n",
    "# Output\n",
    "figures_dir = config_dict[\"output_directory\"][\"figures\"]\n",
    "results_dir = config_dict[\"output_directory\"][\"results\"]\n",
    "\n",
    "# Strain Info\n",
    "\n",
    "strain_info = pd.read_csv(strain_info_file, index_col=0)\n",
    "strain_info = (strain_info.reset_index()\n",
    "               .drop([\"index\", \"MEDIA\"], axis=1)\n",
    "               .drop_duplicates()\n",
    "               .set_index(\"STRAIN\"))\n",
    "strain_info.columns = [\"Phylogroup\", \"Previous History of UTI\"]\n",
    "strain_info.index.name = ''"
   ]
  },
  {
   "cell_type": "code",
   "execution_count": 17,
   "metadata": {},
   "outputs": [],
   "source": []
  },
  {
   "cell_type": "code",
   "execution_count": 31,
   "metadata": {},
   "outputs": [],
   "source": [
    "strain_info = strain_info.reindex([\"HM07\", \"HM03\", \"HM14\", \n",
    "                                  \"HM01\", \"HM60\", \"HM06\", \"HM56\",\n",
    "                                  \"HM43\", \"HM86\", \"HM54\",\n",
    "                                  \"HM66\", \"HM68\", \"HM57\", \"HM17\"])"
   ]
  },
  {
   "cell_type": "code",
   "execution_count": 33,
   "metadata": {},
   "outputs": [],
   "source": [
    "strain_info.to_csv(os.path.join(figures_dir, \"Patinet_info_table.csv\"))"
   ]
  },
  {
   "cell_type": "code",
   "execution_count": null,
   "metadata": {},
   "outputs": [],
   "source": []
  }
 ],
 "metadata": {
  "kernelspec": {
   "display_name": "Python 3",
   "language": "python",
   "name": "python3"
  },
  "language_info": {
   "codemirror_mode": {
    "name": "ipython",
    "version": 3
   },
   "file_extension": ".py",
   "mimetype": "text/x-python",
   "name": "python",
   "nbconvert_exporter": "python",
   "pygments_lexer": "ipython3",
   "version": "3.6.2"
  }
 },
 "nbformat": 4,
 "nbformat_minor": 2
}
