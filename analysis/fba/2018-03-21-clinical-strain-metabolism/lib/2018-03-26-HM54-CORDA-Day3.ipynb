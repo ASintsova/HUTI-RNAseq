{
 "cells": [
  {
   "cell_type": "code",
   "execution_count": 1,
   "metadata": {
    "collapsed": true
   },
   "outputs": [],
   "source": [
    "import pandas as pd\n",
    "import os\n",
    "import numpy as np\n",
    "import scipy as ss\n",
    "import scipy.stats\n",
    "%matplotlib inline\n",
    "import matplotlib.pyplot as plt\n",
    "from __future__ import print_function\n",
    "import cobra\n",
    "from corda import reaction_confidence\n",
    "from corda import CORDA"
   ]
  },
  {
   "cell_type": "code",
   "execution_count": 2,
   "metadata": {
    "collapsed": true
   },
   "outputs": [],
   "source": [
    "data = \"/Users/annasintsova/git_repos/\"\\\n",
    "        \"HUTI-RNAseq/data/get_homologs_output/C50_S90_e0_/\"\\\n",
    "        \"run_C50_S90_e0__pan_C50_S90/\"\\\n",
    "        \"2018-02-26_pangenome_matrix_t0_crossRef.csv\"\n",
    "model = \"/Users/annasintsova/git_repos/\"\\\n",
    "        \"HUTI-RNAseq/analysis/fba/2017-12-16-model-2/\"\\\n",
    "        \"data/HM54_homologues/HM54_model/HM54_iML1515.xml\""
   ]
  },
  {
   "cell_type": "code",
   "execution_count": 3,
   "metadata": {
    "collapsed": true
   },
   "outputs": [],
   "source": [
    "counts = pd.read_csv(data)\n",
    "HM54_rpkm = counts[[\"MG1655\", \"HM54_UR_RPKM\", \"HM54_UTI_RPKM\"]]\n",
    "HM54_rpkm = HM54_rpkm.dropna(subset=[\"MG1655\"])\n",
    "HM54_rpkm = HM54_rpkm[HM54_rpkm.MG1655 != \"PARALOGS\"]\n",
    "HM54_rpkm.set_index('MG1655', inplace=True)\n",
    "HM54_rpkm = HM54_rpkm.dropna()"
   ]
  },
  {
   "cell_type": "code",
   "execution_count": 4,
   "metadata": {
    "collapsed": false
   },
   "outputs": [
    {
     "data": {
      "image/png": "[encoded data removed]",
      "text/plain": [
       "<matplotlib.figure.Figure at 0x11d44d198>"
      ]
     },
     "metadata": {},
     "output_type": "display_data"
    }
   ],
   "source": [
    "HM54_rpkm.hist(sharex=True, sharey=True, figsize=(10,4),bins=20);"
   ]
  },
  {
   "cell_type": "code",
   "execution_count": 5,
   "metadata": {
    "collapsed": true
   },
   "outputs": [],
   "source": [
    "# Let's play\n",
    "def assignConfidence2(x):\n",
    "    if x > 1000.0:\n",
    "        return 3\n",
    "    elif x > 100.0:\n",
    "        return 2\n",
    "    elif x > 10.0:\n",
    "        return 1\n",
    "    elif x <= 10.0:\n",
    "        return -1"
   ]
  },
  {
   "cell_type": "code",
   "execution_count": 6,
   "metadata": {
    "collapsed": true
   },
   "outputs": [],
   "source": [
    "confidences = {'UR_conf':list(map(assignConfidence2, HM54_rpkm.HM54_UR_RPKM.values)),\n",
    "               'UTI_conf':list(map(assignConfidence2, HM54_rpkm.HM54_UTI_RPKM.values))}\n",
    "HM54 = pd.DataFrame(confidences,index = HM54_rpkm.index)\n",
    "ur_conf = HM54.UR_conf.to_dict()\n",
    "uti_conf = HM54.UTI_conf.to_dict()"
   ]
  },
  {
   "cell_type": "code",
   "execution_count": 13,
   "metadata": {
    "collapsed": true
   },
   "outputs": [],
   "source": [
    "base = cobra.io.read_sbml_model(model)"
   ]
  },
  {
   "cell_type": "code",
   "execution_count": null,
   "metadata": {
    "collapsed": true
   },
   "outputs": [],
   "source": [
    "# UTI\n",
    "conf = {}\n",
    "for r in base.reactions:\n",
    "    conf[r.id]=reaction_confidence(r.gene_reaction_rule, uti_conf)\n",
    "opt = CORDA(base, conf)\n",
    "opt.build()\n",
    "opt\n"
   ]
  },
  {
   "cell_type": "code",
   "execution_count": null,
   "metadata": {
    "collapsed": true
   },
   "outputs": [],
   "source": [
    "print([opt.model.reactions.get_by_id(k).id for k, \n",
    "       used in opt.included.items() if used])"
   ]
  },
  {
   "cell_type": "code",
   "execution_count": null,
   "metadata": {
    "collapsed": true
   },
   "outputs": [],
   "source": [
    "from corda import test_model\n",
    "\n",
    "mod = test_model()\n",
    "len(mod.reactions)"
   ]
  },
  {
   "cell_type": "code",
   "execution_count": 4,
   "metadata": {
    "collapsed": false
   },
   "outputs": [
    {
     "data": {
      "text/html": [
       "\n",
       "        <table>\n",
       "            <tr>\n",
       "                <td><strong>Reaction identifier</strong></td><td>EX_dxylnt_e</td>\n",
       "            </tr><tr>\n",
       "                <td><strong>Name</strong></td><td>D-Xylonate exchange</td>\n",
       "            </tr><tr>\n",
       "                <td><strong>Memory address</strong></td>\n",
       "                <td>0x011c682a90</td>\n",
       "            </tr><tr>\n",
       "                <td><strong>Stoichiometry</strong></td>\n",
       "                <td>\n",
       "                    <p style='text-align:right'>dxylnt_e --> </p>\n",
       "                    <p style='text-align:right'>D-Xylonate --> </p>\n",
       "                </td>\n",
       "            </tr><tr>\n",
       "                <td><strong>GPR</strong></td><td></td>\n",
       "            </tr><tr>\n",
       "                <td><strong>Lower bound</strong></td><td>0.0</td>\n",
       "            </tr><tr>\n",
       "                <td><strong>Upper bound</strong></td><td>1000.0</td>\n",
       "            </tr>\n",
       "        </table>\n",
       "        "
      ],
      "text/plain": [
       "<Reaction EX_dxylnt_e at 0x11c682a90>"
      ]
     },
     "execution_count": 4,
     "metadata": {},
     "output_type": "execute_result"
    }
   ],
   "source": [
    "base.reactions.EX_dxylnt_e"
   ]
  },
  {
   "cell_type": "code",
   "execution_count": 3,
   "metadata": {
    "collapsed": false
   },
   "outputs": [],
   "source": [
    "urine_reactions = pd.read_csv(\"/Users/annasintsova/git_repos/HUTI-RNAseq/analysis/\"\\\n",
    "                                \"fba/2018-03-21-clinical-strain-metabolism/\"\\\n",
    "                              \"data/2018-03-26-HM54-UR-BM-CORDA.tab\", sep=\"\\t\", header=None, \n",
    "                              names=[\"reaction_id\", \"reaction_name\"])"
   ]
  },
  {
   "cell_type": "code",
   "execution_count": 4,
   "metadata": {
    "collapsed": false
   },
   "outputs": [
    {
     "data": {
      "text/plain": [
       "(494, 2)"
      ]
     },
     "execution_count": 4,
     "metadata": {},
     "output_type": "execute_result"
    }
   ],
   "source": [
    "urine_reactions.shape"
   ]
  },
  {
   "cell_type": "code",
   "execution_count": 5,
   "metadata": {
    "collapsed": true
   },
   "outputs": [],
   "source": [
    "uti_reactions = pd.read_csv(\"/Users/annasintsova/git_repos/HUTI-RNAseq/analysis/\"\\\n",
    "                                \"fba/2018-03-21-clinical-strain-metabolism/\"\\\n",
    "                              \"data/2018-03-26-HM54-UTI-BM-CORDA.tab\", sep=\"\\t\", header=None, \n",
    "                              names=[\"reaction_id\", \"reaction_name\"])"
   ]
  },
  {
   "cell_type": "code",
   "execution_count": 6,
   "metadata": {
    "collapsed": false
   },
   "outputs": [
    {
     "data": {
      "text/plain": [
       "(464, 2)"
      ]
     },
     "execution_count": 6,
     "metadata": {},
     "output_type": "execute_result"
    }
   ],
   "source": [
    "uti_reactions.shape"
   ]
  },
  {
   "cell_type": "code",
   "execution_count": 7,
   "metadata": {
    "collapsed": true
   },
   "outputs": [],
   "source": [
    "uRx = set(urine_reactions.reaction_id)\n",
    "utiRx = set(uti_reactions.reaction_id)"
   ]
  },
  {
   "cell_type": "code",
   "execution_count": 8,
   "metadata": {
    "collapsed": true
   },
   "outputs": [],
   "source": [
    "both = uRx.intersection(utiRx)"
   ]
  },
  {
   "cell_type": "code",
   "execution_count": 9,
   "metadata": {
    "collapsed": false
   },
   "outputs": [
    {
     "data": {
      "text/plain": [
       "429"
      ]
     },
     "execution_count": 9,
     "metadata": {},
     "output_type": "execute_result"
    }
   ],
   "source": [
    "len(both)"
   ]
  },
  {
   "cell_type": "code",
   "execution_count": 10,
   "metadata": {
    "collapsed": false
   },
   "outputs": [
    {
     "data": {
      "text/plain": [
       "464"
      ]
     },
     "execution_count": 10,
     "metadata": {},
     "output_type": "execute_result"
    }
   ],
   "source": [
    "len(utiRx)"
   ]
  },
  {
   "cell_type": "code",
   "execution_count": 11,
   "metadata": {
    "collapsed": true
   },
   "outputs": [],
   "source": [
    "uti_specific = utiRx - uRx"
   ]
  },
  {
   "cell_type": "code",
   "execution_count": 12,
   "metadata": {
    "collapsed": false
   },
   "outputs": [
    {
     "data": {
      "text/plain": [
       "{'2DDARAA',\n",
       " 'ACOATA',\n",
       " 'ACPPAT160',\n",
       " 'ACPPAT161',\n",
       " 'ACt2rpp',\n",
       " 'ACtex',\n",
       " 'APG3PAT160',\n",
       " 'APG3PAT161',\n",
       " 'CBMKr',\n",
       " 'DHORD2',\n",
       " 'DXYLONtex',\n",
       " 'DXYLONtpp',\n",
       " 'DXYLTD',\n",
       " 'EX_ac_e',\n",
       " 'EX_dxylnt_e',\n",
       " 'FE2tpp',\n",
       " 'FTHFLi',\n",
       " 'GLUt2rpp',\n",
       " 'GLUt4pp',\n",
       " 'GLYCLTt4pp',\n",
       " 'KAS15',\n",
       " 'MDH',\n",
       " 'ME1',\n",
       " 'METOX1s',\n",
       " 'METOX2s',\n",
       " 'METSOXR1',\n",
       " 'METSOXR2',\n",
       " 'MN2tpp',\n",
       " 'NADHPO',\n",
       " 'PDH',\n",
       " 'PDX5PO2',\n",
       " 'POR5',\n",
       " 'RPE',\n",
       " 'TALA',\n",
       " 'VPAMTr'}"
      ]
     },
     "execution_count": 12,
     "metadata": {},
     "output_type": "execute_result"
    }
   ],
   "source": [
    "uti_specific"
   ]
  },
  {
   "cell_type": "code",
   "execution_count": 21,
   "metadata": {
    "collapsed": false
   },
   "outputs": [
    {
     "name": "stdout",
     "output_type": "stream",
     "text": [
      "CBMKr \t Carbamate kinase \t b0521\n",
      "PDX5PO2 \t Pyridoxine 5'-phosphate oxidase (anaerboic \t \n",
      "GLUt2rpp \t L-glutamate transport via proton symport, reversible (periplasm) \t b4077\n",
      "RPE \t Ribulose 5-phosphate 3-epimerase \t b3386\n",
      "ACPPAT160 \t Acyl-(acyl carrier protein):phosphate acyltransferase (C16:0) \t b1094 and b1090\n",
      "DXYLONtex \t D-xylonate transport via diffusion (extracellular) \t b1377 or b0929 or b2215\n",
      "ACOATA \t Acetyl-CoA ACP transacylase \t b1094 and b1091\n",
      "APG3PAT160 \t Acyl-phosphate:glycerol-3-phosphate acyltransferase (C16:0) \t b3059\n",
      "FE2tpp \t Iron (+2) transport in via permease (no H+) \t b3040\n",
      "MDH \t Malate dehydrogenase \t b3236\n",
      "VPAMTr \t Valine-pyruvate aminotransferase \t b3572\n",
      "DHORD2 \t Dihydoorotic acid dehydrogenase (quinone8) \t b0945\n",
      "DXYLONtpp \t D-xylonate reversible tranposrt (periplasm) \t \n",
      "METSOXR2 \t L-methionine-R-sulfoxide reductase \t ( b2582 and b1778 ) or ( b3781 and b1778 ) or ( b1832 and b3781 ) or ( b1832 and b2582 )\n",
      "ACPPAT161 \t Acyl-(acyl carrier protein):phosphate acyltransferase (C16:1) \t b1094 and b1090\n",
      "DXYLTD \t D-xylonate dehydratase \t b4297\n",
      "MN2tpp \t Manganese transport in via permease (no H+) \t b3040\n",
      "ACtex \t Acetate transport via diffusion (extracellular to periplasm) \t b0241 or b0929 or b1377 or b2215\n",
      "APG3PAT161 \t Acyl-phosphate:glycerol-3-phosphate acyltransferase (C16:1) \t b3059\n",
      "ACt2rpp \t Acetate reversible transport via proton symport (periplasm) \t b0010\n",
      "ME1 \t Malic enzyme (NAD) \t b1479\n",
      "POR5 \t Pyruvate synthase \t ( b1378 and b0684 ) or ( b1378 and b2895 )\n",
      "EX_dxylnt_e \t D-Xylonate exchange \t \n",
      "2DDARAA \t 2-dehydro-3-deoxy-D-arabinonate Aldolase \t b4298\n",
      "KAS15 \t Beta-ketoacyl-ACP synthase (2) \t b1091\n",
      "GLYCLTt4pp \t Glycolate transport via sodium symport (periplasm) \t b4067\n",
      "PDH \t Pyruvate dehydrogenase \t b0115 and b0116 and b0114\n",
      "METOX1s \t Methionine oxidation (spontaneous) \t s0001\n",
      "TALA \t Transaldolase \t b0008 or b2464\n",
      "GLUt4pp \t Na+/glutamate symport (periplasm) \t b3653\n",
      "NADHPO \t NADH peroxidase \t b0606 and b0605\n",
      "FTHFLi \t Formate-tetrahydrofolate ligase \t \n",
      "METSOXR1 \t L-methionine-S-oxide reductase \t ( b2582 and b4219 ) or ( b3781 and b4219 ) or ( b3551 and b2582 ) or ( b3551 and b3781 )\n",
      "METOX2s \t Methionine oxidation 2 (spontaneous) \t s0001\n",
      "EX_ac_e \t Acetate exchange \t \n"
     ]
    }
   ],
   "source": [
    "with open(\"../data/2018-03-27-uti-specific-reactions.tab\", \"w+\") as fo:\n",
    "    fo.write(\"Reaction_id\\tReaction_name\\tGene_reaction_rule\\n\")\n",
    "    for rx in uti_specific:\n",
    "        reaction = base.reactions.get_by_id(rx)\n",
    "        print(reaction.id, \"\\t\", reaction.name, \"\\t\", reaction.gene_reaction_rule)\n",
    "        fo.write(reaction.id + \"\\t\" + reaction.name +\"\\t\" + reaction.gene_reaction_rule + \"\\n\")"
   ]
  },
  {
   "cell_type": "code",
   "execution_count": 24,
   "metadata": {
    "collapsed": true
   },
   "outputs": [],
   "source": [
    "ur_specific = uRx - utiRx"
   ]
  },
  {
   "cell_type": "code",
   "execution_count": 25,
   "metadata": {
    "collapsed": false
   },
   "outputs": [
    {
     "data": {
      "text/plain": [
       "{'ACALD',\n",
       " 'AKGDH',\n",
       " 'ASPO4',\n",
       " 'ASPO5',\n",
       " 'ASPO6',\n",
       " 'CAT',\n",
       " 'CBPS',\n",
       " 'COBALT2t3pp',\n",
       " 'CYTK2',\n",
       " 'DADK',\n",
       " 'DGK1',\n",
       " 'DHGLYH',\n",
       " 'DRPA',\n",
       " 'DURIPP',\n",
       " 'EDA',\n",
       " 'EDD',\n",
       " 'EX_glyclt_e',\n",
       " 'EX_gua_e',\n",
       " 'FBP',\n",
       " 'FDH4pp',\n",
       " 'FE2t2pp',\n",
       " 'FESD1s',\n",
       " 'FESR',\n",
       " 'FLDR2',\n",
       " 'FORtppi',\n",
       " 'FTHFD',\n",
       " 'GCALDD',\n",
       " 'GLCtex_copy1',\n",
       " 'GLYCL',\n",
       " 'GLYCLTDx',\n",
       " 'GLYCLTDy',\n",
       " 'GLYCLTtex',\n",
       " 'GUAtex',\n",
       " 'GUAtpp',\n",
       " 'KAS14',\n",
       " 'MDH2',\n",
       " 'MNt2pp',\n",
       " 'NADH5',\n",
       " 'NI2t3pp',\n",
       " 'NTD1',\n",
       " 'NTD9',\n",
       " 'NTPP1',\n",
       " 'NTPP3',\n",
       " 'NTPP4',\n",
       " 'NTPP5',\n",
       " 'NTPP7',\n",
       " 'NTPP8',\n",
       " 'P5CD',\n",
       " 'PDX5POi',\n",
       " 'PPM2',\n",
       " 'PPPGO3',\n",
       " 'PPS',\n",
       " 'PROD3',\n",
       " 'PROt2rpp',\n",
       " 'PROt4pp',\n",
       " 'PUNP3',\n",
       " 'PYK2',\n",
       " 'PYK3',\n",
       " 'QMO3',\n",
       " 'SPODM',\n",
       " 'THD2pp',\n",
       " 'THIORDXi',\n",
       " 'UPPRT',\n",
       " 'VALTA',\n",
       " 'ZN2t3pp'}"
      ]
     },
     "execution_count": 25,
     "metadata": {},
     "output_type": "execute_result"
    }
   ],
   "source": [
    "ur_specific"
   ]
  },
  {
   "cell_type": "code",
   "execution_count": 17,
   "metadata": {
    "collapsed": false
   },
   "outputs": [
    {
     "data": {
      "text/html": [
       "\n",
       "        <table>\n",
       "            <tr>\n",
       "                <td><strong>Reaction identifier</strong></td><td>NTPP1</td>\n",
       "            </tr><tr>\n",
       "                <td><strong>Name</strong></td><td>Nucleoside triphosphate pyrophosphorylase (dgtp)</td>\n",
       "            </tr><tr>\n",
       "                <td><strong>Memory address</strong></td>\n",
       "                <td>0x011dcdff98</td>\n",
       "            </tr><tr>\n",
       "                <td><strong>Stoichiometry</strong></td>\n",
       "                <td>\n",
       "                    <p style='text-align:right'>dgtp_c + h2o_c --> dgmp_c + h_c + ppi_c</p>\n",
       "                    <p style='text-align:right'>DGTP C10H12N5O13P3 + H2O H2O --> DGMP C10H12N5O7P + H+ + Diphosphate</p>\n",
       "                </td>\n",
       "            </tr><tr>\n",
       "                <td><strong>GPR</strong></td><td>b0099 or b2781</td>\n",
       "            </tr><tr>\n",
       "                <td><strong>Lower bound</strong></td><td>0.0</td>\n",
       "            </tr><tr>\n",
       "                <td><strong>Upper bound</strong></td><td>1000.0</td>\n",
       "            </tr>\n",
       "        </table>\n",
       "        "
      ],
      "text/plain": [
       "<Reaction NTPP1 at 0x11dcdff98>"
      ]
     },
     "execution_count": 17,
     "metadata": {},
     "output_type": "execute_result"
    }
   ],
   "source": [
    "x =base.reactions.NTPP1\n",
    "x.g"
   ]
  },
  {
   "cell_type": "code",
   "execution_count": 10,
   "metadata": {
    "collapsed": true
   },
   "outputs": [],
   "source": [
    "data = \"/Users/annasintsova/git_repos/\"\\\n",
    "        \"HUTI-RNAseq/data/get_homologs_output/C50_S90_e0_/\"\\\n",
    "        \"run_C50_S90_e0__pan_C50_S90/\"\\\n",
    "        \"2018-02-26_pangenome_matrix_t0_crossRef.csv\"\n",
    "model = \"/Users/annasintsova/git_repos/\"\\\n",
    "        \"HUTI-RNAseq/analysis/fba/2017-12-16-model-2/\"\\\n",
    "        \"data/HM43_homologues/HM43_model/HM43_iML1515.xml\"\n",
    "\n",
    "counts = pd.read_csv(data)\n",
    "HM54_rpkm = counts[[\"MG1655\", \"HM54_UR_RPKM\", \"HM54_UTI_RPKM\"]]\n",
    "HM54_rpkm = HM54_rpkm.dropna(subset=[\"MG1655\"])\n",
    "HM54_rpkm = HM54_rpkm[HM54_rpkm.MG1655 != \"PARALOGS\"]\n",
    "HM54_rpkm.set_index('MG1655', inplace=True)\n",
    "HM54_rpkm = HM54_rpkm.dropna()\n"
   ]
  },
  {
   "cell_type": "code",
   "execution_count": 5,
   "metadata": {
    "collapsed": true
   },
   "outputs": [],
   "source": [
    "counts = pd.read_csv(data)\n",
    "HM43_rpkm = counts[[\"MG1655\", \"HM43_UR_RPKM\", \"HM43_UTI_RPKM\"]]\n",
    "HM43_rpkm = HM43_rpkm.dropna(subset=[\"MG1655\"])\n",
    "HM43_rpkm = HM43_rpkm[HM43_rpkm.MG1655 != \"PARALOGS\"]\n",
    "HM43_rpkm.set_index('MG1655', inplace=True)\n",
    "HM43_rpkm = HM43_rpkm.dropna()\n"
   ]
  },
  {
   "cell_type": "code",
   "execution_count": 6,
   "metadata": {
    "collapsed": true
   },
   "outputs": [],
   "source": [
    "def assignConfidence2(x):\n",
    "    if x > 1000.0:\n",
    "        return 2\n",
    "    # elif x > 500.0:\n",
    "    #     return 2\n",
    "    # elif x > 100.0:\n",
    "    #     return 1\n",
    "    elif x <= 100.0:\n",
    "        return -1\n",
    "    else:\n",
    "        return 0"
   ]
  },
  {
   "cell_type": "code",
   "execution_count": 7,
   "metadata": {
    "collapsed": true
   },
   "outputs": [],
   "source": [
    "def runCORDA(model, conf_dict, file_out, metabolite = \"\"):\n",
    "    reaction_conf = {}\n",
    "    for rx in model.reactions:\n",
    "        if rx.id == \"BIOMASS_Ec_iML1515_core_75p37M\":\n",
    "            reaction_conf[rx.id] = 3\n",
    "        else:\n",
    "            reaction_conf[rx.id] = reaction_confidence(rx.gene_reaction_rule, conf_dict)\n",
    "    if not metabolite:\n",
    "        opt = CORDA(model, reaction_conf)\n",
    "        opt.build()\n",
    "    else:\n",
    "        opt = CORDA(model, reaction_conf, met_prod=metabolite)\n",
    "        opt.build()\n",
    "    print(opt)\n",
    "    #cobra.io.write_sbml_model(opt.model, (file_out+\".sbml\"))\n",
    "    #with open((file_out+\".tab\"), \"w\") as fh:\n",
    "    #    for k, used in opt.included.items():\n",
    "    #        if used:\n",
    "    #            fh.write(opt.model.reactions.get_by_id(k).id +\n",
    "    #                     \"\\t\" + opt.model.reactions.get_by_id(k).name + \"\\n\")\n",
    "\n",
    "    return reaction_conf, opt"
   ]
  },
  {
   "cell_type": "code",
   "execution_count": 8,
   "metadata": {
    "collapsed": true
   },
   "outputs": [],
   "source": [
    "confidences = {'UR_conf':list(map(assignConfidence2, HM43_rpkm.HM43_UR_RPKM.values)),\n",
    "               'UTI_conf':list(map(assignConfidence2, HM43_rpkm.HM43_UTI_RPKM.values))}\n",
    "\n",
    "HM43 = pd.DataFrame(confidences,index=HM43_rpkm.index)\n",
    "ur_conf = HM43.UR_conf.to_dict()\n",
    "uti_conf = HM43.UTI_conf.to_dict()"
   ]
  },
  {
   "cell_type": "code",
   "execution_count": 11,
   "metadata": {
    "collapsed": true
   },
   "outputs": [],
   "source": [
    "base = cobra.io.read_sbml_model(model)\n"
   ]
  },
  {
   "cell_type": "code",
   "execution_count": 12,
   "metadata": {
    "collapsed": false
   },
   "outputs": [
    {
     "data": {
      "text/plain": [
       "'HM43_iML1515'"
      ]
     },
     "execution_count": 12,
     "metadata": {},
     "output_type": "execute_result"
    }
   ],
   "source": [
    "base.id\n"
   ]
  },
  {
   "cell_type": "code",
   "execution_count": 13,
   "metadata": {
    "collapsed": false
   },
   "outputs": [
    {
     "data": {
      "text/plain": [
       "(30, 2)"
      ]
     },
     "execution_count": 13,
     "metadata": {},
     "output_type": "execute_result"
    }
   ],
   "source": [
    "HM43_rpkm[HM43_rpkm.HM43_UTI_RPKM > 1000].shape"
   ]
  },
  {
   "cell_type": "code",
   "execution_count": null,
   "metadata": {
    "collapsed": false
   },
   "outputs": [],
   "source": [
    "#d1, m1 = runCORDA(base, ur_conf, \"2018-03-26-HM54-UR-CORDA\")\n",
    "d2, m2 = runCORDA(base, uti_conf, \"2018-03-28-HM43-UTI-CORDA\")"
   ]
  },
  {
   "cell_type": "code",
   "execution_count": null,
   "metadata": {
    "collapsed": true
   },
   "outputs": [],
   "source": [
    "d1, m1 = runCORDA(base, ur_conf, \"2018-03-26-HM54-UR-CORDA\")"
   ]
  },
  {
   "cell_type": "code",
   "execution_count": 14,
   "metadata": {
    "collapsed": false
   },
   "outputs": [
    {
     "name": "stdout",
     "output_type": "stream",
     "text": [
      "build status: reconstruction complete\n",
      "Inc. reactions: 466/2626\n",
      " - unclear: 200/889\n",
      " - exclude: 224/1429\n",
      " - low and medium: 41/307\n",
      " - high: 1/1\n",
      "\n"
     ]
    }
   ],
   "source": [
    "#d3, m3 = runCORDA(base, uti_conf, \"2018-03-26-HM54-UTI-CORDA\")"
   ]
  },
  {
   "cell_type": "code",
   "execution_count": 41,
   "metadata": {
    "collapsed": false
   },
   "outputs": [
    {
     "name": "stdout",
     "output_type": "stream",
     "text": [
      "2626\n",
      "466\n"
     ]
    }
   ],
   "source": [
    "hm54 = cobra.io.read_sbml_model(model)\n",
    "print(len(hm54.reactions))\n",
    "\n",
    "all_reactions = list(hm54.reactions)\n",
    "for rx in all_reactions:\n",
    "    if m2.included[rx.id] :\n",
    "        continue\n",
    "    else: \n",
    "        hm54.reactions.get_by_id(rx.id).remove_from_model()\n",
    "        #print(len(hm54.reactions))\n",
    "print(len(hm54.reactions))"
   ]
  },
  {
   "cell_type": "code",
   "execution_count": 44,
   "metadata": {
    "collapsed": false
   },
   "outputs": [],
   "source": [
    "sol = hm54.optimize()"
   ]
  },
  {
   "cell_type": "code",
   "execution_count": 46,
   "metadata": {
    "collapsed": false
   },
   "outputs": [
    {
     "data": {
      "text/plain": [
       "ENO         18.274692\n",
       "EX_ac_e     15.367080\n",
       "EX_co2_e    18.395567\n",
       "EX_h2o_e    25.388184\n",
       "EX_h_e      17.800339\n",
       "GAPD        18.715042\n",
       "MOX         17.785819\n",
       "NADHPO      17.785819\n",
       "O2tex       17.830569\n",
       "O2tpp       17.830052\n",
       "PDH         16.489576\n",
       "PTAr        15.212918\n",
       "Name: fluxes, dtype: float64"
      ]
     },
     "execution_count": 46,
     "metadata": {},
     "output_type": "execute_result"
    }
   ],
   "source": [
    "sol[sol.fluxes > 10]"
   ]
  },
  {
   "cell_type": "code",
   "execution_count": 48,
   "metadata": {
    "collapsed": false
   },
   "outputs": [
    {
     "name": "stdout",
     "output_type": "stream",
     "text": [
      "PRODUCING REACTIONS -- ATP C10H12N5O13P3 (atp_c)\n",
      "------------------------------------------------\n",
      "%       FLUX  RXN ID      REACTION\n",
      "---  -------  ----------  --------------------------------------------------\n",
      "45%  18.7     PGK         3pg_c + atp_c <=> 13dpg_c + adp_c\n",
      "37%  15.2     ACKr        ac_c + atp_c <=> actp_c + adp_c\n",
      "18%   7.27    PYK         adp_c + h_c + pep_c --> atp_c + pyr_c\n",
      "\n",
      "CONSUMING REACTIONS -- ATP C10H12N5O13P3 (atp_c)\n",
      "------------------------------------------------\n",
      "%       FLUX  RXN ID      REACTION\n",
      "---  -------  ----------  --------------------------------------------------\n",
      "49%  20       BIOMASS...  0.000223 10fthf_c + 2.6e-05 2fe2s_c + 0.000223 ...\n",
      "21%   8.53    PFK         atp_c + f6p_c --> adp_c + fdp_c + h_c\n",
      "17%   6.86    ATPM        atp_c + h2o_c --> adp_c + h_c + pi_c\n",
      "2%    0.803   ADK1        amp_c + atp_c <=> 2.0 adp_c\n",
      "2%    0.639   ACCOAC      accoa_c + atp_c + hco3_c --> adp_c + h_c + malc...\n",
      "1%    0.613   ATPS4rpp    adp_c + 4.0 h_p + pi_c <=> atp_c + h2o_c + 3.0 h_c\n",
      "1%    0.595   PFK_3       atp_c + s7p_c --> adp_c + h_c + s17bp_c\n",
      "1%    0.415   GLNS        atp_c + glu__L_c + nh4_c --> adp_c + gln__L_c +...\n",
      "1%    0.283   ASPK        asp__L_c + atp_c <=> 4pasp_c + adp_c\n",
      "1%    0.247   PRPPS       atp_c + r5p_c <=> amp_c + h_c + prpp_c\n",
      "0%    0.166   CBMKr       atp_c + co2_c + nh4_c <=> adp_c + cbp_c + 2.0 h_c\n",
      "0%    0.144   HSK         atp_c + hom__L_c --> adp_c + h_c + phom_c\n",
      "0%    0.139   SUCOAS      atp_c + coa_c + succ_c <=> adp_c + pi_c + succoa_c\n",
      "0%    0.119   PRAGSr      atp_c + gly_c + pram_c <=> adp_c + gar_c + h_c ...\n",
      "0%    0.119   PRAIS       atp_c + fpram_c --> adp_c + air_c + 2.0 h_c + pi_c\n",
      "0%    0.119   PRFGS       atp_c + fgam_c + gln__L_c + h2o_c --> adp_c + f...\n",
      "0%    0.119   AIRC2       air_c + atp_c + hco3_c --> 5caiz_c + adp_c + h_...\n",
      "0%    0.119   PRASCSi     5aizc_c + asp__L_c + atp_c --> 25aics_c + adp_c...\n",
      "0%    0.106   NDPK2       atp_c + udp_c <=> adp_c + utp_c\n",
      "0%    0.101   SHKK        atp_c + skm_c --> adp_c + h_c + skm5p_c\n",
      "0%    0.1     UMPK        atp_c + ump_c <=> adp_c + udp_c\n",
      "0%    0.0783  ACGK        acglu_c + atp_c --> acg5p_c + adp_c\n",
      "0%    0.0783  ARGSS       asp__L_c + atp_c + citr__L_c --> amp_c + argsuc...\n",
      "0%    0.0655  ADSK        aps_c + atp_c --> adp_c + h_c + paps_c\n",
      "0%    0.0655  SADT2       atp_c + gtp_c + h2o_c + so4_c --> aps_c + gdp_c...\n",
      "0%    0.0644  GK1         atp_c + gmp_c <=> adp_c + gdp_c\n",
      "0%    0.0644  GMPS        atp_c + nh4_c + xmp_c --> amp_c + gmp_c + 2.0 h...\n",
      "0%    0.0638  ASNS2       asp__L_c + atp_c + nh4_c --> amp_c + asn__L_c +...\n",
      "0%    0.0585  GLU5K       atp_c + glu__L_c --> adp_c + glu5p_c\n",
      "0%    0.0479  CYTK1       atp_c + cmp_c <=> adp_c + cdp_c\n",
      "0%    0.0425  CTPS2       atp_c + gln__L_c + h2o_c + utp_c --> adp_c + ct...\n",
      "0%    0.0408  NDPK3       atp_c + cdp_c <=> adp_c + ctp_c\n",
      "0%    0.0295  GART        atp_c + for_c + gar_c --> adp_c + fgam_c + h_c ...\n",
      "0%    0.0251  ATPPRT      atp_c + prpp_c --> ppi_c + prbatp_c\n",
      "0%    0.0199  PE161abcpp  atp_c + h2o_c + pe161_c --> adp_c + h_c + pe161...\n",
      "0%    0.0169  PE160abcpp  atp_c + h2o_c + pe160_c --> adp_c + h_c + pe160...\n"
     ]
    }
   ],
   "source": [
    "hm54.metabolites.atp_c.summary()"
   ]
  },
  {
   "cell_type": "code",
   "execution_count": 77,
   "metadata": {
    "collapsed": false
   },
   "outputs": [],
   "source": [
    "biomass = base.reactions.BIOMASS_Ec_iML1515_core_75p37M"
   ]
  },
  {
   "cell_type": "code",
   "execution_count": 78,
   "metadata": {
    "collapsed": true
   },
   "outputs": [],
   "source": [
    "hm54.add_reactions([biomass])"
   ]
  },
  {
   "cell_type": "code",
   "execution_count": 82,
   "metadata": {
    "collapsed": false
   },
   "outputs": [],
   "source": [
    "hm54.objective = 'BIOMASS_Ec_iML1515_core_75p37M'"
   ]
  },
  {
   "cell_type": "code",
   "execution_count": 83,
   "metadata": {
    "collapsed": false
   },
   "outputs": [
    {
     "data": {
      "text/plain": [
       "-1.0*BIOMASS_Ec_iML1515_core_75p37M_reverse_35685 + 1.0*BIOMASS_Ec_iML1515_core_75p37M"
      ]
     },
     "execution_count": 83,
     "metadata": {},
     "output_type": "execute_result"
    }
   ],
   "source": [
    "hm54.objective.expression"
   ]
  },
  {
   "cell_type": "code",
   "execution_count": 86,
   "metadata": {
    "collapsed": false
   },
   "outputs": [
    {
     "data": {
      "text/plain": [
       "'max'"
      ]
     },
     "execution_count": 86,
     "metadata": {},
     "output_type": "execute_result"
    }
   ],
   "source": [
    "base.objective.direction"
   ]
  },
  {
   "cell_type": "code",
   "execution_count": 87,
   "metadata": {
    "collapsed": false
   },
   "outputs": [
    {
     "data": {
      "text/plain": [
       "'max'"
      ]
     },
     "execution_count": 87,
     "metadata": {},
     "output_type": "execute_result"
    }
   ],
   "source": [
    "base.objective.direction"
   ]
  },
  {
   "cell_type": "code",
   "execution_count": 88,
   "metadata": {
    "collapsed": false
   },
   "outputs": [
    {
     "data": {
      "text/plain": [
       "9.032438786461294e-19"
      ]
     },
     "execution_count": 88,
     "metadata": {},
     "output_type": "execute_result"
    }
   ],
   "source": [
    "hm54.optimize().objective_value"
   ]
  },
  {
   "cell_type": "code",
   "execution_count": 90,
   "metadata": {
    "collapsed": false
   },
   "outputs": [
    {
     "data": {
      "text/plain": [
       "0.8769683954878539"
      ]
     },
     "execution_count": 90,
     "metadata": {},
     "output_type": "execute_result"
    }
   ],
   "source": [
    "base.optimize().objective_value"
   ]
  },
  {
   "cell_type": "code",
   "execution_count": 94,
   "metadata": {
    "collapsed": false
   },
   "outputs": [
    {
     "name": "stdout",
     "output_type": "stream",
     "text": [
      "build status: reconstruction complete\n",
      "Inc. reactions: 466/2626\n",
      " - unclear: 200/889\n",
      " - exclude: 224/1429\n",
      " - low and medium: 41/307\n",
      " - high: 1/1\n",
      "\n"
     ]
    }
   ],
   "source": [
    "print(m3)"
   ]
  },
  {
   "cell_type": "code",
   "execution_count": 22,
   "metadata": {
    "collapsed": true
   },
   "outputs": [],
   "source": [
    "#2018-03-27\n",
    "\n",
    "model = cobra.io.read_sbml_model(\"/Users/annasintsova/git_repos/HUTI-RNAseq/analysis/fba/2018-03-21-clinical-strain-metabolism/data/2018-03-26-HM54-UTI-BM-CORDA.sbml\")"
   ]
  },
  {
   "cell_type": "code",
   "execution_count": 26,
   "metadata": {
    "collapsed": false
   },
   "outputs": [
    {
     "data": {
      "text/plain": [
       "0"
      ]
     },
     "execution_count": 26,
     "metadata": {},
     "output_type": "execute_result"
    }
   ],
   "source": [
    "model.reactions.BIOMASS_Ec_iML1515_core_75p37M"
   ]
  },
  {
   "cell_type": "code",
   "execution_count": 39,
   "metadata": {
    "collapsed": false
   },
   "outputs": [
    {
     "ename": "AttributeError",
     "evalue": "'Model' object has no attribute 'flux'",
     "output_type": "error",
     "traceback": [
      "\u001b[0;31m---------------------------------------------------------------------------\u001b[0m",
      "\u001b[0;31mAttributeError\u001b[0m                            Traceback (most recent call last)",
      "\u001b[0;32m<ipython-input-39-dcc633e2f81a>\u001b[0m in \u001b[0;36m<module>\u001b[0;34m()\u001b[0m\n\u001b[0;32m----> 1\u001b[0;31m \u001b[0mm2\u001b[0m\u001b[0;34m.\u001b[0m\u001b[0mmodel\u001b[0m\u001b[0;34m.\u001b[0m\u001b[0mflux\u001b[0m\u001b[0;34m\u001b[0m\u001b[0m\n\u001b[0m",
      "\u001b[0;31mAttributeError\u001b[0m: 'Model' object has no attribute 'flux'"
     ]
    }
   ],
   "source": [
    "m2.model.flux"
   ]
  },
  {
   "cell_type": "code",
   "execution_count": null,
   "metadata": {
    "collapsed": true
   },
   "outputs": [],
   "source": []
  }
 ],
 "metadata": {
  "kernelspec": {
   "display_name": "Python 3",
   "language": "python",
   "name": "python3"
  },
  "language_info": {
   "codemirror_mode": {
    "name": "ipython",
    "version": 3
   },
   "file_extension": ".py",
   "mimetype": "text/x-python",
   "name": "python",
   "nbconvert_exporter": "python",
   "pygments_lexer": "ipython3",
   "version": "3.6.0"
  }
 },
 "nbformat": 4,
 "nbformat_minor": 2
}
