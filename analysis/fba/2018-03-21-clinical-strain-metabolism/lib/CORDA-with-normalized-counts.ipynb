{
 "cells": [
  {
   "cell_type": "code",
   "execution_count": 33,
   "metadata": {
    "collapsed": true
   },
   "outputs": [],
   "source": [
    "import pandas as pd\n",
    "import os\n",
    "import numpy as np\n",
    "import scipy as ss\n",
    "import scipy.stats\n",
    "import datetime as dt\n",
    "%matplotlib inline\n",
    "import matplotlib.pyplot as plt\n",
    "import cobra\n",
    "from corda import reaction_confidence\n",
    "from corda import CORDA\n",
    "data = \"/Users/annasintsova/git_repos/\"\\\n",
    "        \"HUTI-RNAseq/data/get_homologs_output/C50_S90_e0_/\"\\\n",
    "        \"run_C50_S90_e0__pan_C50_S90/\"\\\n",
    "        \"2018-02-26_pangenome_matrix_t0_crossRef.csv\""
   ]
  },
  {
   "cell_type": "code",
   "execution_count": 34,
   "metadata": {
    "collapsed": true
   },
   "outputs": [],
   "source": [
    "def assignConfidence(x):\n",
    "    if x > 1.0:\n",
    "        return 2 \n",
    "    elif x < -1.5:\n",
    "        return - 1\n",
    "    else:\n",
    "        return 0"
   ]
  },
  {
   "cell_type": "code",
   "execution_count": 35,
   "metadata": {
    "collapsed": true
   },
   "outputs": [],
   "source": [
    "def invnorm(x):\n",
    "    return scipy.stats.norm.ppf((x.rank() -0.5)/x.count())"
   ]
  },
  {
   "cell_type": "code",
   "execution_count": 36,
   "metadata": {
    "collapsed": true
   },
   "outputs": [],
   "source": [
    "def getModel(strain):\n",
    "    model_dir = \"/Users/annasintsova/git_repos/\"\\\n",
    "        \"HUTI-RNAseq/analysis/fba/2017-12-16-model-2/data\"\n",
    "    model_path = os.path.join(model_dir, \"{}_homologues/{}_model/{}_iML1515.xml\".format(strain, strain, strain)) \n",
    "    return cobra.io.read_sbml_model(model_path)"
   ]
  },
  {
   "cell_type": "code",
   "execution_count": 38,
   "metadata": {
    "collapsed": false
   },
   "outputs": [
    {
     "name": "stdout",
     "output_type": "stream",
     "text": [
      "        HM01_UR_RPKM  HM01_UTI_RPKM    HM1_UR   HM1_UTI\n",
      "MG1655                                                 \n",
      "b0002         109.11           7.42  0.324085 -0.025764\n",
      "b0003         101.66           6.03  0.285648 -0.111864\n",
      "b0004          55.64           4.29 -0.115007 -0.240792\n",
      "b0006         142.44          31.56  0.496654  0.726625\n",
      "b0007          18.12           1.40 -0.752278 -0.619864\n",
      "509\n",
      "214\n"
     ]
    }
   ],
   "source": [
    "def binNormRPKMs(data, strain):\n",
    "    \"\"\"\n",
    "    Take in counts, select rpkms for correct strain, assign them confidence, \n",
    "    return confidence for ur and uti conditions (2 dictionaries)\n",
    "    \"\"\"\n",
    "    zero_strains = [\"HM1\", \"HM3\", \"HM6\", \"HM7\"]\n",
    "    new_strain = \"HM0\" + strain.split(\"HM\")[-1] if strain in zero_strains else strain\n",
    "        \n",
    "    counts = pd.read_csv(data)\n",
    "    rpkm = counts[[\"MG1655\", \"{}_UR_RPKM\".format(new_strain), \"{}_UTI_RPKM\".format(new_strain)]]\n",
    "    rpkm = rpkm.dropna(subset=[\"MG1655\"])\n",
    "    rpkm = rpkm[rpkm.MG1655 != \"PARALOGS\"]\n",
    "    rpkm.set_index('MG1655', inplace=True)\n",
    "    rpkm = rpkm.dropna()\n",
    "    rpkm[\"{}_UR\".format(strain)] = invnorm(rpkm[\"{}_UR_RPKM\".format(new_strain)])\n",
    "    rpkm[\"{}_UTI\".format(strain)] = invnorm(rpkm[\"{}_UTI_RPKM\".format(new_strain)])\n",
    "    print(rpkm.head())\n",
    "    confidences = {'UR_conf':list(map(assignConfidence, rpkm[\"{}_UR\".format(strain)].values)),\n",
    "              'UTI_conf':list(map(assignConfidence, rpkm[\"{}_UTI\".format(strain)].values))}\n",
    "    confidence_df = pd.DataFrame(confidences,index = rpkm.index)\n",
    "    ur_conf = confidence_df.UR_conf.to_dict()\n",
    "    uti_conf = confidence_df.UTI_conf.to_dict()\n",
    "    return ur_conf, uti_conf\n",
    "    #return rpkm\n",
    "\n",
    "x,y = binNormRPKMs(data, \"HM1\")\n",
    "\n",
    "a = list(x.values())\n",
    "print(a.count(2))\n",
    "print(a.count(-1))\n"
   ]
  },
  {
   "cell_type": "code",
   "execution_count": null,
   "metadata": {
    "collapsed": true
   },
   "outputs": [],
   "source": [
    "\n",
    "\n",
    "\n",
    "HM01_UTI_counts[\"invNORM_counts\"] = invnorm(HM01_UTI_counts.HM01_UTI_RPKM)\n",
    "HM01_UTI_counts.head()"
   ]
  }
 ],
 "metadata": {
  "kernelspec": {
   "display_name": "Python 3",
   "language": "python",
   "name": "python3"
  },
  "language_info": {
   "codemirror_mode": {
    "name": "ipython",
    "version": 3
   },
   "file_extension": ".py",
   "mimetype": "text/x-python",
   "name": "python",
   "nbconvert_exporter": "python",
   "pygments_lexer": "ipython3",
   "version": "3.6.0"
  }
 },
 "nbformat": 4,
 "nbformat_minor": 2
}
