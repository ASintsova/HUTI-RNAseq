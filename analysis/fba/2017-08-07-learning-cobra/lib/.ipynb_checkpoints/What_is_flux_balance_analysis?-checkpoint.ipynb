{
 "cells": [
  {
   "cell_type": "code",
   "execution_count": 1,
   "metadata": {
    "collapsed": true
   },
   "outputs": [],
   "source": [
    "#loading E.coli core model from CobraPy\n",
    "from __future__ import print_function\n",
    "\n",
    "import cobra\n",
    "import cobra.test\n",
    "\n",
    "# \"ecoli\" and \"salmonella\" are also valid arguments\n",
    "model = cobra.test.create_test_model(\"textbook\")"
   ]
  },
  {
   "cell_type": "markdown",
   "metadata": {},
   "source": [
    "## Warm up: Calculating growth rates\n",
    "\n",
    "* Simulating growth on glucose (EX_glc__D_E)\n",
    "* Import of metabolite is negative flux\n",
    "* Setting realistic uptake for glucose (-18.5  mmolgDW-1hr-1) and unlimited oxygen"
   ]
  },
  {
   "cell_type": "code",
   "execution_count": 18,
   "metadata": {
    "collapsed": false
   },
   "outputs": [],
   "source": [
    "glc = model.reactions.EX_glc__D_e\n",
    "ox = model.reactions.EX_o2_e\n",
    "\n",
    "glc.lower_bound = -18.5\n",
    "ox.lower_bound = -1000.0\n"
   ]
  },
  {
   "cell_type": "code",
   "execution_count": 19,
   "metadata": {
    "collapsed": false
   },
   "outputs": [
    {
     "data": {
      "text/html": [
       "\n",
       "        <table>\n",
       "            <tr>\n",
       "                <td><strong>Reaction identifier</strong></td><td>EX_glc__D_e</td>\n",
       "            </tr><tr>\n",
       "                <td><strong>Name</strong></td><td>D-Glucose exchange</td>\n",
       "            </tr><tr>\n",
       "                <td><strong>Memory address</strong></td>\n",
       "                <td>0x011d516710</td>\n",
       "            </tr><tr>\n",
       "                <td><strong>Stoichiometry</strong></td>\n",
       "                <td>\n",
       "                    <p style='text-align:right'>glc__D_e <=> </p>\n",
       "                    <p style='text-align:right'>D-Glucose <=> </p>\n",
       "                </td>\n",
       "            </tr><tr>\n",
       "                <td><strong>GPR</strong></td><td></td>\n",
       "            </tr><tr>\n",
       "                <td><strong>Lower bound</strong></td><td>-18.5</td>\n",
       "            </tr><tr>\n",
       "                <td><strong>Upper bound</strong></td><td>1000.0</td>\n",
       "            </tr>\n",
       "        </table>\n",
       "        "
      ],
      "text/plain": [
       "<Reaction EX_glc__D_e at 0x11d516710>"
      ]
     },
     "execution_count": 19,
     "metadata": {},
     "output_type": "execute_result"
    }
   ],
   "source": [
    "glc"
   ]
  },
  {
   "cell_type": "code",
   "execution_count": 20,
   "metadata": {
    "collapsed": false
   },
   "outputs": [
    {
     "data": {
      "text/html": [
       "\n",
       "        <table>\n",
       "            <tr>\n",
       "                <td><strong>Reaction identifier</strong></td><td>EX_o2_e</td>\n",
       "            </tr><tr>\n",
       "                <td><strong>Name</strong></td><td>O2 exchange</td>\n",
       "            </tr><tr>\n",
       "                <td><strong>Memory address</strong></td>\n",
       "                <td>0x011d516a90</td>\n",
       "            </tr><tr>\n",
       "                <td><strong>Stoichiometry</strong></td>\n",
       "                <td>\n",
       "                    <p style='text-align:right'>o2_e <=> </p>\n",
       "                    <p style='text-align:right'>O2 <=> </p>\n",
       "                </td>\n",
       "            </tr><tr>\n",
       "                <td><strong>GPR</strong></td><td></td>\n",
       "            </tr><tr>\n",
       "                <td><strong>Lower bound</strong></td><td>-1000.0</td>\n",
       "            </tr><tr>\n",
       "                <td><strong>Upper bound</strong></td><td>1000.0</td>\n",
       "            </tr>\n",
       "        </table>\n",
       "        "
      ],
      "text/plain": [
       "<Reaction EX_o2_e at 0x11d516a90>"
      ]
     },
     "execution_count": 20,
     "metadata": {},
     "output_type": "execute_result"
    }
   ],
   "source": [
    "ox"
   ]
  },
  {
   "cell_type": "code",
   "execution_count": 24,
   "metadata": {
    "collapsed": false,
    "scrolled": true
   },
   "outputs": [
    {
     "data": {
      "text/plain": [
       "{<Reaction Biomass_Ecoli_core at 0x11d50b5c0>: 1.0}"
      ]
     },
     "execution_count": 24,
     "metadata": {},
     "output_type": "execute_result"
    }
   ],
   "source": [
    "from cobra.util.solver import linear_reaction_coefficients\n",
    "linear_reaction_coefficients(model)\n",
    "#print(model.objective)"
   ]
  },
  {
   "cell_type": "code",
   "execution_count": 27,
   "metadata": {
    "collapsed": false
   },
   "outputs": [
    {
     "data": {
      "text/html": [
       "\n",
       "        <table>\n",
       "            <tr>\n",
       "                <td><strong>Reaction identifier</strong></td><td>Biomass_Ecoli_core</td>\n",
       "            </tr><tr>\n",
       "                <td><strong>Name</strong></td><td>Biomass Objective Function with GAM</td>\n",
       "            </tr><tr>\n",
       "                <td><strong>Memory address</strong></td>\n",
       "                <td>0x011d50b5c0</td>\n",
       "            </tr><tr>\n",
       "                <td><strong>Stoichiometry</strong></td>\n",
       "                <td>\n",
       "                    <p style='text-align:right'>1.496 3pg_c + 3.7478 accoa_c + 59.81 atp_c + 0.361 e4p_c + 0.0709 f6p_c + 0.129 g3p_c + 0.205 g6p_c + 0.2557 gln__L_c + 4.9414 glu__L_c + 59.81 h2o_c + 3.547 nad_c + 13.0279 nadph_c + 1.7867 oaa_c + 0.5191 pep_c + 2.8328 pyr_c + 0.8977 r5p_c --> 59.81 adp_c + 4.1182 akg_c + 3.7478 coa_c + 59.81 h_c + 3.547 nadh_c + 13.0279 nadp_c + 59.81 pi_c</p>\n",
       "                    <p style='text-align:right'>1.496 3-Phospho-D-glycerate + 3.7478 Acetyl-CoA + 59.81 ATP + 0.361 D-Erythrose 4-phosphate + 0.0709 D-Fructose 6-phosphate + 0.129 Glyceraldehyde 3-phosphate + 0.205 D-Glucose 6-phosphate + 0.2557 L-Glutamine + 4.9414 L-Glutamate + 59.81 H2O + 3.547 Nicotinamide adenine dinucleotide + 13.0279 Nicotinamide adenine dinucleotide phosphate - reduced + 1.7867 Oxaloacetate + 0.5191 Phosphoenolpyruvate + 2.8328 Pyruvate + 0.8977 alpha-D-Ribose 5-phosphate --> 59.81 ADP + 4.1182 2-Oxoglutarate + 3.7478 Coenzyme A + 59.81 H+ + 3.547 Nicotinamide adenine dinucleotide - reduced + 13.0279 Nicotinamide adenine dinucleotide phosphate + 59.81 Phosphate</p>\n",
       "                </td>\n",
       "            </tr><tr>\n",
       "                <td><strong>GPR</strong></td><td></td>\n",
       "            </tr><tr>\n",
       "                <td><strong>Lower bound</strong></td><td>0.0</td>\n",
       "            </tr><tr>\n",
       "                <td><strong>Upper bound</strong></td><td>1000.0</td>\n",
       "            </tr>\n",
       "        </table>\n",
       "        "
      ],
      "text/plain": [
       "<Reaction Biomass_Ecoli_core at 0x11d50b5c0>"
      ]
     },
     "execution_count": 27,
     "metadata": {},
     "output_type": "execute_result"
    }
   ],
   "source": [
    "model.objective = model.reactions.Biomass_Ecoli_core\n",
    "model.reactions.Biomass_Ecoli_core"
   ]
  },
  {
   "cell_type": "code",
   "execution_count": 33,
   "metadata": {
    "collapsed": false
   },
   "outputs": [
    {
     "data": {
      "text/plain": [
       "1.6531"
      ]
     },
     "execution_count": 33,
     "metadata": {},
     "output_type": "execute_result"
    }
   ],
   "source": [
    "solution = model.optimize()\n",
    "round(solution.objective_value, 4)"
   ]
  },
  {
   "cell_type": "markdown",
   "metadata": {},
   "source": [
    "* Model predicts growth rate of 1.6531 hr-1"
   ]
  },
  {
   "cell_type": "code",
   "execution_count": 41,
   "metadata": {
    "collapsed": false
   },
   "outputs": [
    {
     "data": {
      "text/plain": [
       "ACALD                  0.000000\n",
       "ACALDt                 0.000000\n",
       "ACKr                   0.000000\n",
       "ACONTa                10.365697\n",
       "ACONTb                10.365697\n",
       "ACt2r                  0.000000\n",
       "ADK1                   0.000000\n",
       "AKGDH                  8.582198\n",
       "AKGt2r                 0.000000\n",
       "ALCD2x                 0.000000\n",
       "ATPM                   8.390000\n",
       "ATPS4r                80.606869\n",
       "Biomass_Ecoli_core     1.653072\n",
       "CO2t                 -40.652701\n",
       "CS                    10.365697\n",
       "CYTBD                 77.483169\n",
       "D_LACt2                0.000000\n",
       "ENO                   26.839054\n",
       "ETOHt2r                0.000000\n",
       "EX_ac_e                0.000000\n",
       "EX_acald_e             0.000000\n",
       "EX_akg_e               0.000000\n",
       "EX_co2_e              40.652701\n",
       "EX_etoh_e              0.000000\n",
       "EX_for_e               0.000000\n",
       "EX_fru_e               0.000000\n",
       "EX_fum_e               0.000000\n",
       "EX_glc__D_e          -18.500000\n",
       "EX_gln__L_e            0.000000\n",
       "EX_glu__L_e            0.000000\n",
       "                        ...    \n",
       "ME2                    0.000000\n",
       "NADH16                68.900971\n",
       "NADTRHD                0.000000\n",
       "NH4t                   9.013870\n",
       "O2t                   38.741584\n",
       "PDH                   16.561080\n",
       "PFK                   13.562100\n",
       "PFL                    0.000000\n",
       "PGI                    8.280352\n",
       "PGK                  -29.312050\n",
       "PGL                    9.880769\n",
       "PGM                  -26.839054\n",
       "PIt2r                  6.081155\n",
       "PPC                    4.737043\n",
       "PPCK                   0.000000\n",
       "PPS                    0.000000\n",
       "PTAr                   0.000000\n",
       "PYK                    2.743902\n",
       "PYRt2                  0.000000\n",
       "RPE                    5.398951\n",
       "RPI                   -4.481818\n",
       "SUCCt2_2               0.000000\n",
       "SUCCt3                 0.000000\n",
       "SUCDi                  8.582198\n",
       "SUCOAS                -8.582198\n",
       "TALA                   2.997855\n",
       "THD2                   0.000000\n",
       "TKT1                   2.997855\n",
       "TKT2                   2.401096\n",
       "TPI                   13.562100\n",
       "Name: fluxes, dtype: float64"
      ]
     },
     "execution_count": 41,
     "metadata": {},
     "output_type": "execute_result"
    }
   ],
   "source": [
    "#showing fluxes associated with this solution as a pandas Series\n",
    "#visualizing this will be a challenge\n",
    "solution.fluxes"
   ]
  },
  {
   "cell_type": "code",
   "execution_count": 44,
   "metadata": {
    "collapsed": false
   },
   "outputs": [
    {
     "name": "stdout",
     "output_type": "stream",
     "text": [
      "IN FLUXES        OUT FLUXES    OBJECTIVES\n",
      "---------------  ------------  ---------------------\n",
      "o2_e      38.7   h2o_e  52.7   Biomass_Ecol...  1.65\n",
      "glc__D_e  18.5   co2_e  40.7\n",
      "nh4_e      9.01  h_e    33.2\n",
      "pi_e       6.08\n"
     ]
    }
   ],
   "source": [
    "model.summary()"
   ]
  },
  {
   "cell_type": "markdown",
   "metadata": {},
   "source": [
    "* Simulating anaerobic conditions"
   ]
  },
  {
   "cell_type": "code",
   "execution_count": 45,
   "metadata": {
    "collapsed": true
   },
   "outputs": [],
   "source": [
    "ox.lower_bound = 0"
   ]
  },
  {
   "cell_type": "code",
   "execution_count": 46,
   "metadata": {
    "collapsed": false
   },
   "outputs": [
    {
     "data": {
      "text/html": [
       "\n",
       "        <table>\n",
       "            <tr>\n",
       "                <td><strong>Reaction identifier</strong></td><td>EX_o2_e</td>\n",
       "            </tr><tr>\n",
       "                <td><strong>Name</strong></td><td>O2 exchange</td>\n",
       "            </tr><tr>\n",
       "                <td><strong>Memory address</strong></td>\n",
       "                <td>0x011d516a90</td>\n",
       "            </tr><tr>\n",
       "                <td><strong>Stoichiometry</strong></td>\n",
       "                <td>\n",
       "                    <p style='text-align:right'>o2_e --> </p>\n",
       "                    <p style='text-align:right'>O2 --> </p>\n",
       "                </td>\n",
       "            </tr><tr>\n",
       "                <td><strong>GPR</strong></td><td></td>\n",
       "            </tr><tr>\n",
       "                <td><strong>Lower bound</strong></td><td>0</td>\n",
       "            </tr><tr>\n",
       "                <td><strong>Upper bound</strong></td><td>1000.0</td>\n",
       "            </tr>\n",
       "        </table>\n",
       "        "
      ],
      "text/plain": [
       "<Reaction EX_o2_e at 0x11d516a90>"
      ]
     },
     "execution_count": 46,
     "metadata": {},
     "output_type": "execute_result"
    }
   ],
   "source": [
    "ox"
   ]
  },
  {
   "cell_type": "code",
   "execution_count": 50,
   "metadata": {
    "collapsed": false
   },
   "outputs": [
    {
     "data": {
      "text/plain": [
       "0.4706"
      ]
     },
     "execution_count": 50,
     "metadata": {},
     "output_type": "execute_result"
    }
   ],
   "source": [
    "solution_no_ox = model.optimize()\n",
    "round(solution_no_ox.objective_value, 4)"
   ]
  },
  {
   "cell_type": "code",
   "execution_count": 51,
   "metadata": {
    "collapsed": false
   },
   "outputs": [
    {
     "data": {
      "text/plain": [
       "ACALD                -1.467492e+01\n",
       "ACALDt                0.000000e+00\n",
       "ACKr                 -1.517320e+01\n",
       "ACONTa                5.076928e-01\n",
       "ACONTb                5.076928e-01\n",
       "ACt2r                -1.517320e+01\n",
       "ADK1                  0.000000e+00\n",
       "AKGDH                 0.000000e+00\n",
       "AKGt2r                0.000000e+00\n",
       "ALCD2x               -1.467492e+01\n",
       "ATPM                  8.390000e+00\n",
       "ATPS4r               -1.118795e+01\n",
       "Biomass_Ecoli_core    4.705652e-01\n",
       "CO2t                  8.407588e-01\n",
       "CS                    5.076928e-01\n",
       "CYTBD                 1.833272e-14\n",
       "D_LACt2               0.000000e+00\n",
       "ENO                   3.504513e+01\n",
       "ETOHt2r              -1.467492e+01\n",
       "EX_ac_e               1.517320e+01\n",
       "EX_acald_e            0.000000e+00\n",
       "EX_akg_e              0.000000e+00\n",
       "EX_co2_e             -8.407588e-01\n",
       "EX_etoh_e             1.467492e+01\n",
       "EX_for_e              3.211939e+01\n",
       "EX_fru_e              0.000000e+00\n",
       "EX_fum_e              0.000000e+00\n",
       "EX_glc__D_e          -1.850000e+01\n",
       "EX_gln__L_e           0.000000e+00\n",
       "EX_glu__L_e           0.000000e+00\n",
       "                          ...     \n",
       "ME2                   0.000000e+00\n",
       "NADH16                0.000000e+00\n",
       "NADTRHD               0.000000e+00\n",
       "NH4t                  2.565898e+00\n",
       "O2t                   0.000000e+00\n",
       "PDH                   0.000000e+00\n",
       "PFK                   1.803193e+01\n",
       "PFL                   3.211939e+01\n",
       "PGI                   1.840353e+01\n",
       "PGK                  -3.574910e+01\n",
       "PGL                   0.000000e+00\n",
       "PGM                  -3.504513e+01\n",
       "PIt2r                 1.731068e+00\n",
       "PPC                   1.348452e+00\n",
       "PPCK                  0.000000e+00\n",
       "PPS                   0.000000e+00\n",
       "PTAr                  1.517320e+01\n",
       "PYK                   1.495241e+01\n",
       "PYRt2                 0.000000e+00\n",
       "RPE                  -3.382422e-01\n",
       "RPI                  -3.382422e-01\n",
       "SUCCt2_2              2.365156e-13\n",
       "SUCCt3                0.000000e+00\n",
       "SUCDi                 0.000000e+00\n",
       "SUCOAS               -1.957890e-15\n",
       "TALA                 -8.418411e-02\n",
       "THD2                  8.068357e+00\n",
       "TKT1                 -8.418411e-02\n",
       "TKT2                 -2.540581e-01\n",
       "TPI                   1.803193e+01\n",
       "Name: fluxes, dtype: float64"
      ]
     },
     "execution_count": 51,
     "metadata": {},
     "output_type": "execute_result"
    }
   ],
   "source": [
    "solution_no_ox.fluxes"
   ]
  },
  {
   "cell_type": "code",
   "execution_count": 52,
   "metadata": {
    "collapsed": false
   },
   "outputs": [
    {
     "name": "stdout",
     "output_type": "stream",
     "text": [
      "IN FLUXES         OUT FLUXES    OBJECTIVES\n",
      "----------------  ------------  ----------------------\n",
      "glc__D_e  18.5    h_e     56.7  Biomass_Ecol...  0.471\n",
      "h2o_e     12.1    for_e   32.1\n",
      "nh4_e      2.57   ac_e    15.2\n",
      "pi_e       1.73   etoh_e  14.7\n",
      "co2_e      0.841\n"
     ]
    }
   ],
   "source": [
    "model.summary()"
   ]
  },
  {
   "cell_type": "markdown",
   "metadata": {},
   "source": [
    "## Example 1: Growth on alternate substrates\n",
    "* Succinate as an example"
   ]
  },
  {
   "cell_type": "code",
   "execution_count": 59,
   "metadata": {
    "collapsed": false
   },
   "outputs": [
    {
     "data": {
      "text/plain": [
       "0.8401"
      ]
     },
     "execution_count": 59,
     "metadata": {},
     "output_type": "execute_result"
    }
   ],
   "source": [
    "ox.lower_bound = -1000\n",
    "glc.lower_bound = 0\n",
    "succ = model.reactions.EX_succ_e\n",
    "succ.lower_bound = -20 #arbitrary val\n",
    "succ_solution = model.optimize()\n",
    "round(succ_solution.objective_value, 4)"
   ]
  },
  {
   "cell_type": "code",
   "execution_count": 60,
   "metadata": {
    "collapsed": false
   },
   "outputs": [
    {
     "data": {
      "text/plain": [
       "ACALD                -5.595524e-14\n",
       "ACALDt                0.000000e+00\n",
       "ACKr                  0.000000e+00\n",
       "ACONTa                8.137641e+00\n",
       "ACONTb                8.137641e+00\n",
       "ACt2r                 0.000000e+00\n",
       "ADK1                  0.000000e+00\n",
       "AKGDH                 7.231221e+00\n",
       "AKGt2r                0.000000e+00\n",
       "ALCD2x               -5.595524e-14\n",
       "ATPM                  8.390000e+00\n",
       "ATPS4r                5.778164e+01\n",
       "Biomass_Ecoli_core    8.401342e-01\n",
       "CO2t                 -4.424767e+01\n",
       "CS                    8.137641e+00\n",
       "CYTBD                 6.655278e+01\n",
       "D_LACt2               0.000000e+00\n",
       "ENO                  -3.490169e+00\n",
       "ETOHt2r              -5.595524e-14\n",
       "EX_ac_e               0.000000e+00\n",
       "EX_acald_e            0.000000e+00\n",
       "EX_akg_e              0.000000e+00\n",
       "EX_co2_e              4.424767e+01\n",
       "EX_etoh_e             0.000000e+00\n",
       "EX_for_e              0.000000e+00\n",
       "EX_fru_e              0.000000e+00\n",
       "EX_fum_e              0.000000e+00\n",
       "EX_glc__D_e           0.000000e+00\n",
       "EX_gln__L_e           0.000000e+00\n",
       "EX_glu__L_e           0.000000e+00\n",
       "                          ...     \n",
       "ME2                   1.366623e+01\n",
       "NADH16                3.932156e+01\n",
       "NADTRHD               6.492425e+00\n",
       "NH4t                  4.581084e+00\n",
       "O2t                   3.327639e+01\n",
       "PDH                   1.128630e+01\n",
       "PFK                   0.000000e+00\n",
       "PFL                   2.220446e-15\n",
       "PGI                  -1.722275e-01\n",
       "PGK                   2.233329e+00\n",
       "PGL                   0.000000e+00\n",
       "PGM                   3.490169e+00\n",
       "PIt2r                 3.090602e+00\n",
       "PPC                   0.000000e+00\n",
       "PPCK                  3.926283e+00\n",
       "PPS                   0.000000e+00\n",
       "PTAr                  0.000000e+00\n",
       "PYK                   0.000000e+00\n",
       "PYRt2                 0.000000e+00\n",
       "RPE                  -6.038884e-01\n",
       "RPI                  -6.038884e-01\n",
       "SUCCt2_2              2.000000e+01\n",
       "SUCCt3                0.000000e+00\n",
       "SUCDi                 2.723122e+01\n",
       "SUCOAS               -7.231221e+00\n",
       "TALA                 -1.503000e-01\n",
       "THD2                  0.000000e+00\n",
       "TKT1                 -1.503000e-01\n",
       "TKT2                 -4.535884e-01\n",
       "TPI                  -8.356815e-01\n",
       "Name: fluxes, dtype: float64"
      ]
     },
     "execution_count": 60,
     "metadata": {},
     "output_type": "execute_result"
    }
   ],
   "source": [
    "succ_solution.fluxes"
   ]
  },
  {
   "cell_type": "code",
   "execution_count": 63,
   "metadata": {
    "collapsed": false
   },
   "outputs": [
    {
     "name": "stderr",
     "output_type": "stream",
     "text": [
      "cobra/util/solver.py:419 \u001b[1;31mUserWarning\u001b[0m: solver status is 'infeasible'\n"
     ]
    },
    {
     "data": {
      "text/plain": [
       "0.0"
      ]
     },
     "execution_count": 63,
     "metadata": {},
     "output_type": "execute_result"
    }
   ],
   "source": [
    "#anaerobic\n",
    "ox.lower_bound = 0\n",
    "succ_solution = model.optimize()\n",
    "round(succ_solution.objective_value, 4)"
   ]
  },
  {
   "cell_type": "markdown",
   "metadata": {},
   "source": [
    "## Example 2: Production of cofactors adn biomass precursors"
   ]
  },
  {
   "cell_type": "code",
   "execution_count": null,
   "metadata": {
    "collapsed": true
   },
   "outputs": [],
   "source": []
  }
 ],
 "metadata": {
  "kernelspec": {
   "display_name": "Python 3",
   "language": "python",
   "name": "python3"
  },
  "language_info": {
   "codemirror_mode": {
    "name": "ipython",
    "version": 3
   },
   "file_extension": ".py",
   "mimetype": "text/x-python",
   "name": "python",
   "nbconvert_exporter": "python",
   "pygments_lexer": "ipython3",
   "version": "3.6.0"
  }
 },
 "nbformat": 4,
 "nbformat_minor": 2
}
