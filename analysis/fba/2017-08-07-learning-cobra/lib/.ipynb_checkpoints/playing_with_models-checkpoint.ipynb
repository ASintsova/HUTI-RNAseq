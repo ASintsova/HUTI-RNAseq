{
 "cells": [
  {
   "cell_type": "markdown",
   "metadata": {},
   "source": [
    "## Playing around with models"
   ]
  },
  {
   "cell_type": "code",
   "execution_count": 32,
   "metadata": {
    "collapsed": true
   },
   "outputs": [],
   "source": [
    "from __future__ import print_function\n",
    "\n",
    "import cobra\n",
    "import cobra.test\n",
    "\n",
    "# \"ecoli\" and \"salmonella\" are also valid arguments\n",
    "model = cobra.test.create_test_model(\"textbook\")"
   ]
  },
  {
   "cell_type": "code",
   "execution_count": 33,
   "metadata": {
    "collapsed": false
   },
   "outputs": [
    {
     "name": "stdout",
     "output_type": "stream",
     "text": [
      "ACALD: acald_c + coa_c + nad_c <=> accoa_c + h_c + nadh_c\n",
      "b0351 or b1241\n",
      "(spam or eggs)\n",
      "ACALDt: acald_e <=> acald_c\n",
      "s0001\n",
      "(spam or eggs)\n",
      "ACKr: ac_c + atp_c <=> actp_c + adp_c\n",
      "b2296 or b3115 or b1849\n",
      "(spam or eggs)\n",
      "ACONTa: cit_c <=> acon_C_c + h2o_c\n",
      "b0118 or b1276\n",
      "(spam or eggs)\n",
      "ACONTb: acon_C_c + h2o_c <=> icit_c\n",
      "b0118 or b1276\n",
      "(spam or eggs)\n"
     ]
    }
   ],
   "source": [
    "for reaction in model.reactions[:5]:\n",
    "    print(reaction)\n",
    "    x = reaction.gene_reaction_rule\n",
    "    print(x)\n",
    "    y = \"(spam or eggs)\"\n",
    "    reaction.gene_reaction_rule = y\n",
    "    print (reaction.gene_reaction_rule)"
   ]
  },
  {
   "cell_type": "code",
   "execution_count": 27,
   "metadata": {
    "collapsed": false
   },
   "outputs": [
    {
     "data": {
      "text/plain": [
       "'b0118 or b1276'"
      ]
     },
     "execution_count": 27,
     "metadata": {},
     "output_type": "execute_result"
    }
   ],
   "source": [
    "x"
   ]
  },
  {
   "cell_type": "code",
   "execution_count": null,
   "metadata": {
    "collapsed": true
   },
   "outputs": [],
   "source": []
  }
 ],
 "metadata": {
  "kernelspec": {
   "display_name": "Python 3",
   "language": "python",
   "name": "python3"
  },
  "language_info": {
   "codemirror_mode": {
    "name": "ipython",
    "version": 3
   },
   "file_extension": ".py",
   "mimetype": "text/x-python",
   "name": "python",
   "nbconvert_exporter": "python",
   "pygments_lexer": "ipython3",
   "version": "3.6.0"
  }
 },
 "nbformat": 4,
 "nbformat_minor": 2
}
