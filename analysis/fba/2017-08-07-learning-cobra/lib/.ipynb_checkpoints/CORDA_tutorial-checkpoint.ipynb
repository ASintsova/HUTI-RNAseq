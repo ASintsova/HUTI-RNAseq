{
 "cells": [
  {
   "cell_type": "markdown",
   "metadata": {},
   "source": [
    "# Python CORDA implementation\n",
    "\n",
    "* The individual confidence values have to be mapped from the gene confidence levels. Here \"and\" is evaluated by the minimum confidence and \"or\" by the maximum confidence\n",
    "\n",
    "* you will require the gene-reaction rule (Recon 1 and 2 include them in their model for instance) and a dictionary mapping genes/proteins to their confidence values."
   ]
  },
  {
   "cell_type": "code",
   "execution_count": 5,
   "metadata": {
    "collapsed": false
   },
   "outputs": [
    {
     "data": {
      "text/plain": [
       "1"
      ]
     },
     "execution_count": 5,
     "metadata": {},
     "output_type": "execute_result"
    }
   ],
   "source": [
    "#Example\n",
    "from corda import reaction_confidence\n",
    "\n",
    "gene_conf = {\"gene1\": 1, \"gene2\": 3, \"gene4\": -1} # missing entries are automatically assigned zeroes\n",
    "rule = \"gene1 and gene2 or (gene3 and gene4)\"\n",
    "\n",
    "reaction_confidence(rule, gene_conf)"
   ]
  },
  {
   "cell_type": "code",
   "execution_count": 6,
   "metadata": {
    "collapsed": false
   },
   "outputs": [
    {
     "data": {
      "text/plain": [
       "60"
      ]
     },
     "execution_count": 6,
     "metadata": {},
     "output_type": "execute_result"
    }
   ],
   "source": [
    "#Small reconstruction\n",
    "\n",
    "from corda import test_model\n",
    "\n",
    "mod = test_model()\n",
    "len(mod.reactions)"
   ]
  },
  {
   "cell_type": "code",
   "execution_count": 7,
   "metadata": {
    "collapsed": false
   },
   "outputs": [
    {
     "data": {
      "text/plain": [
       "'0.39253 3pg + 20.7045 atp + 0.15446 cit + 0.38587 glu + 0.35261 oaa + 0.053446 prpp + 0.50563 pyr --> 20.6508 adp + 20.6508 pi'"
      ]
     },
     "execution_count": 7,
     "metadata": {},
     "output_type": "execute_result"
    }
   ],
   "source": [
    "mod.reactions[59].reaction"
   ]
  },
  {
   "cell_type": "code",
   "execution_count": 8,
   "metadata": {
    "collapsed": true
   },
   "outputs": [],
   "source": [
    "conf = {}\n",
    "for r in mod.reactions: conf[r.id] = -1\n",
    "conf[\"r60\"] = 3"
   ]
  },
  {
   "cell_type": "code",
   "execution_count": 9,
   "metadata": {
    "collapsed": false
   },
   "outputs": [
    {
     "name": "stdout",
     "output_type": "stream",
     "text": [
      "build status: reconstruction complete\n",
      "Inc. reactions: 33/60\n",
      " - unclear: 0/0\n",
      " - exclude: 32/59\n",
      " - low and medium: 0/0\n",
      " - high: 1/1\n",
      "\n"
     ]
    }
   ],
   "source": [
    "from corda import CORDA\n",
    "\n",
    "opt = CORDA(mod, conf)\n",
    "opt.build()\n",
    "print(opt)"
   ]
  },
  {
   "cell_type": "code",
   "execution_count": 10,
   "metadata": {
    "collapsed": false
   },
   "outputs": [
    {
     "name": "stdout",
     "output_type": "stream",
     "text": [
      "['fdp <=> dhap + g3p', 'g3p + nad + pi <=> 13dpg + nadh', 'atp + f6p --> adp + fdp', 'g6p <=> f6p', '3pg + atp <=> 13dpg + adp', 'g1p <=> g6p', 'dhap <=> g3p', 'lac_L + nad <=> nadh + pyr', 'atp + r5p <=> amp + prpp', 'ru5p_D <=> xu5p_D', 'r5p <=> ru5p_D', 'g3p + s7p <=> e4p + f6p', 'r5p + xu5p_D <=> g3p + s7p', 'e4p + xu5p_D <=> f6p + g3p', 'cit <=> icit', 'icit + nad <=> akg + nadh', 'icit + nadp <=> akg + nadph', 'mal_L + nad <=> nadh + oaa', 'mal_L + nad <=> nadh + pyr', 'mal_L + nadp <=> nadph + pyr', 'atp + pyr --> adp + oaa + pi', 'gln <=> glu', 'glu + nad <=> akg + nadh', 'glu + nadp <=> akg + nadph', 'adp + pi --> atp', 'nadh --> nad', ' --> g1p', ' <=> gln', ' --> adp', ' <=> amp', ' <=> pi', 'lac_L <=> ', '0.39253 3pg + 20.7045 atp + 0.15446 cit + 0.38587 glu + 0.35261 oaa + 0.053446 prpp + 0.50563 pyr --> 20.6508 adp + 20.6508 pi']\n"
     ]
    }
   ],
   "source": [
    "print([opt.model.reactions.get_by_id(k).reaction for k, used in opt.included.items() if used])"
   ]
  },
  {
   "cell_type": "code",
   "execution_count": null,
   "metadata": {
    "collapsed": true
   },
   "outputs": [],
   "source": []
  }
 ],
 "metadata": {
  "kernelspec": {
   "display_name": "Python 3",
   "language": "python",
   "name": "python3"
  },
  "language_info": {
   "codemirror_mode": {
    "name": "ipython",
    "version": 3
   },
   "file_extension": ".py",
   "mimetype": "text/x-python",
   "name": "python",
   "nbconvert_exporter": "python",
   "pygments_lexer": "ipython3",
   "version": "3.6.0"
  }
 },
 "nbformat": 4,
 "nbformat_minor": 2
}
