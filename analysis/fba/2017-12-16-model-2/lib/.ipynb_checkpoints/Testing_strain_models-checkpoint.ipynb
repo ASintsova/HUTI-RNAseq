{
 "cells": [
  {
   "cell_type": "code",
   "execution_count": 72,
   "metadata": {
    "collapsed": true
   },
   "outputs": [],
   "source": [
    "from __future__ import print_function\n",
    "import cobra\n",
    "import os\n",
    "import libsbml\n",
    "import pandas as pd"
   ]
  },
  {
   "cell_type": "code",
   "execution_count": 73,
   "metadata": {
    "collapsed": false
   },
   "outputs": [],
   "source": [
    "strains = [\"HM1\", \"HM3\", \"HM6\", \"HM7\", \"HM14\", \"HM17\", \"HM43\", \"HM54\", \"HM56\",\"HM57\", \"HM66\", \"HM68\", \"HM86\"]\n",
    "fnames = []\n",
    "for st in strains:\n",
    "    PATH=\"/Users/annasintsova/git_repos/HUTI-RNAseq/analysis/fba/2017-12-16-model-2/data/{}_homologues/{}_model/{}_iJO1366.xml\".format(st,st,st)\n",
    "    fnames.append(PATH)"
   ]
  },
  {
   "cell_type": "code",
   "execution_count": 86,
   "metadata": {
    "collapsed": false
   },
   "outputs": [],
   "source": [
    "#Load the models\n",
    "hm01, hm03, hm06, hm07, hm14, hm17, hm43, hm54, hm56, hm57, hm66, hm68, hm86 = map(cobra.io.read_sbml_model, fnames)\n",
    "models = [hm01, hm03, hm06, hm07, hm14, hm17, hm43, hm54, hm56, hm57, hm66, hm68, hm86]"
   ]
  },
  {
   "cell_type": "code",
   "execution_count": 75,
   "metadata": {
    "collapsed": false
   },
   "outputs": [
    {
     "name": "stdout",
     "output_type": "stream",
     "text": [
      "HM1_iJO1366\n",
      "0.4024743606721175\n",
      "HM3_iJO1366\n",
      "0.9823568206923815\n",
      "HM6_iJO1366\n",
      "0.9823718127269756\n",
      "HM7_iJO1366\n",
      "0.8294597663804111\n",
      "HM14_iJO1366\n",
      "0.9792996024228706\n",
      "HM17_iJO1366\n",
      "0.9706718035894507\n",
      "HM43_iJO1366\n",
      "0.40247730149072225\n",
      "HM54_iJO1366\n",
      "0.9755115436722549\n",
      "HM56_iJO1366\n",
      "0.982371812726981\n",
      "HM57_iJO1366\n",
      "0.9823568206923835\n",
      "HM66_iJO1366\n",
      "0.8560604811010539\n",
      "HM68_iJO1366\n",
      "0.9823718127269833\n",
      "HM86_iJO1366\n",
      "0.9662463433080954\n"
     ]
    }
   ],
   "source": [
    "for mod in models:\n",
    "    print(mod)\n",
    "    print(mod.optimize().objective_value)"
   ]
  },
  {
   "cell_type": "code",
   "execution_count": 89,
   "metadata": {
    "collapsed": false
   },
   "outputs": [
    {
     "name": "stdout",
     "output_type": "stream",
     "text": [
      "HM1_iJO1366\n",
      "0.4024743611807933"
     ]
    },
    {
     "name": "stderr",
     "output_type": "stream",
     "text": [
      "cobra/util/solver.py:419 \u001b[1;31mUserWarning\u001b[0m: solver status is 'infeasible'\n"
     ]
    },
    {
     "name": "stdout",
     "output_type": "stream",
     "text": [
      "\n",
      "Acetate exchange\n",
      "-0.04905566406157996\n",
      "-0.04905566406157996\n",
      "Acetaldehyde exchange\n",
      "-0.04905566406157996\n",
      "0.0703800878909532\n",
      "2-Oxoglutarate exchange\n",
      "-0.04905566387059107\n",
      "0.1883331469798576\n",
      "Ethanol exchange\n",
      "-0.049055664443557516\n",
      "0.0703800924384268\n",
      "D-Fructose exchange\n",
      "-0.04907781729632697\n",
      "0.4024743657282667\n",
      "Fumarate exchange\n",
      "-0.049055664061579934\n",
      "0.07656273282918845\n",
      "D-Glucose exchange\n",
      "-0.04905566402685471\n",
      "0.402474360672118\n",
      "L-Glutamine exchange\n",
      "-0.04905566406157983\n",
      "0.18833314697985773\n",
      "L-Glutamate exchange\n",
      "-0.049055664443557516\n",
      "0.18833314714245208\n",
      "D-lactate exchange\n",
      "-0.04905566444355741\n",
      "0.0703800878909533\n",
      "L-Malate exchange\n",
      "-0.04905566444355744\n",
      "0.0765627328292133\n",
      "Pyruvate exchange\n",
      "-0.04905566444355742\n",
      "0.0703800924384268\n",
      "Succinate exchange\n",
      "-0.04905566444355745\n",
      "0.07656273282918834\n"
     ]
    },
    {
     "data": {
      "text/html": [
       "<div>\n",
       "<table border=\"1\" class=\"dataframe\">\n",
       "  <thead>\n",
       "    <tr style=\"text-align: right;\">\n",
       "      <th></th>\n",
       "      <th>carbon_source</th>\n",
       "      <th>HM1_iJO1366</th>\n",
       "    </tr>\n",
       "  </thead>\n",
       "  <tbody>\n",
       "    <tr>\n",
       "      <th>0</th>\n",
       "      <td>acetate exchange</td>\n",
       "      <td>-0.0491</td>\n",
       "    </tr>\n",
       "    <tr>\n",
       "      <th>1</th>\n",
       "      <td>succinate exchange</td>\n",
       "      <td>0.0704</td>\n",
       "    </tr>\n",
       "    <tr>\n",
       "      <th>2</th>\n",
       "      <td>acetaldehyde exchange</td>\n",
       "      <td>0.1883</td>\n",
       "    </tr>\n",
       "    <tr>\n",
       "      <th>3</th>\n",
       "      <td>2-oxoglutarate exchange</td>\n",
       "      <td>0.0704</td>\n",
       "    </tr>\n",
       "    <tr>\n",
       "      <th>4</th>\n",
       "      <td>ethanol exchange</td>\n",
       "      <td>0.4025</td>\n",
       "    </tr>\n",
       "    <tr>\n",
       "      <th>5</th>\n",
       "      <td>fumarate exchange</td>\n",
       "      <td>0.0766</td>\n",
       "    </tr>\n",
       "    <tr>\n",
       "      <th>6</th>\n",
       "      <td>d-fructose exchange</td>\n",
       "      <td>0.4025</td>\n",
       "    </tr>\n",
       "    <tr>\n",
       "      <th>7</th>\n",
       "      <td>d-glucose exchange</td>\n",
       "      <td>0.1883</td>\n",
       "    </tr>\n",
       "    <tr>\n",
       "      <th>8</th>\n",
       "      <td>l-glutamine exchange</td>\n",
       "      <td>0.1883</td>\n",
       "    </tr>\n",
       "    <tr>\n",
       "      <th>9</th>\n",
       "      <td>l-glutamate exchange</td>\n",
       "      <td>0.0704</td>\n",
       "    </tr>\n",
       "    <tr>\n",
       "      <th>10</th>\n",
       "      <td>d-lactate exchange</td>\n",
       "      <td>0.0766</td>\n",
       "    </tr>\n",
       "    <tr>\n",
       "      <th>11</th>\n",
       "      <td>l-malate exchange</td>\n",
       "      <td>0.0704</td>\n",
       "    </tr>\n",
       "    <tr>\n",
       "      <th>12</th>\n",
       "      <td>pyruvate exchange</td>\n",
       "      <td>0.0766</td>\n",
       "    </tr>\n",
       "  </tbody>\n",
       "</table>\n",
       "</div>"
      ],
      "text/plain": [
       "              carbon_source  HM1_iJO1366\n",
       "0          acetate exchange      -0.0491\n",
       "1        succinate exchange       0.0704\n",
       "2     acetaldehyde exchange       0.1883\n",
       "3   2-oxoglutarate exchange       0.0704\n",
       "4          ethanol exchange       0.4025\n",
       "5         fumarate exchange       0.0766\n",
       "6       d-fructose exchange       0.4025\n",
       "7        d-glucose exchange       0.1883\n",
       "8      l-glutamine exchange       0.1883\n",
       "9      l-glutamate exchange       0.0704\n",
       "10       d-lactate exchange       0.0766\n",
       "11        l-malate exchange       0.0704\n",
       "12        pyruvate exchange       0.0766"
      ]
     },
     "execution_count": 89,
     "metadata": {},
     "output_type": "execute_result"
    }
   ],
   "source": [
    "carbon_sources = ['acetate exchange', 'succinate exchange', 'acetaldehyde exchange', '2-oxoglutarate exchange',\n",
    "                 'ethanol exchange', 'fumarate exchange', 'd-fructose exchange', 'd-glucose exchange', 'l-glutamine exchange', \n",
    "                 'l-glutamate exchange', 'd-lactate exchange', 'l-malate exchange', 'pyruvate exchange']\n",
    "aerobic = pd.DataFrame()\n",
    "aerobic['carbon_source'] = carbon_sources\n",
    "#need to do the following for each model\n",
    "for mod in models[3:4]:\n",
    "    print(mod)\n",
    "    exchange_subs = {}\n",
    "    for rex in mod.reactions:\n",
    "        if \"EX_\" in rex.id:\n",
    "            exchange_subs[rex.name]=rex.id\n",
    "    print(mod.optimize().objective_value)\n",
    "    \n",
    "    glc = mod.reactions.EX_glc_LPAREN_e_RPAREN_\n",
    "    glc.lower_bound = 0.0  \n",
    "    biomass = []\n",
    "    for key, val in exchange_subs.items():\n",
    "        if key.lower() in carbon_sources:\n",
    "            print(key)\n",
    "            print(mod.optimize().objective_value)\n",
    "            cs = mod.reactions.get_by_id(val)\n",
    "            cs.lower_bound = -10\n",
    "            print(mod.optimize().objective_value)\n",
    "            biomass.append(round(mod.optimize().objective_value,4))\n",
    "            cs.lower_bound = 0\n",
    "    glc.lower_bound = -10.0\n",
    "    aerobic[mod] = biomass\n",
    "aerobic\n",
    "            "
   ]
  },
  {
   "cell_type": "code",
   "execution_count": null,
   "metadata": {
    "collapsed": true
   },
   "outputs": [],
   "source": [
    "#For all of these: first set glucose to 0, then uptake to arbitrary -20\n"
   ]
  },
  {
   "cell_type": "code",
   "execution_count": 36,
   "metadata": {
    "collapsed": false
   },
   "outputs": [
    {
     "name": "stdout",
     "output_type": "stream",
     "text": [
      "CO2 exchange EX_co2_LPAREN_e_RPAREN_\n",
      "Co2+ exchange EX_cobalt2_LPAREN_e_RPAREN_\n",
      "O2 exchange EX_o2_LPAREN_e_RPAREN_\n"
     ]
    }
   ],
   "source": [
    "for key, val in exchange_subs.items():\n",
    "    if \"o2\" in key.lower():\n",
    "        print(key, val)"
   ]
  },
  {
   "cell_type": "code",
   "execution_count": 19,
   "metadata": {
    "collapsed": false
   },
   "outputs": [
    {
     "data": {
      "text/html": [
       "\n",
       "        <table>\n",
       "            <tr>\n",
       "                <td><strong>Reaction identifier</strong></td><td>EX_ac_LPAREN_e_RPAREN_</td>\n",
       "            </tr><tr>\n",
       "                <td><strong>Name</strong></td><td>Acetate exchange</td>\n",
       "            </tr><tr>\n",
       "                <td><strong>Memory address</strong></td>\n",
       "                <td>0x011e889208</td>\n",
       "            </tr><tr>\n",
       "                <td><strong>Stoichiometry</strong></td>\n",
       "                <td>\n",
       "                    <p style='text-align:right'>ac_e --> </p>\n",
       "                    <p style='text-align:right'>Acetate --> </p>\n",
       "                </td>\n",
       "            </tr><tr>\n",
       "                <td><strong>GPR</strong></td><td></td>\n",
       "            </tr><tr>\n",
       "                <td><strong>Lower bound</strong></td><td>0.0</td>\n",
       "            </tr><tr>\n",
       "                <td><strong>Upper bound</strong></td><td>1000.0</td>\n",
       "            </tr>\n",
       "        </table>\n",
       "        "
      ],
      "text/plain": [
       "<Reaction EX_ac_LPAREN_e_RPAREN_ at 0x11e889208>"
      ]
     },
     "execution_count": 19,
     "metadata": {},
     "output_type": "execute_result"
    }
   ],
   "source": [
    "x = \"EX_ac_LPAREN_e_RPAREN_\"\n",
    "hm03.reactions.get_by_id(x)"
   ]
  },
  {
   "cell_type": "code",
   "execution_count": null,
   "metadata": {
    "collapsed": true
   },
   "outputs": [],
   "source": []
  }
 ],
 "metadata": {
  "kernelspec": {
   "display_name": "Python 3",
   "language": "python",
   "name": "python3"
  },
  "language_info": {
   "codemirror_mode": {
    "name": "ipython",
    "version": 3
   },
   "file_extension": ".py",
   "mimetype": "text/x-python",
   "name": "python",
   "nbconvert_exporter": "python",
   "pygments_lexer": "ipython3",
   "version": "3.6.0"
  }
 },
 "nbformat": 4,
 "nbformat_minor": 2
}
