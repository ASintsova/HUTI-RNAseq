{
 "cells": [
  {
   "cell_type": "code",
   "execution_count": 76,
   "metadata": {
    "collapsed": true
   },
   "outputs": [],
   "source": [
    "import pandas as pd\n",
    "import os\n",
    "import numpy as np\n",
    "import scipy as ss\n",
    "import scipy.stats\n",
    "%matplotlib inline\n",
    "import matplotlib.pyplot as plt\n",
    "from __future__ import print_function\n",
    "import cobra\n",
    "from corda import reaction_confidence\n",
    "from corda import CORDA"
   ]
  },
  {
   "cell_type": "code",
   "execution_count": 65,
   "metadata": {
    "collapsed": true
   },
   "outputs": [],
   "source": [
    "data = \"/Users/annasintsova/git_repos/\"\\\n",
    "        \"HUTI-RNAseq/data/get_homologs_output/C50_S90_e0_/\"\\\n",
    "        \"run_C50_S90_e0__pan_C50_S90/\"\\\n",
    "        \"2018-02-26_pangenome_matrix_t0_crossRef.csv\"\n",
    "model = \"/Users/annasintsova/git_repos/\"\\\n",
    "        \"HUTI-RNAseq/analysis/fba/2017-12-16-model-2/\"\\\n",
    "        \"data/HM54_homologues/HM54_model/HM54_iML1515.xml\"\n",
    "        "
   ]
  },
  {
   "cell_type": "code",
   "execution_count": 32,
   "metadata": {
    "collapsed": false
   },
   "outputs": [
    {
     "data": {
      "text/plain": [
       "(3120, 2)"
      ]
     },
     "execution_count": 32,
     "metadata": {},
     "output_type": "execute_result"
    }
   ],
   "source": [
    "counts = pd.read_csv(data)\n",
    "HM54_rpkm = counts[[\"MG1655\", \"HM54_UR_RPKM\", \"HM54_UTI_RPKM\"]]\n",
    "HM54_rpkm = HM54_rpkm.dropna(subset=[\"MG1655\"])\n",
    "HM54_rpkm = HM54_rpkm[HM54_rpkm.MG1655 != \"PARALOGS\"]\n",
    "HM54_rpkm.set_index('MG1655', inplace=True)\n",
    "HM54_rpkm = HM54_rpkm.dropna()"
   ]
  },
  {
   "cell_type": "code",
   "execution_count": 20,
   "metadata": {
    "collapsed": true
   },
   "outputs": [],
   "source": [
    "def invnorm(x):\n",
    "    return scipy.stats.norm.ppf((x.rank() -0.5)/x.count())"
   ]
  },
  {
   "cell_type": "code",
   "execution_count": 48,
   "metadata": {
    "collapsed": false
   },
   "outputs": [
    {
     "data": {
      "image/png": "[encoded data removed]",
      "text/plain": [
       "<matplotlib.figure.Figure at 0x117484128>"
      ]
     },
     "metadata": {},
     "output_type": "display_data"
    }
   ],
   "source": [
    "HM54_norm = HM54_rpkm.apply(invnorm)\n",
    "HM54_norm.hist(sharex=True, sharey=True, figsize=(10,4),bins=100);"
   ]
  },
  {
   "cell_type": "code",
   "execution_count": 54,
   "metadata": {
    "collapsed": false
   },
   "outputs": [],
   "source": [
    "\n",
    "def assignConfidence(x):\n",
    "    if x > 1.0:\n",
    "        return 3\n",
    "    elif x > -1.0:\n",
    "        return 2\n",
    "    elif x > -2.0:\n",
    "        return 1\n",
    "    elif x <= -2.0:\n",
    "        return -1"
   ]
  },
  {
   "cell_type": "code",
   "execution_count": 64,
   "metadata": {
    "collapsed": false
   },
   "outputs": [
    {
     "data": {
      "text/plain": [
       "(3120, 2)"
      ]
     },
     "execution_count": 64,
     "metadata": {},
     "output_type": "execute_result"
    }
   ],
   "source": [
    "confidences = {'UR_conf':list(map(assignConfidence, HM54_norm.HM54_UR_RPKM.values)),\n",
    "               'UTI_conf':list(map(assignConfidence, HM54_norm.HM54_UTI_RPKM.values))}\n",
    "HM54 = pd.DataFrame(confidences,index = HM54_norm.index)\n"
   ]
  },
  {
   "cell_type": "code",
   "execution_count": 70,
   "metadata": {
    "collapsed": false
   },
   "outputs": [],
   "source": [
    "ur_conf = HM54.UR_conf.to_dict()\n",
    "uti_conf = HM54.UTI_conf.to_dict()"
   ]
  },
  {
   "cell_type": "code",
   "execution_count": 67,
   "metadata": {
    "collapsed": true
   },
   "outputs": [],
   "source": [
    "base = cobra.io.read_sbml_model(model)"
   ]
  },
  {
   "cell_type": "code",
   "execution_count": 74,
   "metadata": {
    "collapsed": false
   },
   "outputs": [],
   "source": [
    "#URINE\n",
    "conf = {}\n",
    "for r in base.reactions:\n",
    "    conf[r.id]=reaction_confidence(r.gene_reaction_rule, ur_conf)"
   ]
  },
  {
   "cell_type": "code",
   "execution_count": null,
   "metadata": {
    "collapsed": false
   },
   "outputs": [],
   "source": [
    "opt = CORDA(base, conf,)\n",
    "opt.build()\n",
    "opt"
   ]
  },
  {
   "cell_type": "code",
   "execution_count": null,
   "metadata": {
    "collapsed": true
   },
   "outputs": [],
   "source": [
    "print([opt.model.reactions.get_by_id(k).id for k, \n",
    "       used in opt.included.items() if used])"
   ]
  },
  {
   "cell_type": "code",
   "execution_count": null,
   "metadata": {
    "collapsed": true
   },
   "outputs": [],
   "source": []
  }
 ],
 "metadata": {
  "kernelspec": {
   "display_name": "Python 3",
   "language": "python",
   "name": "python3"
  },
  "language_info": {
   "codemirror_mode": {
    "name": "ipython",
    "version": 3
   },
   "file_extension": ".py",
   "mimetype": "text/x-python",
   "name": "python",
   "nbconvert_exporter": "python",
   "pygments_lexer": "ipython3",
   "version": "3.6.0"
  }
 },
 "nbformat": 4,
 "nbformat_minor": 2
}
