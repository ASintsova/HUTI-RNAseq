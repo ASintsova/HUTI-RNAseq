{
 "cells": [
  {
   "cell_type": "code",
   "execution_count": 30,
   "metadata": {
    "collapsed": true
   },
   "outputs": [],
   "source": [
    "#loading base E.coli model and strain-specific model\n",
    "from __future__ import print_function\n",
    "import cobra\n",
    "import cobra.test\n",
    "base = cobra.io.read_sbml_model(\"/Users/annasintsova/git_repos/HUTI-RNAseq/analysis/fba/2017-12-16-model-2/data/ref/mg1655_2011_model.xml\")\n",
    "model = cobra.io.read_sbml_model(\"/Users/annasintsova/git_repos/HUTI-RNAseq/analysis/fba/2017-12-16-model-2/data/HM1_homologues/HM1_test.xml\")"
   ]
  },
  {
   "cell_type": "code",
   "execution_count": 31,
   "metadata": {
    "collapsed": false
   },
   "outputs": [
    {
     "data": {
      "text/html": [
       "\n",
       "        <table>\n",
       "            <tr>\n",
       "                <td><strong>Name</strong></td>\n",
       "                <td>iJO1366</td>\n",
       "            </tr><tr>\n",
       "                <td><strong>Memory address</strong></td>\n",
       "                <td>0x0124a51048</td>\n",
       "            </tr><tr>\n",
       "                <td><strong>Number of metabolites</strong></td>\n",
       "                <td>1805</td>\n",
       "            </tr><tr>\n",
       "                <td><strong>Number of reactions</strong></td>\n",
       "                <td>2583</td>\n",
       "            </tr><tr>\n",
       "                <td><strong>Objective expression</strong></td>\n",
       "                <td>-1.0*Ec_biomass_iJO1366_core_53p95M_reverse_e94eb + 1.0*Ec_biomass_iJO1366_core_53p95M</td>\n",
       "            </tr><tr>\n",
       "                <td><strong>Compartments</strong></td>\n",
       "                <td>Cytoplasm, Extracellular, Periplasm</td>\n",
       "            </tr>\n",
       "          </table>"
      ],
      "text/plain": [
       "<Model iJO1366 at 0x124a51048>"
      ]
     },
     "execution_count": 31,
     "metadata": {},
     "output_type": "execute_result"
    }
   ],
   "source": [
    "base"
   ]
  },
  {
   "cell_type": "code",
   "execution_count": 32,
   "metadata": {
    "collapsed": false
   },
   "outputs": [
    {
     "data": {
      "text/html": [
       "\n",
       "        <table>\n",
       "            <tr>\n",
       "                <td><strong>Name</strong></td>\n",
       "                <td>HM1_iJO1366</td>\n",
       "            </tr><tr>\n",
       "                <td><strong>Memory address</strong></td>\n",
       "                <td>0x0124bef908</td>\n",
       "            </tr><tr>\n",
       "                <td><strong>Number of metabolites</strong></td>\n",
       "                <td>1805</td>\n",
       "            </tr><tr>\n",
       "                <td><strong>Number of reactions</strong></td>\n",
       "                <td>2516</td>\n",
       "            </tr><tr>\n",
       "                <td><strong>Objective expression</strong></td>\n",
       "                <td>-1.0*Ec_biomass_iJO1366_core_53p95M_reverse_e94eb + 1.0*Ec_biomass_iJO1366_core_53p95M</td>\n",
       "            </tr><tr>\n",
       "                <td><strong>Compartments</strong></td>\n",
       "                <td>Cytoplasm, Extracellular, Periplasm</td>\n",
       "            </tr>\n",
       "          </table>"
      ],
      "text/plain": [
       "<Model HM1_iJO1366 at 0x124bef908>"
      ]
     },
     "execution_count": 32,
     "metadata": {},
     "output_type": "execute_result"
    }
   ],
   "source": [
    "model"
   ]
  },
  {
   "cell_type": "code",
   "execution_count": 33,
   "metadata": {
    "collapsed": false
   },
   "outputs": [
    {
     "data": {
      "text/plain": [
       "1.8285"
      ]
     },
     "execution_count": 33,
     "metadata": {},
     "output_type": "execute_result"
    }
   ],
   "source": [
    "glc = base.reactions.EX_glc_LPAREN_e_RPAREN_\n",
    "ox = base.reactions.EX_o2_LPAREN_e_RPAREN_\n",
    "glc.lower_bound = -18.5\n",
    "ox.lower_bound = -1000.0\n",
    "solution = base.optimize()\n",
    "round(solution.objective_value, 4)"
   ]
  },
  {
   "cell_type": "code",
   "execution_count": 34,
   "metadata": {
    "collapsed": false
   },
   "outputs": [
    {
     "data": {
      "text/plain": [
       "0.4764"
      ]
     },
     "execution_count": 34,
     "metadata": {},
     "output_type": "execute_result"
    }
   ],
   "source": [
    "ox.lower_bound = 0\n",
    "solution_no_ox = base.optimize()\n",
    "round(solution_no_ox.objective_value, 4)"
   ]
  },
  {
   "cell_type": "code",
   "execution_count": 35,
   "metadata": {
    "collapsed": false
   },
   "outputs": [
    {
     "data": {
      "text/plain": [
       "0.7738"
      ]
     },
     "execution_count": 35,
     "metadata": {},
     "output_type": "execute_result"
    }
   ],
   "source": [
    "glc_01 = model.reactions.EX_glc_LPAREN_e_RPAREN_\n",
    "ox_01 = model.reactions.EX_o2_LPAREN_e_RPAREN_\n",
    "glc_01.lower_bound = -18.5\n",
    "ox_01.lower_bound = -1000.0\n",
    "solution = model.optimize()\n",
    "round(solution.objective_value, 4)"
   ]
  },
  {
   "cell_type": "code",
   "execution_count": 36,
   "metadata": {
    "collapsed": false
   },
   "outputs": [
    {
     "data": {
      "text/plain": [
       "0.3265"
      ]
     },
     "execution_count": 36,
     "metadata": {},
     "output_type": "execute_result"
    }
   ],
   "source": [
    "ox_01.lower_bound = 0\n",
    "solution_no_ox = model.optimize()\n",
    "round(solution_no_ox.objective_value, 4)"
   ]
  },
  {
   "cell_type": "code",
   "execution_count": 37,
   "metadata": {
    "collapsed": false
   },
   "outputs": [
    {
     "name": "stdout",
     "output_type": "stream",
     "text": [
      "IN FLUXES                OUT FLUXES           OBJECTIVES\n",
      "-----------------------  -------------------  ----------------------\n",
      "glc_DASH_D_e  18.5       co2_e     32.8       Ec_biomass_i...  0.327\n",
      "nh4_e          3.53      etoh_e    32.2\n",
      "pi_e           0.315     h2o_e      9.37\n",
      "so4_e          0.0823    h_e        3.22\n",
      "k_e            0.0637    succ_e     0.108\n",
      "mg2_e          0.00283   5drib_c    0.000219\n",
      "fe2_e          0.00269   glyclt_e   0.000218\n",
      "fe3_e          0.00255   mththf_c   0.000146\n",
      "ca2_e          0.0017    4crsol_c   7.28e-05\n",
      "cl_e           0.0017    amob_c     6.53e-07\n",
      "cu2_e          0.000231  meoh_e     6.53e-07\n",
      "mn2_e          0.000226\n",
      "zn2_e          0.000111\n",
      "ni2_e          0.000105\n",
      "mobd_e         4.21e-05\n",
      "cobalt2_e      8.16e-06\n"
     ]
    }
   ],
   "source": [
    "model.summary()"
   ]
  },
  {
   "cell_type": "code",
   "execution_count": 38,
   "metadata": {
    "collapsed": false
   },
   "outputs": [
    {
     "name": "stdout",
     "output_type": "stream",
     "text": [
      "IN FLUXES                OUT FLUXES           OBJECTIVES\n",
      "-----------------------  -------------------  ----------------------\n",
      "glc_DASH_D_e  18.5       h_e       51.3       Ec_biomass_i...  0.476\n",
      "nh4_e          5.15      for_e     31.6\n",
      "h2o_e          2.15      ac_e      15\n",
      "pi_e           0.46      etoh_e    14.7\n",
      "co2_e          0.174     succ_e     0.158\n",
      "so4_e          0.12      5drib_c    0.00032\n",
      "k_e            0.093     glyclt_e   0.000319\n",
      "mg2_e          0.00413   mththf_c   0.000213\n",
      "fe2_e          0.00393   4crsol_c   0.000106\n",
      "fe3_e          0.00372   amob_c     9.53e-07\n",
      "ca2_e          0.00248   meoh_e     9.53e-07\n",
      "cl_e           0.00248\n",
      "cu2_e          0.000338\n",
      "mn2_e          0.000329\n",
      "zn2_e          0.000162\n",
      "ni2_e          0.000154\n",
      "mobd_e         6.15e-05\n",
      "cobalt2_e      1.19e-05\n"
     ]
    }
   ],
   "source": [
    "base.summary()"
   ]
  },
  {
   "cell_type": "code",
   "execution_count": null,
   "metadata": {
    "collapsed": true
   },
   "outputs": [],
   "source": []
  }
 ],
 "metadata": {
  "kernelspec": {
   "display_name": "Python 3",
   "language": "python",
   "name": "python3"
  },
  "language_info": {
   "codemirror_mode": {
    "name": "ipython",
    "version": 3
   },
   "file_extension": ".py",
   "mimetype": "text/x-python",
   "name": "python",
   "nbconvert_exporter": "python",
   "pygments_lexer": "ipython3",
   "version": "3.6.0"
  }
 },
 "nbformat": 4,
 "nbformat_minor": 2
}
