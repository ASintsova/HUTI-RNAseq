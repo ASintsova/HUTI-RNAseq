{
 "cells": [
  {
   "cell_type": "code",
   "execution_count": 97,
   "metadata": {
    "collapsed": true
   },
   "outputs": [],
   "source": [
    "from __future__ import print_function\n",
    "import cobra\n",
    "import os\n",
    "import libsbml\n",
    "import pandas as pd"
   ]
  },
  {
   "cell_type": "code",
   "execution_count": 98,
   "metadata": {
    "collapsed": false
   },
   "outputs": [],
   "source": [
    "strains = [\"HM1\", \"HM3\", \"HM6\", \"HM7\", \"HM14\", \"HM17\", \"HM43\", \"HM54\", \"HM56\",\"HM57\", \"HM66\", \"HM68\", \"HM86\"]\n",
    "fnames = []\n",
    "for st in strains:\n",
    "    PATH=\"/Users/annasintsova/git_repos/HUTI-RNAseq/analysis/fba/2017-12-16-model-2/data/{}_homologues/{}_model/{}_iJO1366.xml\".format(st,st,st)\n",
    "    fnames.append(PATH)"
   ]
  },
  {
   "cell_type": "code",
   "execution_count": 99,
   "metadata": {
    "collapsed": false
   },
   "outputs": [],
   "source": [
    "#Load the models\n",
    "hm01, hm03, hm06, hm07, hm14, hm17, hm43, hm54, hm56, hm57, hm66, hm68, hm86 = map(cobra.io.read_sbml_model, fnames)\n",
    "models = [hm01, hm03, hm06, hm07, hm14, hm17, hm43, hm54, hm56, hm57, hm66, hm68, hm86]"
   ]
  },
  {
   "cell_type": "code",
   "execution_count": 100,
   "metadata": {
    "collapsed": false
   },
   "outputs": [
    {
     "name": "stdout",
     "output_type": "stream",
     "text": [
      "HM1_iJO1366\n",
      "0.4024743606721175\n",
      "HM3_iJO1366\n",
      "0.9823568206923815\n",
      "HM6_iJO1366\n",
      "0.9823718127269756\n",
      "HM7_iJO1366\n",
      "0.8294597663804111\n",
      "HM14_iJO1366\n",
      "0.9792996024228706\n",
      "HM17_iJO1366\n",
      "0.9706718035894507\n",
      "HM43_iJO1366\n",
      "0.40247730149072225\n",
      "HM54_iJO1366\n",
      "0.9755115436722549\n",
      "HM56_iJO1366\n",
      "0.982371812726981\n",
      "HM57_iJO1366\n",
      "0.9823568206923835\n",
      "HM66_iJO1366\n",
      "0.8560604811010539\n",
      "HM68_iJO1366\n",
      "0.9823718127269833\n",
      "HM86_iJO1366\n",
      "0.9662463433080954\n"
     ]
    }
   ],
   "source": [
    "for mod in models:\n",
    "    print(mod)\n",
    "    print(mod.optimize().objective_value)"
   ]
  },
  {
   "cell_type": "code",
   "execution_count": 104,
   "metadata": {
    "collapsed": false
   },
   "outputs": [
    {
     "name": "stderr",
     "output_type": "stream",
     "text": [
      "cobra/util/solver.py:419 \u001b[1;31mUserWarning\u001b[0m: solver status is 'infeasible'\n"
     ]
    }
   ],
   "source": [
    "carbon_sources = ['acetate exchange', 'succinate exchange', 'acetaldehyde exchange', '2-oxoglutarate exchange',\n",
    "                 'ethanol exchange', 'fumarate exchange', 'd-fructose exchange', 'd-glucose exchange', 'l-glutamine exchange', \n",
    "                 'l-glutamate exchange', 'd-lactate exchange', 'l-malate exchange', 'pyruvate exchange']\n",
    "colnames = []\n",
    "aerobic_results = []\n",
    "anaerobic_results = []\n",
    "\n",
    "for mod in models:\n",
    "    colnames.append(mod)\n",
    "    exchange_subs = {}\n",
    "    for rex in mod.reactions:\n",
    "        if \"EX_\" in rex.id:\n",
    "            exchange_subs[rex.name]=rex.id\n",
    "    glc = mod.reactions.EX_glc_LPAREN_e_RPAREN_\n",
    "    glc.lower_bound = 0.0\n",
    "    ox = mod.reactions.EX_o2_LPAREN_e_RPAREN_\n",
    "    aerobic_biomass = {}\n",
    "    anaerobic_biomass ={}\n",
    "    for key, val in exchange_subs.items():\n",
    "        if key.lower() in carbon_sources:\n",
    "            cs = mod.reactions.get_by_id(val)\n",
    "            cs.lower_bound = -10\n",
    "            aerobic_biomass[key] = round(mod.optimize().objective_value,4)\n",
    "            ox.lower_bound = 0.0\n",
    "            anaerobic_biomass[key] = round(mod.optimize().objective_value,4)\n",
    "            cs.lower_bound = 0\n",
    "            ox.lower_bound = -1000.0\n",
    "    glc.lower_bound = -10.0\n",
    "    aerobic_results.append(aerobic_biomass)\n",
    "    anaerobic_results.append(anaerobic_biomass)\n",
    "aerobic = pd.DataFrame(aerobic_results).T\n",
    "aerobic.columns = colnames\n",
    "anaerobic = pd.DataFrame(anaerobic_results).T\n",
    "anaerobic.columns = colnames\n",
    "anaerobic.to_csv(\"/Users/annasintsova/git_repos/HUTI-RNAseq/analysis/fba/2017-12-16-model-2/analysis/2018-01-05-modeling-growth-rate-anaerobic.csv\")\n",
    "aerobic.to_csv(\"/Users/annasintsova/git_repos/HUTI-RNAseq/analysis/fba/2017-12-16-model-2/analysis/2018-01-05-modeling-growth-rate-aerobic.csv\")"
   ]
  },
  {
   "cell_type": "code",
   "execution_count": null,
   "metadata": {
    "collapsed": true
   },
   "outputs": [],
   "source": []
  }
 ],
 "metadata": {
  "kernelspec": {
   "display_name": "Python 3",
   "language": "python",
   "name": "python3"
  },
  "language_info": {
   "codemirror_mode": {
    "name": "ipython",
    "version": 3
   },
   "file_extension": ".py",
   "mimetype": "text/x-python",
   "name": "python",
   "nbconvert_exporter": "python",
   "pygments_lexer": "ipython3",
   "version": "3.6.0"
  }
 },
 "nbformat": 4,
 "nbformat_minor": 2
}
