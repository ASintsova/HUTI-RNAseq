{
 "cells": [
  {
   "cell_type": "code",
   "execution_count": 1,
   "metadata": {
    "collapsed": true
   },
   "outputs": [],
   "source": [
    "from corda import reaction_confidence\n",
    "import pandas as pd\n",
    "import scipy.stats\n",
    "import matplotlib.pyplot as plt\n",
    "%matplotlib inline"
   ]
  },
  {
   "cell_type": "code",
   "execution_count": 2,
   "metadata": {
    "collapsed": true
   },
   "outputs": [],
   "source": [
    "model = \"/Users/annasintsova/git_repos/HUTI-RNAseq/analysis/fba/2017-12-16-model-2/data/HM1_homologues/HM1_model/HM1_iJO1366.xml\"\n",
    "genes = \"/Users/annasintsova/git_repos/HUTI-RNAseq/analysis/DE/data/processed_counts/2018-01-29_combined_counts.csv\""
   ]
  },
  {
   "cell_type": "code",
   "execution_count": 3,
   "metadata": {
    "collapsed": false
   },
   "outputs": [
    {
     "name": "stderr",
     "output_type": "stream",
     "text": [
      "//anaconda/lib/python3.6/site-packages/IPython/core/interactiveshell.py:2717 \u001b[1;31mDtypeWarning\u001b[0m: Columns (6,8,11,12,13,14,15) have mixed types. Specify dtype option on import or set low_memory=False.\n"
     ]
    },
    {
     "data": {
      "text/html": [
       "<div>\n",
       "<table border=\"1\" class=\"dataframe\">\n",
       "  <thead>\n",
       "    <tr style=\"text-align: right;\">\n",
       "      <th></th>\n",
       "      <th>HM01_UR_RPKM</th>\n",
       "      <th>HM01_UTI_RPKM</th>\n",
       "    </tr>\n",
       "    <tr>\n",
       "      <th>MG1655</th>\n",
       "      <th></th>\n",
       "      <th></th>\n",
       "    </tr>\n",
       "  </thead>\n",
       "  <tbody>\n",
       "    <tr>\n",
       "      <th>b0689</th>\n",
       "      <td>11.59</td>\n",
       "      <td>2.52</td>\n",
       "    </tr>\n",
       "    <tr>\n",
       "      <th>b3021</th>\n",
       "      <td>110.56</td>\n",
       "      <td>1.64</td>\n",
       "    </tr>\n",
       "    <tr>\n",
       "      <th>b3022</th>\n",
       "      <td>214.17</td>\n",
       "      <td>11.87</td>\n",
       "    </tr>\n",
       "    <tr>\n",
       "      <th>b0341</th>\n",
       "      <td>8.62</td>\n",
       "      <td>3.30</td>\n",
       "    </tr>\n",
       "    <tr>\n",
       "      <th>b1730</th>\n",
       "      <td>5.33</td>\n",
       "      <td>0.81</td>\n",
       "    </tr>\n",
       "  </tbody>\n",
       "</table>\n",
       "</div>"
      ],
      "text/plain": [
       "        HM01_UR_RPKM  HM01_UTI_RPKM\n",
       "MG1655                             \n",
       "b0689          11.59           2.52\n",
       "b3021         110.56           1.64\n",
       "b3022         214.17          11.87\n",
       "b0341           8.62           3.30\n",
       "b1730           5.33           0.81"
      ]
     },
     "execution_count": 3,
     "metadata": {},
     "output_type": "execute_result"
    }
   ],
   "source": [
    "hm01_genes=pd.read_csv(genes)\n",
    "hm01_genes = hm01_genes[[\"MG1655\", \"HM01_UR_RPKM\", \"HM01_UTI_RPKM\"]].dropna()\n",
    "hm01_genes.set_index(\"MG1655\", inplace=True)\n",
    "hm01_genes.head()"
   ]
  },
  {
   "cell_type": "code",
   "execution_count": 4,
   "metadata": {
    "collapsed": true
   },
   "outputs": [],
   "source": [
    "def invnorm(x):\n",
    "    return scipy.stats.norm.ppf((x.rank() -0.5)/x.count())"
   ]
  },
  {
   "cell_type": "code",
   "execution_count": 5,
   "metadata": {
    "collapsed": false
   },
   "outputs": [
    {
     "data": {
      "image/png": "[encoded data removed]",
      "text/plain": [
       "<matplotlib.figure.Figure at 0x102a726a0>"
      ]
     },
     "metadata": {},
     "output_type": "display_data"
    }
   ],
   "source": [
    "hm01=hm01_genes.apply(invnorm)\n",
    "hm01.head()\n",
    "fig, (ax0, ax1) = plt.subplots(ncols=2, figsize=(12, 6))\n",
    "\n",
    "ax0.hist(hm01.HM01_UR_RPKM,100);\n",
    "\n",
    "ax1.hist(hm01.HM01_UTI_RPKM,100);"
   ]
  },
  {
   "cell_type": "code",
   "execution_count": 6,
   "metadata": {
    "collapsed": false
   },
   "outputs": [],
   "source": [
    "# Let's start with >2:3 1-2:2, -1:1:1, <-1: -1\n",
    "\n",
    "def assignConfidence(x):\n",
    "    if x > 2.0:\n",
    "        return 3\n",
    "    elif x >1.0:\n",
    "        return 2\n",
    "    elif x > -1.0:\n",
    "        return 1\n",
    "    elif x <= -1.0:\n",
    "        return -1\n"
   ]
  },
  {
   "cell_type": "code",
   "execution_count": 7,
   "metadata": {
    "collapsed": false
   },
   "outputs": [
    {
     "data": {
      "text/html": [
       "<div>\n",
       "<table border=\"1\" class=\"dataframe\">\n",
       "  <thead>\n",
       "    <tr style=\"text-align: right;\">\n",
       "      <th></th>\n",
       "      <th>HM01_UR_RPKM</th>\n",
       "      <th>HM01_UTI_RPKM</th>\n",
       "      <th>UR_confidence</th>\n",
       "      <th>UTI_confidence</th>\n",
       "    </tr>\n",
       "    <tr>\n",
       "      <th>MG1655</th>\n",
       "      <th></th>\n",
       "      <th></th>\n",
       "      <th></th>\n",
       "      <th></th>\n",
       "    </tr>\n",
       "  </thead>\n",
       "  <tbody>\n",
       "    <tr>\n",
       "      <th>b0689</th>\n",
       "      <td>-0.938762</td>\n",
       "      <td>-0.398239</td>\n",
       "      <td>1</td>\n",
       "      <td>1</td>\n",
       "    </tr>\n",
       "    <tr>\n",
       "      <th>b3021</th>\n",
       "      <td>0.338562</td>\n",
       "      <td>-0.540551</td>\n",
       "      <td>1</td>\n",
       "      <td>1</td>\n",
       "    </tr>\n",
       "    <tr>\n",
       "      <th>b3022</th>\n",
       "      <td>0.780714</td>\n",
       "      <td>0.204692</td>\n",
       "      <td>1</td>\n",
       "      <td>1</td>\n",
       "    </tr>\n",
       "    <tr>\n",
       "      <th>b0341</th>\n",
       "      <td>-1.058616</td>\n",
       "      <td>-0.310808</td>\n",
       "      <td>-1</td>\n",
       "      <td>1</td>\n",
       "    </tr>\n",
       "    <tr>\n",
       "      <th>b1730</th>\n",
       "      <td>-1.329109</td>\n",
       "      <td>-0.789673</td>\n",
       "      <td>-1</td>\n",
       "      <td>1</td>\n",
       "    </tr>\n",
       "    <tr>\n",
       "      <th>b3618</th>\n",
       "      <td>-0.232849</td>\n",
       "      <td>0.905007</td>\n",
       "      <td>1</td>\n",
       "      <td>1</td>\n",
       "    </tr>\n",
       "    <tr>\n",
       "      <th>b4345</th>\n",
       "      <td>-0.510766</td>\n",
       "      <td>0.074796</td>\n",
       "      <td>1</td>\n",
       "      <td>1</td>\n",
       "    </tr>\n",
       "    <tr>\n",
       "      <th>b4346</th>\n",
       "      <td>0.461953</td>\n",
       "      <td>0.576301</td>\n",
       "      <td>1</td>\n",
       "      <td>1</td>\n",
       "    </tr>\n",
       "    <tr>\n",
       "      <th>b4348</th>\n",
       "      <td>-0.434554</td>\n",
       "      <td>0.383195</td>\n",
       "      <td>1</td>\n",
       "      <td>1</td>\n",
       "    </tr>\n",
       "    <tr>\n",
       "      <th>b4350</th>\n",
       "      <td>0.642508</td>\n",
       "      <td>0.195212</td>\n",
       "      <td>1</td>\n",
       "      <td>1</td>\n",
       "    </tr>\n",
       "    <tr>\n",
       "      <th>b4351</th>\n",
       "      <td>0.251189</td>\n",
       "      <td>-0.177483</td>\n",
       "      <td>1</td>\n",
       "      <td>1</td>\n",
       "    </tr>\n",
       "    <tr>\n",
       "      <th>b0284</th>\n",
       "      <td>-1.403950</td>\n",
       "      <td>-1.005206</td>\n",
       "      <td>-1</td>\n",
       "      <td>-1</td>\n",
       "    </tr>\n",
       "    <tr>\n",
       "      <th>b1337</th>\n",
       "      <td>-1.383498</td>\n",
       "      <td>-1.207159</td>\n",
       "      <td>-1</td>\n",
       "      <td>-1</td>\n",
       "    </tr>\n",
       "    <tr>\n",
       "      <th>b1450</th>\n",
       "      <td>-0.401594</td>\n",
       "      <td>-0.720164</td>\n",
       "      <td>1</td>\n",
       "      <td>1</td>\n",
       "    </tr>\n",
       "    <tr>\n",
       "      <th>b2848</th>\n",
       "      <td>-1.247447</td>\n",
       "      <td>-0.531611</td>\n",
       "      <td>-1</td>\n",
       "      <td>1</td>\n",
       "    </tr>\n",
       "    <tr>\n",
       "      <th>b1335</th>\n",
       "      <td>1.123927</td>\n",
       "      <td>0.742933</td>\n",
       "      <td>2</td>\n",
       "      <td>1</td>\n",
       "    </tr>\n",
       "    <tr>\n",
       "      <th>b2032</th>\n",
       "      <td>0.508121</td>\n",
       "      <td>1.168740</td>\n",
       "      <td>1</td>\n",
       "      <td>2</td>\n",
       "    </tr>\n",
       "    <tr>\n",
       "      <th>b2033</th>\n",
       "      <td>0.771818</td>\n",
       "      <td>1.165679</td>\n",
       "      <td>1</td>\n",
       "      <td>2</td>\n",
       "    </tr>\n",
       "    <tr>\n",
       "      <th>b3817</th>\n",
       "      <td>-1.339482</td>\n",
       "      <td>-1.056584</td>\n",
       "      <td>-1</td>\n",
       "      <td>-1</td>\n",
       "    </tr>\n",
       "    <tr>\n",
       "      <th>b0600</th>\n",
       "      <td>1.063375</td>\n",
       "      <td>-0.484908</td>\n",
       "      <td>2</td>\n",
       "      <td>1</td>\n",
       "    </tr>\n",
       "    <tr>\n",
       "      <th>b0564</th>\n",
       "      <td>0.006969</td>\n",
       "      <td>-1.056584</td>\n",
       "      <td>1</td>\n",
       "      <td>-1</td>\n",
       "    </tr>\n",
       "    <tr>\n",
       "      <th>b2269</th>\n",
       "      <td>-1.451140</td>\n",
       "      <td>-0.697268</td>\n",
       "      <td>-1</td>\n",
       "      <td>1</td>\n",
       "    </tr>\n",
       "    <tr>\n",
       "      <th>b0285</th>\n",
       "      <td>-1.911690</td>\n",
       "      <td>-1.679846</td>\n",
       "      <td>-1</td>\n",
       "      <td>-1</td>\n",
       "    </tr>\n",
       "    <tr>\n",
       "      <th>b0629</th>\n",
       "      <td>-0.311620</td>\n",
       "      <td>-0.301475</td>\n",
       "      <td>1</td>\n",
       "      <td>1</td>\n",
       "    </tr>\n",
       "    <tr>\n",
       "      <th>b0719</th>\n",
       "      <td>-1.202359</td>\n",
       "      <td>-0.942378</td>\n",
       "      <td>-1</td>\n",
       "      <td>1</td>\n",
       "    </tr>\n",
       "    <tr>\n",
       "      <th>b0821</th>\n",
       "      <td>1.074343</td>\n",
       "      <td>-0.534289</td>\n",
       "      <td>2</td>\n",
       "      <td>1</td>\n",
       "    </tr>\n",
       "    <tr>\n",
       "      <th>b0904</th>\n",
       "      <td>1.000086</td>\n",
       "      <td>0.862663</td>\n",
       "      <td>2</td>\n",
       "      <td>1</td>\n",
       "    </tr>\n",
       "    <tr>\n",
       "      <th>b1202</th>\n",
       "      <td>-0.713656</td>\n",
       "      <td>-0.587307</td>\n",
       "      <td>1</td>\n",
       "      <td>1</td>\n",
       "    </tr>\n",
       "    <tr>\n",
       "      <th>b1289</th>\n",
       "      <td>-0.299450</td>\n",
       "      <td>0.168051</td>\n",
       "      <td>1</td>\n",
       "      <td>1</td>\n",
       "    </tr>\n",
       "    <tr>\n",
       "      <th>b1517</th>\n",
       "      <td>-0.656852</td>\n",
       "      <td>-1.635491</td>\n",
       "      <td>1</td>\n",
       "      <td>-1</td>\n",
       "    </tr>\n",
       "    <tr>\n",
       "      <th>b2490</th>\n",
       "      <td>-1.330984</td>\n",
       "      <td>-0.884782</td>\n",
       "      <td>-1</td>\n",
       "      <td>1</td>\n",
       "    </tr>\n",
       "    <tr>\n",
       "      <th>b3121</th>\n",
       "      <td>-2.336552</td>\n",
       "      <td>-0.864913</td>\n",
       "      <td>-1</td>\n",
       "      <td>1</td>\n",
       "    </tr>\n",
       "    <tr>\n",
       "      <th>b3677</th>\n",
       "      <td>-0.574931</td>\n",
       "      <td>-0.429878</td>\n",
       "      <td>1</td>\n",
       "      <td>1</td>\n",
       "    </tr>\n",
       "    <tr>\n",
       "      <th>b3989</th>\n",
       "      <td>-0.742933</td>\n",
       "      <td>-0.352536</td>\n",
       "      <td>1</td>\n",
       "      <td>1</td>\n",
       "    </tr>\n",
       "    <tr>\n",
       "      <th>b4066</th>\n",
       "      <td>-1.603870</td>\n",
       "      <td>-1.384507</td>\n",
       "      <td>-1</td>\n",
       "      <td>-1</td>\n",
       "    </tr>\n",
       "    <tr>\n",
       "      <th>b4120</th>\n",
       "      <td>-0.051131</td>\n",
       "      <td>-0.679115</td>\n",
       "      <td>1</td>\n",
       "      <td>1</td>\n",
       "    </tr>\n",
       "    <tr>\n",
       "      <th>b1514</th>\n",
       "      <td>-1.269672</td>\n",
       "      <td>-2.250688</td>\n",
       "      <td>-1</td>\n",
       "      <td>-1</td>\n",
       "    </tr>\n",
       "    <tr>\n",
       "      <th>b1518</th>\n",
       "      <td>-0.096170</td>\n",
       "      <td>-1.430371</td>\n",
       "      <td>1</td>\n",
       "      <td>-1</td>\n",
       "    </tr>\n",
       "    <tr>\n",
       "      <th>b0350</th>\n",
       "      <td>-1.150537</td>\n",
       "      <td>-1.599681</td>\n",
       "      <td>-1</td>\n",
       "      <td>-1</td>\n",
       "    </tr>\n",
       "    <tr>\n",
       "      <th>b0647</th>\n",
       "      <td>-0.307559</td>\n",
       "      <td>-0.661182</td>\n",
       "      <td>1</td>\n",
       "      <td>1</td>\n",
       "    </tr>\n",
       "    <tr>\n",
       "      <th>b3890</th>\n",
       "      <td>-0.775997</td>\n",
       "      <td>-0.872252</td>\n",
       "      <td>1</td>\n",
       "      <td>1</td>\n",
       "    </tr>\n",
       "    <tr>\n",
       "      <th>b1420</th>\n",
       "      <td>-0.127340</td>\n",
       "      <td>-0.547285</td>\n",
       "      <td>1</td>\n",
       "      <td>1</td>\n",
       "    </tr>\n",
       "    <tr>\n",
       "      <th>b1550</th>\n",
       "      <td>1.892778</td>\n",
       "      <td>0.666975</td>\n",
       "      <td>2</td>\n",
       "      <td>1</td>\n",
       "    </tr>\n",
       "    <tr>\n",
       "      <th>b1557</th>\n",
       "      <td>-0.919683</td>\n",
       "      <td>0.720666</td>\n",
       "      <td>1</td>\n",
       "      <td>1</td>\n",
       "    </tr>\n",
       "    <tr>\n",
       "      <th>b0228</th>\n",
       "      <td>0.012390</td>\n",
       "      <td>-0.683510</td>\n",
       "      <td>1</td>\n",
       "      <td>1</td>\n",
       "    </tr>\n",
       "    <tr>\n",
       "      <th>b0188</th>\n",
       "      <td>-0.164910</td>\n",
       "      <td>0.193239</td>\n",
       "      <td>1</td>\n",
       "      <td>1</td>\n",
       "    </tr>\n",
       "    <tr>\n",
       "      <th>b0559</th>\n",
       "      <td>0.089170</td>\n",
       "      <td>-0.080233</td>\n",
       "      <td>1</td>\n",
       "      <td>1</td>\n",
       "    </tr>\n",
       "    <tr>\n",
       "      <th>b1781</th>\n",
       "      <td>-0.524934</td>\n",
       "      <td>-0.041828</td>\n",
       "      <td>1</td>\n",
       "      <td>1</td>\n",
       "    </tr>\n",
       "    <tr>\n",
       "      <th>b2071</th>\n",
       "      <td>-1.342336</td>\n",
       "      <td>-1.140834</td>\n",
       "      <td>-1</td>\n",
       "      <td>-1</td>\n",
       "    </tr>\n",
       "    <tr>\n",
       "      <th>b3872</th>\n",
       "      <td>-0.935758</td>\n",
       "      <td>-0.517394</td>\n",
       "      <td>1</td>\n",
       "      <td>1</td>\n",
       "    </tr>\n",
       "  </tbody>\n",
       "</table>\n",
       "</div>"
      ],
      "text/plain": [
       "        HM01_UR_RPKM  HM01_UTI_RPKM  UR_confidence  UTI_confidence\n",
       "MG1655                                                            \n",
       "b0689      -0.938762      -0.398239              1               1\n",
       "b3021       0.338562      -0.540551              1               1\n",
       "b3022       0.780714       0.204692              1               1\n",
       "b0341      -1.058616      -0.310808             -1               1\n",
       "b1730      -1.329109      -0.789673             -1               1\n",
       "b3618      -0.232849       0.905007              1               1\n",
       "b4345      -0.510766       0.074796              1               1\n",
       "b4346       0.461953       0.576301              1               1\n",
       "b4348      -0.434554       0.383195              1               1\n",
       "b4350       0.642508       0.195212              1               1\n",
       "b4351       0.251189      -0.177483              1               1\n",
       "b0284      -1.403950      -1.005206             -1              -1\n",
       "b1337      -1.383498      -1.207159             -1              -1\n",
       "b1450      -0.401594      -0.720164              1               1\n",
       "b2848      -1.247447      -0.531611             -1               1\n",
       "b1335       1.123927       0.742933              2               1\n",
       "b2032       0.508121       1.168740              1               2\n",
       "b2033       0.771818       1.165679              1               2\n",
       "b3817      -1.339482      -1.056584             -1              -1\n",
       "b0600       1.063375      -0.484908              2               1\n",
       "b0564       0.006969      -1.056584              1              -1\n",
       "b2269      -1.451140      -0.697268             -1               1\n",
       "b0285      -1.911690      -1.679846             -1              -1\n",
       "b0629      -0.311620      -0.301475              1               1\n",
       "b0719      -1.202359      -0.942378             -1               1\n",
       "b0821       1.074343      -0.534289              2               1\n",
       "b0904       1.000086       0.862663              2               1\n",
       "b1202      -0.713656      -0.587307              1               1\n",
       "b1289      -0.299450       0.168051              1               1\n",
       "b1517      -0.656852      -1.635491              1              -1\n",
       "b2490      -1.330984      -0.884782             -1               1\n",
       "b3121      -2.336552      -0.864913             -1               1\n",
       "b3677      -0.574931      -0.429878              1               1\n",
       "b3989      -0.742933      -0.352536              1               1\n",
       "b4066      -1.603870      -1.384507             -1              -1\n",
       "b4120      -0.051131      -0.679115              1               1\n",
       "b1514      -1.269672      -2.250688             -1              -1\n",
       "b1518      -0.096170      -1.430371              1              -1\n",
       "b0350      -1.150537      -1.599681             -1              -1\n",
       "b0647      -0.307559      -0.661182              1               1\n",
       "b3890      -0.775997      -0.872252              1               1\n",
       "b1420      -0.127340      -0.547285              1               1\n",
       "b1550       1.892778       0.666975              2               1\n",
       "b1557      -0.919683       0.720666              1               1\n",
       "b0228       0.012390      -0.683510              1               1\n",
       "b0188      -0.164910       0.193239              1               1\n",
       "b0559       0.089170      -0.080233              1               1\n",
       "b1781      -0.524934      -0.041828              1               1\n",
       "b2071      -1.342336      -1.140834             -1              -1\n",
       "b3872      -0.935758      -0.517394              1               1"
      ]
     },
     "execution_count": 7,
     "metadata": {},
     "output_type": "execute_result"
    }
   ],
   "source": [
    "\n",
    "hm01[\"UR_confidence\"] = list(map(assignConfidence, hm01.HM01_UR_RPKM.values))\n",
    "    #UR_confidenceassignConfidence(test.HM01_UR_RPKM.loc[i])\n",
    "hm01['UTI_confidence'] = list(map(assignConfidence, hm01.HM01_UTI_RPKM))\n",
    "hm01.head(50)"
   ]
  },
  {
   "cell_type": "code",
   "execution_count": 8,
   "metadata": {
    "collapsed": false
   },
   "outputs": [],
   "source": [
    "ur_conf = hm01.UR_confidence.to_dict()"
   ]
  },
  {
   "cell_type": "code",
   "execution_count": 9,
   "metadata": {
    "collapsed": true
   },
   "outputs": [],
   "source": [
    "#Read in the model\n",
    "from __future__ import print_function\n",
    "import cobra\n",
    "base = cobra.io.read_sbml_model(model)"
   ]
  },
  {
   "cell_type": "code",
   "execution_count": 14,
   "metadata": {
    "collapsed": false
   },
   "outputs": [],
   "source": [
    "conf = {}\n",
    "for r in base.reactions:\n",
    "    conf[r.id]=reaction_confidence(r.gene_reaction_rule, ur_conf)\n"
   ]
  },
  {
   "cell_type": "code",
   "execution_count": 17,
   "metadata": {
    "collapsed": false
   },
   "outputs": [
    {
     "data": {
      "text/plain": [
       "<corda.corda.CORDA at 0x1131d7f98>"
      ]
     },
     "execution_count": 17,
     "metadata": {},
     "output_type": "execute_result"
    }
   ],
   "source": [
    "from corda import CORDA\n",
    "opt = CORDA(base, conf,)\n",
    "opt.build()\n",
    "opt"
   ]
  },
  {
   "cell_type": "code",
   "execution_count": 16,
   "metadata": {
    "collapsed": false
   },
   "outputs": [
    {
     "name": "stdout",
     "output_type": "stream",
     "text": [
      "['5mtr_e --> ', 'ac_e --> ', 'asp_DASH_L_e --> ', 'cit_e --> ', 'co2_e <=> ', 'dha_e --> ', 'for_e --> ', 'glc_DASH_D_e <=> ', 'glu_DASH_L_e --> ', 'gly_e --> ', 'h_e <=> ', 'h2o_e <=> ', 'h2s_e --> ', 'mal_DASH_L_e --> ', 'nh4_e <=> ', 'o2_e <=> ', 'so4_e <=> ', 'spmd_e --> ', '12ppd_DASH_R_e <=> 12ppd_DASH_R_p', '12ppd_DASH_S_e <=> 12ppd_DASH_S_p', '23camp_e <=> 23camp_p', '23ccmp_e <=> 23ccmp_p', '23cgmp_e <=> 23cgmp_p', '23cump_e <=> 23cump_p', '23dappa_e <=> 23dappa_p', '26dap_DASH_M_e <=> 26dap_DASH_M_p', '34dhpac_e <=> 34dhpac_p', '3amp_e <=> 3amp_p', '3cmp_e <=> 3cmp_p', '3gmp_e <=> 3gmp_p', '3hpp_e <=> 3hpp_p', 'LalaDgluMdap_e <=> LalaDgluMdap_p', '3ump_e <=> 3ump_p', '4hoxpacd_e <=> 4hoxpacd_p', 'LalaDgluMdapDala_e <=> LalaDgluMdapDala_p', '5dglcn_e <=> 5dglcn_p', '5mtr_e <=> 5mtr_p', '5mtr_c + h_c --> 5mtr_p + h_p', '4abut_e <=> 4abut_p', 'acac_e <=> acac_p', 'acald_e <=> acald_p', 'acgal1p_e <=> acgal1p_p', 'acgal_e <=> acgal_p', 'acgam1p_e <=> acgam1p_p', 'acgam_e <=> acgam_p', 'acglu_c + atp_c --> acg5p_c + adp_c', 'accoa_c + glu_DASH_L_c --> acglu_c + coa_c + h_c', 'ac_c + atp_c <=> actp_c + adp_c', 'acmana_e <=> acmana_p', 'acnam_e <=> acnam_p', 'acorn_c + h2o_c --> ac_c + orn_c', 'cit_c <=> acon_DASH_C_c + h2o_c', 'acon_DASH_C_c + h2o_c <=> icit_c', 'acorn_c + akg_c <=> acg5sa_c + glu_DASH_L_c', 'acser_e <=> acser_p', 'ac_p + h_p <=> ac_c + h_c', 'ac_e <=> ac_p', 'ade_e <=> ade_p', 'amp_c + atp_c <=> 2.0 adp_c', 'amet_c + h_c --> ametam_c + co2_c', 'adn_c + atp_c --> adp_c + amp_c + h_c', 'ade_c + prpp_c --> amp_c + ppi_c', 'aps_c + atp_c --> adp_c + h_c + paps_c', 'agm_e <=> agm_p', 'acg5sa_c + nadp_c + pi_c <=> acg5p_c + h_c + nadph_c', 'akg_e <=> akg_p', 'alaala_e <=> alaala_p', 'ala_DASH_L_e <=> ala_DASH_L_p', 'alltn_e <=> alltn_p', 'all_DASH_D_e <=> all_DASH_D_p', 'amp_e <=> amp_p', 'anhgm_e <=> anhgm_p', 'arab_DASH_L_e <=> arab_DASH_L_p', 'arg_DASH_L_e <=> arg_DASH_L_p', 'aspsa_c + nadp_c + pi_c <=> 4pasp_c + h_c + nadph_c', 'ascb_DASH_L_e <=> ascb_DASH_L_p', 'asn_DASH_L_e <=> asn_DASH_L_p', 'aso3_e <=> aso3_p', 'asp_DASH_L_c + atp_c <=> 4pasp_c + adp_c', 'akg_c + asp_DASH_L_c <=> glu_DASH_L_c + oaa_c', 'asp_DASH_L_p + h_p <=> asp_DASH_L_c + h_c', 'asp_DASH_L_e <=> asp_DASH_L_p', 'atp_c + h2o_c --> adp_c + h_c + pi_c', 'ala_DASH_B_e <=> ala_DASH_B_p', 'h2o_c + pap_c --> amp_c + pi_c', 'btn_e <=> btn_p', 'butso3_e <=> butso3_p', 'but_e <=> but_p', 'ca2_e <=> ca2_p', 'cd2_e <=> cd2_p', 'cgly_e <=> cgly_p', 'chol_e <=> chol_p', 'chtbs_e <=> chtbs_p', 'cit_c + h_p --> cit_p + h_c', 'cit_e <=> cit_p', 'cl_e <=> cl_p', 'cmp_e <=> cmp_p', 'cm_e <=> cm_p', 'co2_e <=> co2_p', 'co2_p <=> co2_c', 'cobalt2_e <=> cobalt2_p', 'crn_DASH_D_e <=> crn_DASH_D_p', 'crn_e <=> crn_p', 'accoa_c + h2o_c + oaa_c --> cit_c + coa_c + h_c', 'csn_e <=> csn_p', 'cu2_e <=> cu2_p', 'cu_e <=> cu_p', 'cyan_e <=> cyan_p', 'cynt_e <=> cynt_p', 'cys_DASH_L_c + h2o_c --> h2s_c + nh4_c + pyr_c', 'cys_DASH_D_e <=> cys_DASH_D_p', 'acser_c + h2s_c --> ac_c + cys_DASH_L_c + h_c', 'cyst_DASH_L_c + h2o_c --> hcys_DASH_L_c + nh4_c + pyr_c', 'cys_DASH_L_e <=> cys_DASH_L_p', '2.0 h_c + mql8_c + 0.5 o2_c --> h2o_c + 2.0 h_p + mqn8_c', '2.0 h_c + 0.5 o2_c + q8h2_c --> h2o_c + 2.0 h_p + q8_c', 'cytd_e <=> cytd_p', 'lac_DASH_D_e <=> lac_DASH_D_p', 'ala_DASH_D_e <=> ala_DASH_D_p', 'damp_e <=> damp_p', '15dap_e <=> 15dap_p', 'dca_e <=> dca_p', 'dcmp_e <=> dcmp_p', '2ddglcn_e <=> 2ddglcn_p', 'dgmp_e <=> dgmp_p', 'dgsn_e <=> dgsn_p', 'dha_c + pep_c --> dhap_c + pyr_c', 'dha_e <=> dha_p', 'dha_p <=> dha_c', 'dimp_e <=> dimp_p', 'din_e <=> din_p', 'dmso_e <=> dmso_p', 'dms_e <=> dms_p', 'dopa_e <=> dopa_p', 'doxrbcn_e <=> doxrbcn_p', 'ser_DASH_D_e <=> ser_DASH_D_p', 'dtmp_e <=> dtmp_p', 'dump_e <=> dump_p', '2pg_c <=> h2o_c + pep_c', 'etha_e <=> etha_p', 'ethso3_e <=> ethso3_p', 'etoh_e <=> etoh_p', 'f6p_c <=> dha_c + g3p_c', 'f6p_e <=> f6p_p', 'h2o_c + hxcoa_c --> coa_c + h_c + hxa_c', 'fald_e <=> fald_p', 'fe2_e <=> fe2_p', 'fe3_e <=> fe3_p', 'for_e <=> for_p', 'for_c --> for_p', 'frulys_e <=> frulys_p', 'fruur_e <=> fruur_p', 'fru_e <=> fru_p', 'fuc_DASH_L_e <=> fuc_DASH_L_p', 'fum_e <=> fum_p', 'fusa_e <=> fusa_p', 'g1p_e <=> g1p_p', 'g3pc_e <=> g3pc_p', 'g3pe_e <=> g3pe_p', 'g3pg_e <=> g3pg_p', 'g3pi_e <=> g3pi_p', 'g3ps_e <=> g3ps_p', 'g6p_e <=> g6p_p', 'gal1p_e <=> gal1p_p', 'gal_DASH_bD_e <=> gal_DASH_bD_p', 'galctn_DASH_L_e <=> galctn_DASH_L_p', 'galctn_DASH_D_e <=> galctn_DASH_D_p', 'galct_DASH_D_e <=> galct_DASH_D_p', 'galt_e <=> galt_p', 'galur_e <=> galur_p', 'gal_e <=> gal_p', 'gam6p_e <=> gam6p_p', 'gam_e <=> gam_p', 'g3p_c + nad_c + pi_c <=> 13dpg_c + h_c + nadh_c', 'gbbtn_e <=> gbbtn_p', 'atp_c + gdp_c --> amp_c + h_c + ppgpp_c', 'gdptp_c + h2o_c --> gtp_c + ppi_c', 'gdp_e <=> gdp_p', 'ser_DASH_L_c + thf_c <=> gly_c + h2o_c + mlthf_c', 'glcn_e <=> glcn_p', 'glcr_e <=> glcr_p', 'glcur1p_e <=> glcur1p_p', 'glcur_e <=> glcur_p', 'glc_DASH_D_p + pep_c --> g6p_c + pyr_c', 'glc_DASH_D_p + h_p --> glc_DASH_D_c + h_c', 'glc_DASH_D_e <=> glc_DASH_D_p', 'glc_DASH_D_e --> glc_DASH_D_p', 'gln_DASH_L_e <=> gln_DASH_L_p', 'glu_DASH_L_c + h2o_c + nadp_c <=> akg_c + h_c + nadph_c + nh4_c', 'glu_DASH_L_p + h_p <=> glu_DASH_L_c + h_c', 'glu_DASH_L_e <=> glu_DASH_L_p', 'glyald_e <=> glyald_p', 'glyb_e <=> glyb_p', 'glyc2p_e <=> glyc2p_p', 'glyc3p_e <=> glyc3p_p', 'glyc_DASH_R_e <=> glyc_DASH_R_p', 'gly_c + nad_c + thf_c --> co2_c + mlthf_c + nadh_c + nh4_c', 'glyclt_e <=> glyclt_p', 'glyc_e <=> glyc_p', 'gly_p + h_p <=> gly_c + h_c', 'gly_e <=> gly_p', 'gmp_e <=> gmp_p', 'grxox_c + 2.0 gthrd_c --> grxrd_c + gthox_c', 'gsn_e <=> gsn_p', 'gthox_e <=> gthox_p', 'gthox_c + h_c + nadph_c <=> 2.0 gthrd_c + nadp_c', 'gthrd_e <=> gthrd_p', 'atp_c + gtp_c --> amp_c + gdptp_c + h_c', 'gtp_e <=> gtp_p', 'glcur_c <=> fruur_c', 'galur_c <=> tagur_c', 'h2o2_e <=> h2o2_p', 'h2o_e <=> h2o_p', 'h2o_p <=> h2o_c', 'h2s_c --> h2s_p', 'h2s_e <=> h2s_p', 'h2_e <=> h2_p', '3hcinnm_e <=> 3hcinnm_p', 'atp_c + glc_DASH_D_c --> adp_c + g6p_c + h_c', 'atp_c + fru_c --> adp_c + f6p_c + h_c', 'hg2_e <=> hg2_p', 'his_DASH_L_e <=> his_DASH_L_p', 'hom_DASH_L_e <=> hom_DASH_L_p', '3hpppn_e <=> 3hpppn_p', 'hom_DASH_L_c + nadp_c <=> aspsa_c + h_c + nadph_c', 'hom_DASH_L_c + succoa_c --> coa_c + suchms_c', 'hxa_e <=> hxa_p', 'accoa_c + hxa_c --> ac_c + hxcoa_c', 'hxan_e <=> hxan_p', 'h_e <=> h_p', 'icit_c + nadp_c <=> akg_c + co2_c + nadph_c', 'idon_DASH_L_e <=> idon_DASH_L_p', 'ile_DASH_L_e <=> ile_DASH_L_p', 'imp_e <=> imp_p', 'indole_e <=> indole_p', 'inost_e <=> inost_p', 'isetac_e <=> isetac_p', 'k_e <=> k_p', 'lac_DASH_L_e <=> lac_DASH_L_p', 'LalaDglu_e <=> LalaDglu_p', 'LalaLglu_e <=> LalaLglu_p', 'lcts_e <=> lcts_p', 'leu_DASH_L_e <=> leu_DASH_L_p', 'lipoate_e <=> lipoate_p', 'lys_DASH_L_e <=> lys_DASH_L_p', 'lyx_DASH_L_e <=> lyx_DASH_L_p', 'mal_DASH_D_e <=> mal_DASH_D_p', 'h_p + mal_DASH_L_c --> h_c + mal_DASH_L_p', 'mal_DASH_L_e <=> mal_DASH_L_p', 'man6p_e <=> man6p_p', 'manglyc_e <=> manglyc_p', 'man_e <=> man_p', 'mal_DASH_L_c + nad_c <=> h_c + nadh_c + oaa_c', 'melib_e <=> melib_p', 'meoh_e <=> meoh_p', 'atp_c + h2o_c + met_DASH_L_c --> amet_c + pi_c + ppi_c', 'met_DASH_D_e <=> met_DASH_D_p', 'h2o2_c + met_DASH_L_c --> h2o_c + metsox_DASH_S_DASH_L_c', '5mthf_c + hcys_DASH_L_c --> h_c + met_DASH_L_c + thf_c', 'metsox_DASH_S_DASH_L_e <=> metsox_DASH_S_DASH_L_p', 'metsox_DASH_R_DASH_L_e <=> metsox_DASH_R_DASH_L_p', 'metsox_DASH_S_DASH_L_c + trdrd_c --> h2o_c + met_DASH_L_c + trdox_c', 'met_DASH_L_e <=> met_DASH_L_p', 'mg2_e <=> mg2_p', 'mincyc_e <=> mincyc_p', 'mmet_e <=> mmet_p', 'mnl_e <=> mnl_p', 'mn2_e <=> mn2_p', 'mobd_e <=> mobd_p', 'mal_DASH_L_c + o2_c <=> h2o2_c + oaa_c', 'mso3_e <=> mso3_p', '5mta_c + h2o_c --> 5mtr_c + ade_c', '2.0 h_c + mlthf_c + nadh_c --> 5mthf_c + nad_c', 'n2o_e <=> n2o_p', 'nac_e <=> nac_p', '4.0 h_c + nadh_c + q8_c --> 3.0 h_p + nad_c + q8h2_c', '4.0 h_c + mqn8_c + nadh_c --> 3.0 h_p + mql8_c + nad_c', 'na1_e <=> na1_p', 'atp_c + gdp_c <=> adp_c + gtp_c', 'nh4_e <=> nh4_p', 'nh4_p <=> nh4_c', 'ni2_e <=> ni2_p', 'nmn_e <=> nmn_p', 'no2_e <=> no2_p', 'no3_e <=> no3_p', 'no_e <=> no_p', 'amp_c + h2o_c --> adn_c + pi_c', 'o2s_e <=> o2s_p', 'o2_e <=> o2_p', 'o2_p <=> o2_c', 'octa_e <=> octa_p', 'h_c + orn_c --> co2_c + ptrc_c', 'orn_e <=> orn_p', 'orot_e <=> orot_p', 'pacald_e <=> pacald_p', 'paps_c + trdrd_c --> 2.0 h_c + pap_c + so3_c + trdox_c', 'grxrd_c + paps_c --> grxox_c + 2.0 h_c + pap_c + so3_c', 'coa_c + nad_c + pyr_c --> accoa_c + co2_c + nadh_c', 'peamn_e <=> peamn_p', 'coa_c + pyr_c --> accoa_c + for_c', '3pg_c + nad_c --> 3php_c + h_c + nadh_c', 'g6p_c <=> f6p_c', '3pg_c + atp_c <=> 13dpg_c + adp_c', '2pg_c <=> 3pg_c', 'phe_DASH_L_e <=> phe_DASH_L_p', 'pi_e <=> pi_p', 'pnto_DASH_R_e <=> pnto_DASH_R_p', 'ppal_e <=> ppal_p', 'ppa_e <=> ppa_p', 'co2_c + h2o_c + pep_c --> h_c + oaa_c + pi_c', 'h2o_c + ppgpp_c --> gdp_c + ppi_c', 'atp_c + pi_c <=> adp_c + ppi_c', 'r1p_c <=> r5p_c', 'pppn_e <=> pppn_p', 'ppt_e <=> ppt_p', 'progly_e <=> progly_p', 'pro_DASH_L_e <=> pro_DASH_L_p', 'atp_c + r5p_c <=> amp_c + h_c + prpp_c', 'psclys_e <=> psclys_p', '3php_c + glu_DASH_L_c --> akg_c + pser_DASH_L_c', 'pser_DASH_L_e <=> pser_DASH_L_p', 'h2o_c + pser_DASH_L_c --> pi_c + ser_DASH_L_c', 'accoa_c + pi_c <=> actp_c + coa_c', 'ptrc_e <=> ptrc_p', 'adn_c + pi_c <=> ade_c + r1p_c', 'pydam_e <=> pydam_p', 'pydxn_e <=> pydxn_p', 'pydx_e <=> pydx_p', 'pyr_e <=> pyr_p', 'quin_e <=> quin_p', 'r5p_e <=> r5p_p', 'rib_DASH_D_e <=> rib_DASH_D_p', 'rmn_e <=> rmn_p', 'ru5p_DASH_D_c <=> xu5p_DASH_D_c', 'r5p_c <=> ru5p_DASH_D_c', 'atp_c + gtp_c + h2o_c + so4_c --> aps_c + gdp_c + pi_c + ppi_c', 'nad_c + sbt6p_c <=> f6p_c + h_c + nadh_c', 'sbt_DASH_D_e <=> sbt_DASH_D_p', 'sel_e <=> sel_p', 'accoa_c + ser_DASH_L_c <=> acser_c + coa_c', 'ser_DASH_L_c --> nh4_c + pyr_c', 'ser_DASH_L_e <=> ser_DASH_L_p', 'cys_DASH_L_c + suchms_c --> cyst_DASH_L_c + h_c + succ_c', 'skm_e <=> skm_p', 'slnt_e <=> slnt_p', 'so2_e <=> so2_p', 'so3_e <=> so3_p', 'h_p + so4_p --> h_c + so4_c', 'so4_e <=> so4_p', 'h_p + spmd_c --> h_c + spmd_p', 'spmd_e <=> spmd_p', 'ametam_c + ptrc_c --> 5mta_c + h_c + spmd_c', 'succ_e <=> succ_p', 'atp_c + coa_c + succ_c <=> adp_c + pi_c + succoa_c', 'sucr_e <=> sucr_p', 'sulfac_e <=> sulfac_p', '5.0 h_c + 3.0 nadph_c + so3_c --> 3.0 h2o_c + h2s_c + 3.0 nadp_c', 'g3p_c + s7p_c <=> e4p_c + f6p_c', 'tartr_DASH_D_e <=> tartr_DASH_D_p', 'tartr_DASH_L_e <=> tartr_DASH_L_p', 'taur_e <=> taur_p', 'tcynt_e <=> tcynt_p', '2.0 h_p + nadh_c + nadp_c --> 2.0 h_c + nad_c + nadph_c', 'thymd_e <=> thymd_p', 'thm_e <=> thm_p', 'thrp_e <=> thrp_p', 'thr_DASH_L_e <=> thr_DASH_L_p', 'thym_e <=> thym_p', 'r5p_c + xu5p_DASH_D_c <=> g3p_c + s7p_c', 'e4p_c + xu5p_DASH_D_c <=> f6p_c + g3p_c', 'tmao_e <=> tmao_p', 'tma_e <=> tma_p', 'dhap_c <=> g3p_c', 'h_c + nadph_c + trdox_c --> nadp_c + trdrd_c', 'tre_e <=> tre_p', 'h2o_c + trp_DASH_L_c <=> indole_c + nh4_c + pyr_c', 'trp_DASH_L_e <=> trp_DASH_L_p', 'tsul_e <=> tsul_p', 'ttrcyc_e <=> ttrcyc_p', 'tungs_e <=> tungs_p', 'tym_e <=> tym_p', 'tyrp_e <=> tyrp_p', 'tyr_DASH_L_e <=> tyr_DASH_L_p', 'uacgam_e <=> uacgam_p', 'udpacgal_e <=> udpacgal_p', 'udpgal_e <=> udpgal_p', 'udpglcur_e <=> udpglcur_p', 'udpg_e <=> udpg_p', 'ump_e <=> ump_p', 'ura_e <=> ura_p', 'urea_e <=> urea_p', 'val_DASH_L_e <=> val_DASH_L_p', 'xan_e <=> xan_p', 'xmp_e <=> xmp_p', 'xtsn_e <=> xtsn_p', 'glc_DASH_D_c <=> fru_c', 'xylu_DASH_L_e <=> xylu_DASH_L_p', 'xyl_DASH_D_e <=> xyl_DASH_D_p', 'zn2_e <=> zn2_p']\n"
     ]
    }
   ],
   "source": [
    "print([opt.model.reactions.get_by_id(k).reaction for k, used in opt.included.items() if used])"
   ]
  },
  {
   "cell_type": "code",
   "execution_count": 24,
   "metadata": {
    "collapsed": false
   },
   "outputs": [],
   "source": [
    "to_keep = base.reactions.get_by_id(\"Ec_biomass_iJO1366_core_53p95M\").reaction\n"
   ]
  },
  {
   "cell_type": "code",
   "execution_count": null,
   "metadata": {
    "collapsed": false
   },
   "outputs": [],
   "source": [
    "opt2 =  CORDA(base, conf, met_prod=to_keep)\n",
    "opt2.build()\n",
    "print(opt2)"
   ]
  },
  {
   "cell_type": "code",
   "execution_count": 100,
   "metadata": {
    "collapsed": false
   },
   "outputs": [
    {
     "data": {
      "text/html": [
       "\n",
       "        <table>\n",
       "            <tr>\n",
       "                <td><strong>Name</strong></td>\n",
       "                <td>HM1_iJO1366</td>\n",
       "            </tr><tr>\n",
       "                <td><strong>Memory address</strong></td>\n",
       "                <td>0x0118e1fe80</td>\n",
       "            </tr><tr>\n",
       "                <td><strong>Number of metabolites</strong></td>\n",
       "                <td>1805</td>\n",
       "            </tr><tr>\n",
       "                <td><strong>Number of reactions</strong></td>\n",
       "                <td>2516</td>\n",
       "            </tr><tr>\n",
       "                <td><strong>Objective expression</strong></td>\n",
       "                <td>-1.0*Ec_biomass_iJO1366_core_53p95M_reverse_e94eb + 1.0*Ec_biomass_iJO1366_core_53p95M</td>\n",
       "            </tr><tr>\n",
       "                <td><strong>Compartments</strong></td>\n",
       "                <td>Cytoplasm, Extracellular, Periplasm</td>\n",
       "            </tr>\n",
       "          </table>"
      ],
      "text/plain": [
       "<Model HM1_iJO1366 at 0x118e1fe80>"
      ]
     },
     "execution_count": 100,
     "metadata": {},
     "output_type": "execute_result"
    }
   ],
   "source": [
    "base"
   ]
  },
  {
   "cell_type": "code",
   "execution_count": 101,
   "metadata": {
    "collapsed": false
   },
   "outputs": [
    {
     "data": {
      "text/html": [
       "\n",
       "        <table>\n",
       "            <tr>\n",
       "                <td><strong>Name</strong></td>\n",
       "                <td>HM1_iJO1366</td>\n",
       "            </tr><tr>\n",
       "                <td><strong>Memory address</strong></td>\n",
       "                <td>0x011bcbee80</td>\n",
       "            </tr><tr>\n",
       "                <td><strong>Number of metabolites</strong></td>\n",
       "                <td>1805</td>\n",
       "            </tr><tr>\n",
       "                <td><strong>Number of reactions</strong></td>\n",
       "                <td>2516</td>\n",
       "            </tr><tr>\n",
       "                <td><strong>Objective expression</strong></td>\n",
       "                <td>0</td>\n",
       "            </tr><tr>\n",
       "                <td><strong>Compartments</strong></td>\n",
       "                <td>Cytoplasm, Extracellular, Periplasm</td>\n",
       "            </tr>\n",
       "          </table>"
      ],
      "text/plain": [
       "<Model HM1_iJO1366 at 0x11bcbee80>"
      ]
     },
     "execution_count": 101,
     "metadata": {},
     "output_type": "execute_result"
    }
   ],
   "source": [
    "opt.model"
   ]
  },
  {
   "cell_type": "code",
   "execution_count": 104,
   "metadata": {
    "collapsed": false
   },
   "outputs": [],
   "source": [
    "opt.model.objective=base.objective = \"Ec_biomass_iJO1366_core_53p95M\""
   ]
  },
  {
   "cell_type": "code",
   "execution_count": 105,
   "metadata": {
    "collapsed": false
   },
   "outputs": [
    {
     "data": {
      "text/html": [
       "\n",
       "        <table>\n",
       "            <tr>\n",
       "                <td><strong>Name</strong></td>\n",
       "                <td>HM1_iJO1366</td>\n",
       "            </tr><tr>\n",
       "                <td><strong>Memory address</strong></td>\n",
       "                <td>0x011bcbee80</td>\n",
       "            </tr><tr>\n",
       "                <td><strong>Number of metabolites</strong></td>\n",
       "                <td>1805</td>\n",
       "            </tr><tr>\n",
       "                <td><strong>Number of reactions</strong></td>\n",
       "                <td>2516</td>\n",
       "            </tr><tr>\n",
       "                <td><strong>Objective expression</strong></td>\n",
       "                <td>-1.0*Ec_biomass_iJO1366_core_53p95M_reverse_e94eb + 1.0*Ec_biomass_iJO1366_core_53p95M</td>\n",
       "            </tr><tr>\n",
       "                <td><strong>Compartments</strong></td>\n",
       "                <td>Cytoplasm, Extracellular, Periplasm</td>\n",
       "            </tr>\n",
       "          </table>"
      ],
      "text/plain": [
       "<Model HM1_iJO1366 at 0x11bcbee80>"
      ]
     },
     "execution_count": 105,
     "metadata": {},
     "output_type": "execute_result"
    }
   ],
   "source": [
    "opt.model"
   ]
  },
  {
   "cell_type": "code",
   "execution_count": 106,
   "metadata": {
    "collapsed": false
   },
   "outputs": [
    {
     "data": {
      "text/plain": [
       "0.0"
      ]
     },
     "execution_count": 106,
     "metadata": {},
     "output_type": "execute_result"
    }
   ],
   "source": [
    "opt.model.optimize().objective_value"
   ]
  },
  {
   "cell_type": "code",
   "execution_count": null,
   "metadata": {
    "collapsed": true
   },
   "outputs": [],
   "source": []
  }
 ],
 "metadata": {
  "kernelspec": {
   "display_name": "Python 3",
   "language": "python",
   "name": "python3"
  },
  "language_info": {
   "codemirror_mode": {
    "name": "ipython",
    "version": 3
   },
   "file_extension": ".py",
   "mimetype": "text/x-python",
   "name": "python",
   "nbconvert_exporter": "python",
   "pygments_lexer": "ipython3",
   "version": "3.6.0"
  }
 },
 "nbformat": 4,
 "nbformat_minor": 2
}
