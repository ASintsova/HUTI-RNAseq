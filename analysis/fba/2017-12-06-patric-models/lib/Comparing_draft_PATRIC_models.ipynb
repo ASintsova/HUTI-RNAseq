{
 "cells": [
  {
   "cell_type": "code",
   "execution_count": 34,
   "metadata": {
    "collapsed": true
   },
   "outputs": [],
   "source": [
    "from __future__ import print_function\n",
    "\n",
    "import cobra\n",
    "import cobra.test\n",
    "import os\n",
    "import libsbml\n",
    "import pandas as pd"
   ]
  },
  {
   "cell_type": "code",
   "execution_count": 92,
   "metadata": {
    "collapsed": false
   },
   "outputs": [
    {
     "name": "stdout",
     "output_type": "stream",
     "text": [
      "A__HM01_model\n",
      "367.09037869609216\n",
      "A__HM03_model\n",
      "368.9659344994808\n",
      "A__HM06_model\n",
      "380.3053646824794\n",
      "A__HM07_model\n",
      "368.96593391685104\n",
      "A__HM14_model\n",
      "368.96593633059655\n",
      "A__HM17_model\n",
      "380.3053614225452\n",
      "A__HM43_model\n",
      "380.3053620230616\n",
      "A__HM54_model\n",
      "380.3053627951524\n",
      "A__HM56_model\n",
      "379.87804614097877\n",
      "A__HM57_model\n",
      "380.4450749899052\n",
      "A__HM66_model\n",
      "380.3053607362397\n",
      "A__HM68_model\n",
      "357.73198838712284\n",
      "A__HM86_model\n",
      "380.30536219463795\n"
     ]
    }
   ],
   "source": [
    "files = [x for x in list(os.listdir()) if 'sbml' in x and 'GMM' not in x]\n",
    "files\n",
    "hm01, hm03, hm06, hm07, hm14, hm17, hm43, hm54, hm56, hm57, hm66, hm68, hm86 = map(cobra.io.read_sbml_model, files)\n",
    "models = [hm01, hm03, hm06, hm07, hm14, hm17, hm43, hm54, hm56, hm57, hm66, hm68, hm86]\n",
    "\n",
    "for mod in models:\n",
    "    print(mod)\n",
    "    print(mod.optimize().objective_value)\n"
   ]
  },
  {
   "cell_type": "code",
   "execution_count": 9,
   "metadata": {
    "collapsed": false
   },
   "outputs": [
    {
     "name": "stdout",
     "output_type": "stream",
     "text": [
      "A__HM06_GMM_model\n",
      "368.74357080384647\n",
      "A__HM07_GMM_model\n",
      "369.0287958645253\n",
      "A__HM57_GMM_model\n",
      "368.8789568216552\n"
     ]
    }
   ],
   "source": [
    "#Load in gmm models, assume gmm stands for glucose minimal media\n",
    "gmm_files = [x for x in list(os.listdir()) if 'GMM' in x]\n",
    "hm06_gmm, hm07_gmm, hm57_gmm = map(cobra.io.read_sbml_model, gmm_files)\n",
    "for mod in [hm06_gmm, hm07_gmm, hm57_gmm]:\n",
    "    print(mod)\n",
    "    print(mod.optimize().objective_value)\n",
    "    \n",
    "#either gmm stands for something else, or there isn't much difference. Or these small\n",
    "#differnces actually matter a lot\n",
    "#or need to optimize what I'm optimizing\n"
   ]
  },
  {
   "cell_type": "code",
   "execution_count": 16,
   "metadata": {
    "collapsed": false
   },
   "outputs": [],
   "source": [
    "# Just checking that biomass reaction has been set as the objective\n",
    "\n",
    "from cobra.util.solver import linear_reaction_coefficients\n",
    "linear_reaction_coefficients(hm01)\n",
    "hm01.objective = hm01.reactions.biomass0"
   ]
  },
  {
   "cell_type": "code",
   "execution_count": 46,
   "metadata": {
    "collapsed": false
   },
   "outputs": [
    {
     "data": {
      "text/html": [
       "<div>\n",
       "<table border=\"1\" class=\"dataframe\">\n",
       "  <thead>\n",
       "    <tr style=\"text-align: right;\">\n",
       "      <th></th>\n",
       "      <th>iron_influx</th>\n",
       "      <th>A__HM06_model</th>\n",
       "      <th>A__HM07_model</th>\n",
       "      <th>A__HM57_model</th>\n",
       "    </tr>\n",
       "  </thead>\n",
       "  <tbody>\n",
       "    <tr>\n",
       "      <th>0</th>\n",
       "      <td>-1000.0</td>\n",
       "      <td>380.3054</td>\n",
       "      <td>368.9659</td>\n",
       "      <td>380.4451</td>\n",
       "    </tr>\n",
       "    <tr>\n",
       "      <th>1</th>\n",
       "      <td>-100.0</td>\n",
       "      <td>380.3054</td>\n",
       "      <td>368.9659</td>\n",
       "      <td>380.4451</td>\n",
       "    </tr>\n",
       "    <tr>\n",
       "      <th>2</th>\n",
       "      <td>-10.0</td>\n",
       "      <td>380.3054</td>\n",
       "      <td>368.9659</td>\n",
       "      <td>380.4451</td>\n",
       "    </tr>\n",
       "    <tr>\n",
       "      <th>3</th>\n",
       "      <td>-1.0</td>\n",
       "      <td>322.9487</td>\n",
       "      <td>322.9487</td>\n",
       "      <td>322.9487</td>\n",
       "    </tr>\n",
       "    <tr>\n",
       "      <th>4</th>\n",
       "      <td>-0.1</td>\n",
       "      <td>32.2949</td>\n",
       "      <td>32.2949</td>\n",
       "      <td>32.2949</td>\n",
       "    </tr>\n",
       "    <tr>\n",
       "      <th>5</th>\n",
       "      <td>0.0</td>\n",
       "      <td>0.0000</td>\n",
       "      <td>0.0000</td>\n",
       "      <td>0.0000</td>\n",
       "    </tr>\n",
       "  </tbody>\n",
       "</table>\n",
       "</div>"
      ],
      "text/plain": [
       "   iron_influx  A__HM06_model  A__HM07_model  A__HM57_model\n",
       "0      -1000.0       380.3054       368.9659       380.4451\n",
       "1       -100.0       380.3054       368.9659       380.4451\n",
       "2        -10.0       380.3054       368.9659       380.4451\n",
       "3         -1.0       322.9487       322.9487       322.9487\n",
       "4         -0.1        32.2949        32.2949        32.2949\n",
       "5          0.0         0.0000         0.0000         0.0000"
      ]
     },
     "execution_count": 46,
     "metadata": {},
     "output_type": "execute_result"
    }
   ],
   "source": [
    "#aerobic\n",
    "#looking at 3 strains Arwen chose\n",
    "aerobic = pd.DataFrame()\n",
    "strains = [hm06, hm07, hm57]\n",
    "iron_influx = [-1000, -100, -10, -1, -0.1, 0,]\n",
    "aerobic['iron_influx'] = iron_influx\n",
    "#iron = strain.reactions.EX_cpd10515_e0\n",
    "for strain in strains:\n",
    "    iron = strain.reactions.EX_cpd10515_e0\n",
    "    biomass = []    \n",
    "    for i in iron_influx:\n",
    "        iron.lower_bound = i\n",
    "        biomass.append(round(strain.optimize().objective_value, 4))\n",
    "    aerobic[strain] = biomass\n",
    "aerobic\n"
   ]
  },
  {
   "cell_type": "code",
   "execution_count": 79,
   "metadata": {
    "collapsed": false
   },
   "outputs": [
    {
     "data": {
      "text/html": [
       "<div>\n",
       "<table border=\"1\" class=\"dataframe\">\n",
       "  <thead>\n",
       "    <tr style=\"text-align: right;\">\n",
       "      <th></th>\n",
       "      <th>iron_influx</th>\n",
       "      <th>A__HM06_model</th>\n",
       "      <th>A__HM07_model</th>\n",
       "      <th>A__HM57_model</th>\n",
       "    </tr>\n",
       "  </thead>\n",
       "  <tbody>\n",
       "    <tr>\n",
       "      <th>0</th>\n",
       "      <td>-1000.0</td>\n",
       "      <td>380.3054</td>\n",
       "      <td>368.9659</td>\n",
       "      <td>380.4451</td>\n",
       "    </tr>\n",
       "    <tr>\n",
       "      <th>1</th>\n",
       "      <td>-100.0</td>\n",
       "      <td>380.3054</td>\n",
       "      <td>368.9659</td>\n",
       "      <td>380.4451</td>\n",
       "    </tr>\n",
       "    <tr>\n",
       "      <th>2</th>\n",
       "      <td>-10.0</td>\n",
       "      <td>380.3054</td>\n",
       "      <td>368.9659</td>\n",
       "      <td>380.4451</td>\n",
       "    </tr>\n",
       "    <tr>\n",
       "      <th>3</th>\n",
       "      <td>-1.0</td>\n",
       "      <td>322.9487</td>\n",
       "      <td>322.9487</td>\n",
       "      <td>322.9487</td>\n",
       "    </tr>\n",
       "    <tr>\n",
       "      <th>4</th>\n",
       "      <td>-0.1</td>\n",
       "      <td>32.2949</td>\n",
       "      <td>32.2949</td>\n",
       "      <td>32.2949</td>\n",
       "    </tr>\n",
       "    <tr>\n",
       "      <th>5</th>\n",
       "      <td>0.0</td>\n",
       "      <td>0.0000</td>\n",
       "      <td>0.0000</td>\n",
       "      <td>0.0000</td>\n",
       "    </tr>\n",
       "  </tbody>\n",
       "</table>\n",
       "</div>"
      ],
      "text/plain": [
       "   iron_influx  A__HM06_model  A__HM07_model  A__HM57_model\n",
       "0      -1000.0       380.3054       368.9659       380.4451\n",
       "1       -100.0       380.3054       368.9659       380.4451\n",
       "2        -10.0       380.3054       368.9659       380.4451\n",
       "3         -1.0       322.9487       322.9487       322.9487\n",
       "4         -0.1        32.2949        32.2949        32.2949\n",
       "5          0.0         0.0000         0.0000         0.0000"
      ]
     },
     "execution_count": 79,
     "metadata": {},
     "output_type": "execute_result"
    }
   ],
   "source": [
    "#anaerobic\n",
    "anaerobic = pd.DataFrame()\n",
    "anaerobic['iron_influx'] = iron_influx\n",
    "for strain in strains:\n",
    "    ox = strain.reactions.EX_cpd00007_e0\n",
    "    ox.lower_bound = 0\n",
    "    iron = strain.reactions.EX_cpd10515_e0\n",
    "    biomass = []    \n",
    "    for i in iron_influx:\n",
    "        iron.lower_bound = i\n",
    "        biomass.append(round(strain.optimize().objective_value, 4))\n",
    "    anaerobic[strain] = biomass\n",
    "anaerobic\n",
    "\n",
    "#Clearly not good models - can't even differentiate between aerobic and anaerobic!!!!\n"
   ]
  },
  {
   "cell_type": "code",
   "execution_count": 53,
   "metadata": {
    "collapsed": false
   },
   "outputs": [
    {
     "data": {
      "text/plain": [
       "380.3053646824809"
      ]
     },
     "execution_count": 53,
     "metadata": {},
     "output_type": "execute_result"
    }
   ],
   "source": [
    "hm06.reactions.EX_cpd00007_e0.lower_bound = 0\n",
    "hm06.reactions.EX_cpd10515_e0.lower_bound = -1000\n",
    "hm06.optimize().objective_value"
   ]
  },
  {
   "cell_type": "code",
   "execution_count": 62,
   "metadata": {
    "collapsed": false
   },
   "outputs": [
    {
     "name": "stdout",
     "output_type": "stream",
     "text": [
      "cpd00011_c0  name  CO2_c0\n",
      "cpd00007_c0  name  O2_c0\n",
      "cpd00025_c0  name  H2O2_c0\n",
      "cpd00532_c0  name  O2__c0\n",
      "cpd03736_c0  name  Lauroyl_KDO2_lipid_IVA_c0\n",
      "cpd00007_e0  name  O2_e0\n",
      "cpd00011_e0  name  CO2_e0\n"
     ]
    }
   ],
   "source": [
    "for met in hm01.metabolites:\n",
    "    if 'O2' in met.name:\n",
    "        print(met, ' name ', met.name)\n",
    "        "
   ]
  },
  {
   "cell_type": "code",
   "execution_count": 72,
   "metadata": {
    "collapsed": false
   },
   "outputs": [
    {
     "name": "stdout",
     "output_type": "stream",
     "text": [
      "IN FLUXES             OUT FLUXES            OBJECTIVES\n",
      "--------------------  --------------------  -------------\n",
      "cpd00024_e0    1e+03  cpd00009_e0    1e+03  biomass0  161\n",
      "cpd00080_e0    1e+03  cpd00011_e0    1e+03\n",
      "cpd00132_e0    1e+03  cpd00013_e0    1e+03\n",
      "cpd00367_e0    1e+03  cpd00033_e0    1e+03\n",
      "cpd03279_e0  946      cpd00036_e0    1e+03\n",
      "cpd00794_e0  752      cpd00092_e0    1e+03\n",
      "cpd11589_e0  732      cpd00106_e0    1e+03\n",
      "cpd00054_e0  540      cpd00396_e0    1e+03\n",
      "cpd00079_e0  500      cpd00108_e0  984\n",
      "cpd00314_e0  436      cpd00122_e0  984\n",
      "cpd17041_c0  161      cpd00100_e0  963\n",
      "cpd17042_c0  161      cpd00309_e0  919\n",
      "cpd17043_c0  161      cpd00129_e0  536\n",
      "cpd00137_e0  104      cpd01015_e0  439\n",
      "cpd00051_e0   88.7    cpd00047_e0  359\n",
      "cpd00653_e0   87.9    cpd00065_e0  338\n",
      "cpd00156_e0   70.6    cpd00067_e0  224\n",
      "cpd15604_e0   60.6    cpd00012_e0  182\n",
      "cpd00039_e0   50.1    cpd11416_c0  161\n",
      "cpd11593_e0   46.3    cpd00064_e0   88.7\n",
      "cpd00322_e0   39      cpd00355_e0    5.13\n",
      "cpd00412_e0   33.4\n",
      "cpd00066_e0   25\n",
      "cpd03847_e0   24.2\n",
      "cpd00438_e0   23.3\n",
      "cpd11590_e0   21.1\n",
      "cpd00069_e0   19.5\n",
      "cpd01080_e0   13.8\n",
      "cpd00119_e0   12.8\n",
      "cpd00268_e0    6.9\n",
      "cpd00644_e0    1\n",
      "cpd00028_e0    1\n",
      "cpd00030_e0    0.5\n",
      "cpd00034_e0    0.5\n",
      "cpd00048_e0    0.5\n",
      "cpd00058_e0    0.5\n",
      "cpd00063_e0    0.5\n",
      "cpd00099_e0    0.5\n",
      "cpd00149_e0    0.5\n",
      "cpd00205_e0    0.5\n",
      "cpd00254_e0    0.5\n",
      "cpd00793_e0    0.5\n",
      "cpd10515_e0    0.5\n",
      "cpd10516_e0    0.5\n"
     ]
    }
   ],
   "source": [
    "ox = hm01.reactions.EX_cpd00007_e0\n",
    "ox.lower_bound = -1000\n",
    "hm01.optimize().objective_value\n",
    "hm01.summary()\n",
    "#no in flux for oxygen :S"
   ]
  },
  {
   "cell_type": "code",
   "execution_count": 80,
   "metadata": {
    "collapsed": false
   },
   "outputs": [
    {
     "data": {
      "text/html": [
       "\n",
       "        <table>\n",
       "            <tr>\n",
       "                <td><strong>Reaction identifier</strong></td><td>rxn00117_c0</td>\n",
       "            </tr><tr>\n",
       "                <td><strong>Name</strong></td><td>ATP_UDP_phosphotransferase_c0</td>\n",
       "            </tr><tr>\n",
       "                <td><strong>Memory address</strong></td>\n",
       "                <td>0x011c943668</td>\n",
       "            </tr><tr>\n",
       "                <td><strong>Stoichiometry</strong></td>\n",
       "                <td>\n",
       "                    <p style='text-align:right'>cpd00002_c0 + cpd00014_c0 <=> cpd00008_c0 + cpd00062_c0</p>\n",
       "                    <p style='text-align:right'>ATP_c0 + UDP_c0 <=> ADP_c0 + UTP_c0</p>\n",
       "                </td>\n",
       "            </tr><tr>\n",
       "                <td><strong>GPR</strong></td><td>fig|562.23995.peg.2275</td>\n",
       "            </tr><tr>\n",
       "                <td><strong>Lower bound</strong></td><td>-1000.0</td>\n",
       "            </tr><tr>\n",
       "                <td><strong>Upper bound</strong></td><td>1000.0</td>\n",
       "            </tr>\n",
       "        </table>\n",
       "        "
      ],
      "text/plain": [
       "<Reaction rxn00117_c0 at 0x11c943668>"
      ]
     },
     "execution_count": 80,
     "metadata": {},
     "output_type": "execute_result"
    }
   ],
   "source": [
    "hm01.reactions.rxn00117_c0"
   ]
  },
  {
   "cell_type": "code",
   "execution_count": 107,
   "metadata": {
    "collapsed": false
   },
   "outputs": [
    {
     "name": "stdout",
     "output_type": "stream",
     "text": [
      "IN FLUXES             OUT FLUXES            OBJECTIVES\n",
      "--------------------  --------------------  ------------------\n",
      "cpd00024_e0    1e+03  cpd00009_e0    1e+03  rxn00117_c0  1e+03\n",
      "cpd00080_e0    1e+03  cpd00011_e0    1e+03\n",
      "cpd00132_e0    1e+03  cpd00013_e0    1e+03\n",
      "cpd00276_e0    1e+03  cpd00036_e0    1e+03\n",
      "cpd00367_e0    1e+03  cpd00092_e0    1e+03\n",
      "cpd03279_e0    1e+03  cpd00309_e0    1e+03\n",
      "cpd00249_e0  782      cpd03198_e0    1e+03\n",
      "cpd00079_e0  770      cpd00122_e0  967\n",
      "cpd00054_e0  758      cpd00033_e0  936\n",
      "cpd00794_e0  636      cpd00035_e0  832\n",
      "cpd17041_c0  334      cpd00412_e0  719\n",
      "cpd17042_c0  334      cpd00082_e0  488\n",
      "cpd17043_c0  334      cpd01912_e0  479\n",
      "cpd00235_e0  208      cpd11416_c0  334\n",
      "cpd00107_e0  154      cpd00047_e0  233\n",
      "cpd00156_e0  117      cpd00138_e0  208\n",
      "cpd01217_e0  104      cpd00573_e0  162\n",
      "cpd00039_e0  104      cpd00012_e0  116\n",
      "cpd00051_e0   82.3    cpd00130_e0   54.8\n",
      "cpd00322_e0   80.7    cpd00065_e0   46.2\n",
      "cpd00129_e0   61.5    cpd00139_e0    3.1\n",
      "cpd11580_e0   55.8\n",
      "cpd00066_e0   51.5\n",
      "cpd03847_e0   50.1\n",
      "cpd00048_e0   41.1\n",
      "cpd00069_e0   40.3\n",
      "cpd15603_e0   31.1\n",
      "cpd00119_e0   26.4\n",
      "cpd00184_e0    5.27\n",
      "cpd00028_e0    2.07\n",
      "cpd00118_e0    2.07\n",
      "cpd00644_e0    2.07\n",
      "cpd00355_e0    2.07\n",
      "cpd00030_e0    1.03\n",
      "cpd00034_e0    1.03\n",
      "cpd00058_e0    1.03\n",
      "cpd00063_e0    1.03\n",
      "cpd00099_e0    1.03\n",
      "cpd00149_e0    1.03\n",
      "cpd00205_e0    1.03\n",
      "cpd00254_e0    1.03\n",
      "cpd00793_e0    1.03\n",
      "cpd01017_e0    1.03\n",
      "cpd10515_e0    1.03\n",
      "cpd10516_e0    1.03\n"
     ]
    }
   ],
   "source": [
    "hm03.objective = \"rxn00117_c0\"\n",
    "#hm01.reactions.get_by_id(\"rxn00117_c0\").upper_bound = 1000.0\n",
    "linear_reaction_coefficients(hm01)\n",
    "\n",
    "hm03.reactions.EX_cpd00007_e0.lower_bound = -1000\n",
    "#hm01.reactions.EX_cpd00007_e0.upper_bound = 1000\n",
    "hm03.optimize()\n",
    "hm03.summary()\n"
   ]
  },
  {
   "cell_type": "markdown",
   "metadata": {},
   "source": [
    "## Modeling different enviromental conditions:\n",
    "\n",
    "   * Trying to figure out how to model iron depletion. What's the id for extracellular iron? What reactions is it involved in? Can I set them to 0.\n",
    "\n"
   ]
  },
  {
   "cell_type": "code",
   "execution_count": 29,
   "metadata": {
    "collapsed": false
   },
   "outputs": [
    {
     "name": "stdout",
     "output_type": "stream",
     "text": [
      "cpd10515_e0  name  Fe2_e0\n",
      "cpd10515_c0  name  Fe2_c0\n",
      "cpd03724_e0  name  Ferrichrome_e0\n",
      "cpd03724_c0  name  Ferrichrome_c0\n",
      "cpd02755_c0  name  Fecosterol_c0\n",
      "cpd01733_c0  name  Ferulaldehyde_c0\n",
      "cpd01059_c0  name  Ferulate_c0\n",
      "cpd03725_e0  name  FeIIIdicitrate_e0\n",
      "cpd03725_c0  name  FeIIIdicitrate_c0\n"
     ]
    }
   ],
   "source": [
    "for met in hm01.metabolites:\n",
    "    if 'Fe' in met.name:\n",
    "        print(met, ' name ', met.name)"
   ]
  },
  {
   "cell_type": "code",
   "execution_count": 31,
   "metadata": {
    "collapsed": false
   },
   "outputs": [
    {
     "data": {
      "text/plain": [
       "frozenset({<Reaction rxn05555_c0 at 0x11101fa58>,\n",
       "           <Reaction EX_cpd10515_e0 at 0x1116202e8>})"
      ]
     },
     "execution_count": 31,
     "metadata": {},
     "output_type": "execute_result"
    }
   ],
   "source": [
    "hm01.metabolites.cpd10515_e0.reactions"
   ]
  },
  {
   "cell_type": "code",
   "execution_count": 32,
   "metadata": {
    "collapsed": false
   },
   "outputs": [
    {
     "data": {
      "text/html": [
       "\n",
       "        <table>\n",
       "            <tr>\n",
       "                <td><strong>Reaction identifier</strong></td><td>EX_cpd10515_e0</td>\n",
       "            </tr><tr>\n",
       "                <td><strong>Name</strong></td><td>EX_Fe2_e0</td>\n",
       "            </tr><tr>\n",
       "                <td><strong>Memory address</strong></td>\n",
       "                <td>0x01116202e8</td>\n",
       "            </tr><tr>\n",
       "                <td><strong>Stoichiometry</strong></td>\n",
       "                <td>\n",
       "                    <p style='text-align:right'>cpd10515_e0 <=> </p>\n",
       "                    <p style='text-align:right'>Fe2_e0 <=> </p>\n",
       "                </td>\n",
       "            </tr><tr>\n",
       "                <td><strong>GPR</strong></td><td></td>\n",
       "            </tr><tr>\n",
       "                <td><strong>Lower bound</strong></td><td>-1000.0</td>\n",
       "            </tr><tr>\n",
       "                <td><strong>Upper bound</strong></td><td>1000.0</td>\n",
       "            </tr>\n",
       "        </table>\n",
       "        "
      ],
      "text/plain": [
       "<Reaction EX_cpd10515_e0 at 0x1116202e8>"
      ]
     },
     "execution_count": 32,
     "metadata": {},
     "output_type": "execute_result"
    }
   ],
   "source": [
    "hm01.reactions.EX_cpd10515_e0"
   ]
  },
  {
   "cell_type": "code",
   "execution_count": 69,
   "metadata": {
    "collapsed": false
   },
   "outputs": [
    {
     "data": {
      "text/html": [
       "\n",
       "        <table>\n",
       "            <tr>\n",
       "                <td><strong>Reaction identifier</strong></td><td>EX_cpd10515_e0</td>\n",
       "            </tr><tr>\n",
       "                <td><strong>Name</strong></td><td>EX_Fe2_e0</td>\n",
       "            </tr><tr>\n",
       "                <td><strong>Memory address</strong></td>\n",
       "                <td>0x0113876b00</td>\n",
       "            </tr><tr>\n",
       "                <td><strong>Stoichiometry</strong></td>\n",
       "                <td>\n",
       "                    <p style='text-align:right'>cpd10515_e0 <=> </p>\n",
       "                    <p style='text-align:right'>Fe2_e0 <=> </p>\n",
       "                </td>\n",
       "            </tr><tr>\n",
       "                <td><strong>GPR</strong></td><td></td>\n",
       "            </tr><tr>\n",
       "                <td><strong>Lower bound</strong></td><td>-1000.0</td>\n",
       "            </tr><tr>\n",
       "                <td><strong>Upper bound</strong></td><td>1000.0</td>\n",
       "            </tr>\n",
       "        </table>\n",
       "        "
      ],
      "text/plain": [
       "<Reaction EX_cpd10515_e0 at 0x113876b00>"
      ]
     },
     "execution_count": 69,
     "metadata": {},
     "output_type": "execute_result"
    }
   ],
   "source": [
    "hm07.reactions.EX_cpd10515_e0"
   ]
  },
  {
   "cell_type": "code",
   "execution_count": 94,
   "metadata": {
    "collapsed": false
   },
   "outputs": [
    {
     "data": {
      "text/plain": [
       "0.32294871794871766"
      ]
     },
     "execution_count": 94,
     "metadata": {},
     "output_type": "execute_result"
    }
   ],
   "source": [
    "hm07.reactions.EX_cpd10515_e0.upper_bound = 0.001\n",
    "hm07.reactions.EX_cpd10515_e0.lower_bound = -0.001\n",
    "hm07.optimize().objective_value"
   ]
  },
  {
   "cell_type": "code",
   "execution_count": 96,
   "metadata": {
    "collapsed": false
   },
   "outputs": [
    {
     "data": {
      "text/plain": [
       "0.0"
      ]
     },
     "execution_count": 96,
     "metadata": {},
     "output_type": "execute_result"
    }
   ],
   "source": [
    "hm06.reactions.EX_cpd10515_e0.upper_bound = 0.001\n",
    "hm06.reactions.EX_cpd10515_e0.lower_bound = 0\n",
    "hm06.optimize().objective_value"
   ]
  },
  {
   "cell_type": "markdown",
   "metadata": {},
   "source": [
    "* I think these models are too crude to see differnces between strains like that, or maybe it's my attempts that are too crude\n",
    "* Might still want to come up with a list of reactions that are different between the models\n",
    "* Getting worried about getting meaningful results out of these data"
   ]
  },
  {
   "cell_type": "code",
   "execution_count": null,
   "metadata": {
    "collapsed": true
   },
   "outputs": [],
   "source": []
  }
 ],
 "metadata": {
  "kernelspec": {
   "display_name": "Python 3",
   "language": "python",
   "name": "python3"
  },
  "language_info": {
   "codemirror_mode": {
    "name": "ipython",
    "version": 3
   },
   "file_extension": ".py",
   "mimetype": "text/x-python",
   "name": "python",
   "nbconvert_exporter": "python",
   "pygments_lexer": "ipython3",
   "version": "3.6.0"
  }
 },
 "nbformat": 4,
 "nbformat_minor": 2
}
