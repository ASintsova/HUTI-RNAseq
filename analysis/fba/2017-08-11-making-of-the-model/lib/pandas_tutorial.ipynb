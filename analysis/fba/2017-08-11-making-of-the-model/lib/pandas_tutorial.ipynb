{
 "cells": [
  {
   "cell_type": "markdown",
   "metadata": {},
   "source": [
    "# Reading data from a csv"
   ]
  },
  {
   "cell_type": "code",
   "execution_count": 39,
   "metadata": {
    "collapsed": false
   },
   "outputs": [],
   "source": [
    "import pandas as pd\n",
    "import numpy as np\n",
    "import scipy as ss\n",
    "%matplotlib inline\n",
    "df = pd.read_csv('normalized_counts_core.csv')"
   ]
  },
  {
   "cell_type": "code",
   "execution_count": 57,
   "metadata": {
    "collapsed": false
   },
   "outputs": [
    {
     "data": {
      "text/html": [
       "<div>\n",
       "<table border=\"1\" class=\"dataframe\">\n",
       "  <thead>\n",
       "    <tr style=\"text-align: right;\">\n",
       "      <th></th>\n",
       "      <th>Unnamed: 0</th>\n",
       "      <th>UR1</th>\n",
       "      <th>UTI1</th>\n",
       "      <th>UR3</th>\n",
       "      <th>UTI3</th>\n",
       "      <th>UR6</th>\n",
       "      <th>UTI6</th>\n",
       "      <th>UR7</th>\n",
       "      <th>UTI7</th>\n",
       "      <th>UR14</th>\n",
       "      <th>...</th>\n",
       "      <th>UR56</th>\n",
       "      <th>UTI56</th>\n",
       "      <th>UR57</th>\n",
       "      <th>UTI57</th>\n",
       "      <th>UR66</th>\n",
       "      <th>UTI66</th>\n",
       "      <th>UR68</th>\n",
       "      <th>UTI68</th>\n",
       "      <th>UR86</th>\n",
       "      <th>UTI86</th>\n",
       "    </tr>\n",
       "  </thead>\n",
       "  <tbody>\n",
       "    <tr>\n",
       "      <th>0</th>\n",
       "      <td>14805_sufB_1</td>\n",
       "      <td>883.961971</td>\n",
       "      <td>105.957284</td>\n",
       "      <td>8.074955</td>\n",
       "      <td>2.744961</td>\n",
       "      <td>840.163797</td>\n",
       "      <td>1455.120536</td>\n",
       "      <td>1962.428184</td>\n",
       "      <td>3049.689971</td>\n",
       "      <td>2266.037332</td>\n",
       "      <td>...</td>\n",
       "      <td>2340.879988</td>\n",
       "      <td>339.540669</td>\n",
       "      <td>2422.460042</td>\n",
       "      <td>229.798671</td>\n",
       "      <td>1964.683799</td>\n",
       "      <td>523.941690</td>\n",
       "      <td>501.821950</td>\n",
       "      <td>700.596378</td>\n",
       "      <td>2646.631565</td>\n",
       "      <td>1084.773496</td>\n",
       "    </tr>\n",
       "    <tr>\n",
       "      <th>1</th>\n",
       "      <td>14806_iscA_1</td>\n",
       "      <td>253.550220</td>\n",
       "      <td>15.136755</td>\n",
       "      <td>0.000000</td>\n",
       "      <td>0.000000</td>\n",
       "      <td>359.725304</td>\n",
       "      <td>365.812425</td>\n",
       "      <td>737.343382</td>\n",
       "      <td>759.855414</td>\n",
       "      <td>796.514991</td>\n",
       "      <td>...</td>\n",
       "      <td>936.277835</td>\n",
       "      <td>120.075303</td>\n",
       "      <td>1121.383231</td>\n",
       "      <td>83.563153</td>\n",
       "      <td>724.239587</td>\n",
       "      <td>299.395251</td>\n",
       "      <td>150.457027</td>\n",
       "      <td>251.496136</td>\n",
       "      <td>788.173651</td>\n",
       "      <td>299.583508</td>\n",
       "    </tr>\n",
       "    <tr>\n",
       "      <th>2</th>\n",
       "      <td>14807_hypothetical_protein</td>\n",
       "      <td>728.437314</td>\n",
       "      <td>770.082405</td>\n",
       "      <td>0.000000</td>\n",
       "      <td>0.000000</td>\n",
       "      <td>474.161407</td>\n",
       "      <td>467.426988</td>\n",
       "      <td>643.771887</td>\n",
       "      <td>616.098984</td>\n",
       "      <td>381.452805</td>\n",
       "      <td>...</td>\n",
       "      <td>645.197399</td>\n",
       "      <td>255.790667</td>\n",
       "      <td>898.808229</td>\n",
       "      <td>146.235518</td>\n",
       "      <td>828.052710</td>\n",
       "      <td>74.848813</td>\n",
       "      <td>1249.629198</td>\n",
       "      <td>350.298189</td>\n",
       "      <td>868.466671</td>\n",
       "      <td>381.779705</td>\n",
       "    </tr>\n",
       "  </tbody>\n",
       "</table>\n",
       "<p>3 rows × 27 columns</p>\n",
       "</div>"
      ],
      "text/plain": [
       "                   Unnamed: 0         UR1        UTI1       UR3      UTI3  \\\n",
       "0                14805_sufB_1  883.961971  105.957284  8.074955  2.744961   \n",
       "1                14806_iscA_1  253.550220   15.136755  0.000000  0.000000   \n",
       "2  14807_hypothetical_protein  728.437314  770.082405  0.000000  0.000000   \n",
       "\n",
       "          UR6         UTI6          UR7         UTI7         UR14  \\\n",
       "0  840.163797  1455.120536  1962.428184  3049.689971  2266.037332   \n",
       "1  359.725304   365.812425   737.343382   759.855414   796.514991   \n",
       "2  474.161407   467.426988   643.771887   616.098984   381.452805   \n",
       "\n",
       "      ...              UR56       UTI56         UR57       UTI57         UR66  \\\n",
       "0     ...       2340.879988  339.540669  2422.460042  229.798671  1964.683799   \n",
       "1     ...        936.277835  120.075303  1121.383231   83.563153   724.239587   \n",
       "2     ...        645.197399  255.790667   898.808229  146.235518   828.052710   \n",
       "\n",
       "        UTI66         UR68       UTI68         UR86        UTI86  \n",
       "0  523.941690   501.821950  700.596378  2646.631565  1084.773496  \n",
       "1  299.395251   150.457027  251.496136   788.173651   299.583508  \n",
       "2   74.848813  1249.629198  350.298189   868.466671   381.779705  \n",
       "\n",
       "[3 rows x 27 columns]"
      ]
     },
     "execution_count": 57,
     "metadata": {},
     "output_type": "execute_result"
    }
   ],
   "source": [
    "df[:3]"
   ]
  },
  {
   "cell_type": "code",
   "execution_count": 40,
   "metadata": {
    "collapsed": false
   },
   "outputs": [
    {
     "data": {
      "text/plain": [
       "<matplotlib.axes._subplots.AxesSubplot at 0x1140d0080>"
      ]
     },
     "execution_count": 40,
     "metadata": {},
     "output_type": "execute_result"
    },
    {
     "data": {
      "image/png": "[encoded data removed]",
      "text/plain": [
       "<matplotlib.figure.Figure at 0x119f0bfd0>"
      ]
     },
     "metadata": {},
     "output_type": "display_data"
    }
   ],
   "source": [
    "df['UTI1'].hist()"
   ]
  },
  {
   "cell_type": "code",
   "execution_count": 38,
   "metadata": {
    "collapsed": false
   },
   "outputs": [
    {
     "data": {
      "text/plain": [
       "(2502, 27)"
      ]
     },
     "execution_count": 38,
     "metadata": {},
     "output_type": "execute_result"
    }
   ],
   "source": [
    "df.shape"
   ]
  },
  {
   "cell_type": "code",
   "execution_count": 10,
   "metadata": {
    "collapsed": false
   },
   "outputs": [],
   "source": [
    "uti1 = df['UTI1']"
   ]
  },
  {
   "cell_type": "code",
   "execution_count": 61,
   "metadata": {
    "collapsed": false
   },
   "outputs": [
    {
     "data": {
      "text/plain": [
       "0    105.957284\n",
       "1     15.136755\n",
       "2    770.082405\n",
       "3     96.496812\n",
       "4      3.784189\n",
       "Name: UTI1, dtype: float64"
      ]
     },
     "execution_count": 61,
     "metadata": {},
     "output_type": "execute_result"
    }
   ],
   "source": [
    "uti1.head()"
   ]
  },
  {
   "cell_type": "code",
   "execution_count": 62,
   "metadata": {
    "collapsed": false
   },
   "outputs": [],
   "source": [
    "uti1_log = uti1_l = np.log2(uti1+1)"
   ]
  },
  {
   "cell_type": "code",
   "execution_count": 63,
   "metadata": {
    "collapsed": false
   },
   "outputs": [
    {
     "data": {
      "text/plain": [
       "0    6.740891\n",
       "1    4.012279\n",
       "2    9.590741\n",
       "3    6.607283\n",
       "4    2.258274\n",
       "Name: UTI1, dtype: float64"
      ]
     },
     "execution_count": 63,
     "metadata": {},
     "output_type": "execute_result"
    }
   ],
   "source": [
    "uti1_log.head()"
   ]
  },
  {
   "cell_type": "code",
   "execution_count": 65,
   "metadata": {
    "collapsed": false
   },
   "outputs": [
    {
     "data": {
      "text/plain": [
       "<matplotlib.axes._subplots.AxesSubplot at 0x114e86cf8>"
      ]
     },
     "execution_count": 65,
     "metadata": {},
     "output_type": "execute_result"
    },
    {
     "data": {
      "image/png": "[encoded data removed]",
      "text/plain": [
       "<matplotlib.figure.Figure at 0x114dd34e0>"
      ]
     },
     "metadata": {},
     "output_type": "display_data"
    }
   ],
   "source": [
    "\n",
    "uti1_log.hist()"
   ]
  },
  {
   "cell_type": "code",
   "execution_count": 69,
   "metadata": {
    "collapsed": false
   },
   "outputs": [
    {
     "data": {
      "text/plain": [
       "23     6582.596278\n",
       "24     4688.609824\n",
       "25    55493.235484\n",
       "42     5048.107752\n",
       "57     4071.787063\n",
       "Name: UTI1, dtype: float64"
      ]
     },
     "execution_count": 69,
     "metadata": {},
     "output_type": "execute_result"
    }
   ],
   "source": [
    "#percentage of values below certaion value\n",
    "top20 = uti1[uti1 > uti1.quantile(0.8)]\n",
    "top20.head()"
   ]
  },
  {
   "cell_type": "code",
   "execution_count": 71,
   "metadata": {
    "collapsed": false
   },
   "outputs": [
    {
     "data": {
      "text/plain": [
       "0     6.740891\n",
       "2     9.590741\n",
       "3     6.607283\n",
       "6     5.536372\n",
       "14    6.688923\n",
       "Name: UTI1, dtype: float64"
      ]
     },
     "execution_count": 71,
     "metadata": {},
     "output_type": "execute_result"
    }
   ],
   "source": [
    "top20_l = uti1_log[uti1_log > uti1_log.quantile(0.2)]\n",
    "top20_l.head()"
   ]
  },
  {
   "cell_type": "code",
   "execution_count": 7,
   "metadata": {
    "collapsed": false
   },
   "outputs": [
    {
     "data": {
      "text/plain": [
       "array([ 5.,  1.,  4.,  2.,  3.])"
      ]
     },
     "execution_count": 7,
     "metadata": {},
     "output_type": "execute_result"
    }
   ],
   "source": [
    "#inverse normalization\n",
    "#R qnorm is scipy.stats.norm.ppf()\n",
    "import scipy.stats\n",
    "x = [10, 1,7, 3, 5]\n",
    "scipy.stats.stats.rankdata(x)"
   ]
  },
  {
   "cell_type": "code",
   "execution_count": 16,
   "metadata": {
    "collapsed": false
   },
   "outputs": [
    {
     "name": "stdout",
     "output_type": "stream",
     "text": [
      "0    105.957284\n",
      "1     15.136755\n",
      "2    770.082405\n",
      "3     96.496812\n",
      "4      3.784189\n",
      "Name: UTI1, dtype: float64\n",
      "[ 4.  2.  5.  3.  1.]\n",
      "0    4.0\n",
      "1    2.0\n",
      "2    5.0\n",
      "3    3.0\n",
      "4    1.0\n",
      "Name: UTI1, dtype: float64\n"
     ]
    }
   ],
   "source": [
    "x = uti1.head()\n",
    "print(x)\n",
    "print(scipy.stats.stats.rankdata(x))\n",
    "print(x.rank())"
   ]
  },
  {
   "cell_type": "code",
   "execution_count": 26,
   "metadata": {
    "collapsed": false
   },
   "outputs": [],
   "source": [
    "def invnorm(x):\n",
    "    return scipy.stats.norm.ppf((x.rank() -0.5)/x.count())"
   ]
  },
  {
   "cell_type": "code",
   "execution_count": 27,
   "metadata": {
    "collapsed": false
   },
   "outputs": [
    {
     "name": "stdout",
     "output_type": "stream",
     "text": [
      "[ 0.52440051 -0.52440051  1.28155157  0.         -1.28155157]\n"
     ]
    }
   ],
   "source": [
    "print(invnorm(x))"
   ]
  },
  {
   "cell_type": "code",
   "execution_count": 34,
   "metadata": {
    "collapsed": false
   },
   "outputs": [],
   "source": [
    "huti_norm = pd.Series(invnorm(uti1))"
   ]
  },
  {
   "cell_type": "code",
   "execution_count": 41,
   "metadata": {
    "collapsed": false
   },
   "outputs": [
    {
     "data": {
      "text/plain": [
       "<matplotlib.axes._subplots.AxesSubplot at 0x1145b92b0>"
      ]
     },
     "execution_count": 41,
     "metadata": {},
     "output_type": "execute_result"
    },
    {
     "data": {
      "image/png": "[encoded data removed]",
      "text/plain": [
       "<matplotlib.figure.Figure at 0x119f4e400>"
      ]
     },
     "metadata": {},
     "output_type": "display_data"
    }
   ],
   "source": [
    "huti_norm.hist()"
   ]
  },
  {
   "cell_type": "code",
   "execution_count": 42,
   "metadata": {
    "collapsed": false
   },
   "outputs": [
    {
     "data": {
      "text/plain": [
       "-2.3742228860654997"
      ]
     },
     "execution_count": 42,
     "metadata": {},
     "output_type": "execute_result"
    }
   ],
   "source": [
    "huti_norm.min()"
   ]
  },
  {
   "cell_type": "code",
   "execution_count": 44,
   "metadata": {
    "collapsed": false
   },
   "outputs": [
    {
     "data": {
      "text/plain": [
       "1.1829035442050935"
      ]
     },
     "execution_count": 44,
     "metadata": {},
     "output_type": "execute_result"
    }
   ],
   "source": [
    "(huti_norm.max() - huti_norm.min())/5"
   ]
  },
  {
   "cell_type": "code",
   "execution_count": 48,
   "metadata": {
    "collapsed": false
   },
   "outputs": [
    {
     "data": {
      "text/plain": [
       "1250"
      ]
     },
     "execution_count": 48,
     "metadata": {},
     "output_type": "execute_result"
    }
   ],
   "source": [
    "len(huti_norm[huti_norm > huti_norm.quantile(0.5)])"
   ]
  },
  {
   "cell_type": "code",
   "execution_count": null,
   "metadata": {
    "collapsed": true
   },
   "outputs": [],
   "source": []
  }
 ],
 "metadata": {
  "kernelspec": {
   "display_name": "Python 3",
   "language": "python",
   "name": "python3"
  },
  "language_info": {
   "codemirror_mode": {
    "name": "ipython",
    "version": 3
   },
   "file_extension": ".py",
   "mimetype": "text/x-python",
   "name": "python",
   "nbconvert_exporter": "python",
   "pygments_lexer": "ipython3",
   "version": "3.6.0"
  }
 },
 "nbformat": 4,
 "nbformat_minor": 2
}
